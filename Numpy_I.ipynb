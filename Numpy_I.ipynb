{
 "cells": [
  {
   "cell_type": "markdown",
   "metadata": {},
   "source": [
    "<p><img alt=\"Colaboratory logo\" height=\"140px\" src=\"https://upload.wikimedia.org/wikipedia/commons/archive/f/fb/20161010213812%21Escudo-UdeA.svg\" align=\"left\" hspace=\"10px\" vspace=\"0px\"></p>\n",
    "\n",
    "# **Fundamentos de programación**\n",
    "\n",
    "\n",
    "El presente curso hace parte de la especialización de analítica y ciencia de datos de la facultad de Ingeniería de la Universidad de Antioquia.\n",
    "\n",
    "## **Sesión 1**\n",
    "\n",
    "## **Contenido**\n",
    "  \n",
    "- <a href=\"#num\"> NumPy</a><br>\n",
    "- <a href=\"#arr\"> Arreglos en NumPy</a><br>\n",
    "- <a href=\"#ope\"> Operaciones sobre los arreglos</a><br>\n",
    "- <a href=\"#apeA\"> Apéndice A: Iteradores útiles</a><br>"
   ]
  },
  {
   "cell_type": "markdown",
   "metadata": {
    "id": "_xWT5B3cZ5ks"
   },
   "source": [
    "\n",
    "\n",
    "La implementación estándar de Python está escrita en C. Esto significa que cada objeto de Python es simplemente una estructura de C, que contiene no solo su valor, sino también otra información. Ya hemos visto que cuando definimos una variable, esta es en realidad un puntero a una estructura compuesta de C, que contiene ciertos valores diferentes: referencia, tipo, tamaño, valor, etc."
   ]
  },
  {
   "cell_type": "markdown",
   "metadata": {
    "id": "B5RKnXOzfP5s"
   },
   "source": [
    "![variables in C](https://i.imgur.com/0RQOTQ0.png)"
   ]
  },
  {
   "cell_type": "markdown",
   "metadata": {
    "id": "8_zvefG5f0Za"
   },
   "source": [
    "![](https://i.imgur.com/F3IQqwE.png)"
   ]
  },
  {
   "cell_type": "markdown",
   "metadata": {
    "id": "S1_inYh9aNRD"
   },
   "source": [
    "Recordemos que en Python, al ser un lenguaje de tipado dinámico, podemos generar listas donde cada uno de sus elementos pueden ser de cualquier tipo"
   ]
  },
  {
   "cell_type": "code",
   "execution_count": null,
   "metadata": {
    "colab": {
     "base_uri": "https://localhost:8080/"
    },
    "executionInfo": {
     "elapsed": 455,
     "status": "ok",
     "timestamp": 1614294386058,
     "user": {
      "displayName": "TOMAS ATEHORTUA GARCES",
      "photoUrl": "https://lh3.googleusercontent.com/a-/AOh14GiGUkLq_6mwruABeXaI8xmUG-KPkEhgDSRuZWdyX1j7hNt8Z-yCExqYGFCLuwvMj7zTVeub2OuFYZR29r5hkTsfiDEL1tqYzm60iLg2DEgMVvX35Zo9Uz7QJq0dqlGrLNEAVbemjjn93d40XCEJTwmOPB3kpTAb2ky8_ULMrmsodtB_EArqFi34NGnjOgjpzYcZ90huWvh9DEZvpBNR7GEhDgBIJbO65BKwozX2y7h-yx3FUax1ajs0VHIgMi-rcD8MY4NgYSwU9xUf2HK69MZXINIXkp_ZaIClJcK_-s12BblCct81iXeX1hUJnfPAbAeeCFZrMnC9r0ce9dc2KA2FNLUhvEsSLiPVlGLUzi7UlTY0UXq5tDmMlrxvpxa92G2pPcrnu5sxmAATqpQE-pfl-eLcyWrh2DSZxEHjCdoKf7qvMNIhY96ukne4vRd45V35Lhcl6RrOD0FUEnj5cWNHrLjHxw1-JkDTfKYNPTwiAabq_TarMBwHgl6Oe6KOS4Kvrhcs6eH3BI8KZys8cP5YUJLDvelreCppdJbXuAeqTXiS7SLmVKgZqfj3Gfzi0PKw0bg3i6bl6wJBuXwLw47iB8tDlZpTPbGTFl5mGwO7k_F19XDCwNdDuQY6V-oSgjwj9C0xI0prWm_fcfCjNbD1YIHSdN2YLHcl5ckZ6WEY5_oo0cheOmm2xcYa7Foni8ByHps5i2_Jp8KBmbs-fX4HpuklhVtB5NKJ_N1Yccs1q_EGXop09ekW-1QAYRKg92BEQi4=s64",
      "userId": "03427284999883076130"
     },
     "user_tz": 300
    },
    "id": "f5AnsypNaN6E",
    "outputId": "7205b177-485f-41b5-a345-749a1793be75"
   },
   "outputs": [
    {
     "data": {
      "text/plain": [
       "[bool, str, float, int]"
      ]
     },
     "execution_count": 8,
     "metadata": {
      "tags": []
     },
     "output_type": "execute_result"
    }
   ],
   "source": [
    "L = [True, \"2\", 3.0, 4]\n",
    "\n",
    "[type(i) for i in L]"
   ]
  },
  {
   "cell_type": "markdown",
   "metadata": {
    "id": "Wke-LRAzaLsy"
   },
   "source": [
    "Esta flexibilidad tiene un costo: cada elemento de la lista debe contener su propia información, es decir, cada elemento es un objeto completo de Python. En el caso especial en que todas las variables sean del mismo tipo, gran parte de esta información es redundante: puede ser mucho más eficiente almacenar datos en una lista de tipo homogéneo. Python ofrece diferentes opciones para almacenar datos de esta manera (por ejemplo a través del módulo `array`). Sin embargo, la mejor manera de generar este tipo de objetos es a través de la libreria NumPy.\n",
    "\n"
   ]
  },
  {
   "cell_type": "markdown",
   "metadata": {
    "id": "UnwBij2FYLC8"
   },
   "source": [
    "<p><a name=\"num\"></a></p>\n",
    "\n",
    "## **NumPy** (Numerical Python)\n",
    "\n",
    "En el núcleo de la mayoría de los problemas encontramos un **arreglo**. Desde el punto de vista computacional, un arreglo es un bloque contiguo de memoria donde cada elemento tiene el mismo tipo.\n",
    "\n",
    "Los diferentes lenguajes de programación utilizados en computación científica tienen alguna noción de manejo de datos basado en arreglos, ya sea integrado en el lenguaje propio o a través de paquetes proporcionados por terceros.\n",
    "\n",
    "NumPy es el paquete fundamental para la computación científica en Python. Es una libreria de Python que proporciona herramientas para la generación de arreglos y una variedad de funcionalidades para realizar operaciones sobre estos, que generalmente se realizan de una manera más eficiente que lo que se puede lograr con funcionalidades propias de Python. NumPy sirve como bloque básico para una gran cantidad de paquetes científicos y de análisis de datos.\n",
    "\n",
    "En el núcleo de NumPy, está el objeto `ndarray` (n-dimensional array). Este encapsula arreglos n-dimensionales de tipos de datos homogéneos, con muchas operaciones que se realizan en código compilado, con lo cual se mejora el rendimiento significativamente. La diferencia entre una lista de tipo dinámico y un arreglo de tipo fijo (al estilo NumPy) se ilustra en la siguiente figura:\n",
    "\n"
   ]
  },
  {
   "cell_type": "markdown",
   "metadata": {
    "id": "DubMLI8uYZsv"
   },
   "source": [
    "<p><img alt=\"Colaboratory logo\" height=\"350px\" src=\"https://i.imgur.com/8EbyB0c.png\" align=\"left\" hspace=\"10px\" vspace=\"0px\"></p>"
   ]
  },
  {
   "cell_type": "markdown",
   "metadata": {
    "id": "23kiqlTudyki"
   },
   "source": [
    "Al nivel de implementación, el arreglo contiene esencialmente un puntero único a un bloque contiguo de datos. La lista de Python, por otro lado, contiene un puntero a un bloque de punteros, cada uno de los cuales a su vez apunta a un objeto completo de Python como el entero de Python que vimos anteriormente.\n",
    "\n",
    "En resumen, estas son las diferencias más importantes entre los arreglos de NumPy y las secuencias estándar de Python:\n",
    "\n",
    "* Todos los elementos en un arreglo de NumPy deben ser del mismo tipo de dato y, por lo tanto, tendrán el mismo tamaño en memoria.\n",
    "* Los arreglos de NumPy tienen un tamaño fijo en la creación, a diferencia de las listas de Python (que pueden crecer dinámicamente). Cambiar el tamaño de un `ndarray` creará un nuevo arreglo y eliminará el original.\n",
    "* Los arreglos de NumPy facilitan operaciones avanzadas matemáticas y de otro tipo en grandes cantidades de datos. Típicamente, tales operaciones se ejecutan de manera más eficiente que usando las secuencias integradas de Python.\n",
    "\n"
   ]
  },
  {
   "cell_type": "markdown",
   "metadata": {
    "id": "epJPd5nVibfR"
   },
   "source": [
    "<p><a name=\"arr\"></a></p>\n",
    "\n",
    "# **Arreglos en Numpy**\n",
    "\n",
    "Por convención, la librería NumPy se import con el alias `np`"
   ]
  },
  {
   "cell_type": "code",
   "execution_count": null,
   "metadata": {
    "id": "jayLcM0ugkUT"
   },
   "outputs": [],
   "source": [
    "# from numpy import *\n",
    "# from numpy import array"
   ]
  },
  {
   "cell_type": "code",
   "execution_count": null,
   "metadata": {
    "id": "uzi2rEa5jtcj"
   },
   "outputs": [],
   "source": [
    "import numpy as np\n"
   ]
  },
  {
   "cell_type": "markdown",
   "metadata": {
    "id": "HaDPZCKyiiHx"
   },
   "source": [
    "Podemos construir un objeto `ndarray`, a partir de una lista de Python, mediante el constructor `array`:\n"
   ]
  },
  {
   "cell_type": "code",
   "execution_count": null,
   "metadata": {
    "id": "3WVZXH0Hikpx"
   },
   "outputs": [],
   "source": [
    "arreglo =  np.array( [1, 2, 3])"
   ]
  },
  {
   "cell_type": "code",
   "execution_count": null,
   "metadata": {
    "colab": {
     "base_uri": "https://localhost:8080/"
    },
    "executionInfo": {
     "elapsed": 403,
     "status": "ok",
     "timestamp": 1614294806273,
     "user": {
      "displayName": "TOMAS ATEHORTUA GARCES",
      "photoUrl": "https://lh3.googleusercontent.com/a-/AOh14GiGUkLq_6mwruABeXaI8xmUG-KPkEhgDSRuZWdyX1j7hNt8Z-yCExqYGFCLuwvMj7zTVeub2OuFYZR29r5hkTsfiDEL1tqYzm60iLg2DEgMVvX35Zo9Uz7QJq0dqlGrLNEAVbemjjn93d40XCEJTwmOPB3kpTAb2ky8_ULMrmsodtB_EArqFi34NGnjOgjpzYcZ90huWvh9DEZvpBNR7GEhDgBIJbO65BKwozX2y7h-yx3FUax1ajs0VHIgMi-rcD8MY4NgYSwU9xUf2HK69MZXINIXkp_ZaIClJcK_-s12BblCct81iXeX1hUJnfPAbAeeCFZrMnC9r0ce9dc2KA2FNLUhvEsSLiPVlGLUzi7UlTY0UXq5tDmMlrxvpxa92G2pPcrnu5sxmAATqpQE-pfl-eLcyWrh2DSZxEHjCdoKf7qvMNIhY96ukne4vRd45V35Lhcl6RrOD0FUEnj5cWNHrLjHxw1-JkDTfKYNPTwiAabq_TarMBwHgl6Oe6KOS4Kvrhcs6eH3BI8KZys8cP5YUJLDvelreCppdJbXuAeqTXiS7SLmVKgZqfj3Gfzi0PKw0bg3i6bl6wJBuXwLw47iB8tDlZpTPbGTFl5mGwO7k_F19XDCwNdDuQY6V-oSgjwj9C0xI0prWm_fcfCjNbD1YIHSdN2YLHcl5ckZ6WEY5_oo0cheOmm2xcYa7Foni8ByHps5i2_Jp8KBmbs-fX4HpuklhVtB5NKJ_N1Yccs1q_EGXop09ekW-1QAYRKg92BEQi4=s64",
      "userId": "03427284999883076130"
     },
     "user_tz": 300
    },
    "id": "i02ZlSioZHiJ",
    "outputId": "902c5097-42d4-4813-d428-90ddd7866d1a"
   },
   "outputs": [
    {
     "name": "stdout",
     "output_type": "stream",
     "text": [
      "[1 2 3]\n"
     ]
    }
   ],
   "source": [
    "print(arreglo)"
   ]
  },
  {
   "cell_type": "code",
   "execution_count": null,
   "metadata": {
    "colab": {
     "base_uri": "https://localhost:8080/"
    },
    "executionInfo": {
     "elapsed": 472,
     "status": "ok",
     "timestamp": 1614294886636,
     "user": {
      "displayName": "TOMAS ATEHORTUA GARCES",
      "photoUrl": "https://lh3.googleusercontent.com/a-/AOh14GiGUkLq_6mwruABeXaI8xmUG-KPkEhgDSRuZWdyX1j7hNt8Z-yCExqYGFCLuwvMj7zTVeub2OuFYZR29r5hkTsfiDEL1tqYzm60iLg2DEgMVvX35Zo9Uz7QJq0dqlGrLNEAVbemjjn93d40XCEJTwmOPB3kpTAb2ky8_ULMrmsodtB_EArqFi34NGnjOgjpzYcZ90huWvh9DEZvpBNR7GEhDgBIJbO65BKwozX2y7h-yx3FUax1ajs0VHIgMi-rcD8MY4NgYSwU9xUf2HK69MZXINIXkp_ZaIClJcK_-s12BblCct81iXeX1hUJnfPAbAeeCFZrMnC9r0ce9dc2KA2FNLUhvEsSLiPVlGLUzi7UlTY0UXq5tDmMlrxvpxa92G2pPcrnu5sxmAATqpQE-pfl-eLcyWrh2DSZxEHjCdoKf7qvMNIhY96ukne4vRd45V35Lhcl6RrOD0FUEnj5cWNHrLjHxw1-JkDTfKYNPTwiAabq_TarMBwHgl6Oe6KOS4Kvrhcs6eH3BI8KZys8cP5YUJLDvelreCppdJbXuAeqTXiS7SLmVKgZqfj3Gfzi0PKw0bg3i6bl6wJBuXwLw47iB8tDlZpTPbGTFl5mGwO7k_F19XDCwNdDuQY6V-oSgjwj9C0xI0prWm_fcfCjNbD1YIHSdN2YLHcl5ckZ6WEY5_oo0cheOmm2xcYa7Foni8ByHps5i2_Jp8KBmbs-fX4HpuklhVtB5NKJ_N1Yccs1q_EGXop09ekW-1QAYRKg92BEQi4=s64",
      "userId": "03427284999883076130"
     },
     "user_tz": 300
    },
    "id": "vf6J7l6YecI_",
    "outputId": "8ceb8539-e9d0-448a-dd19-86327ae8b5ae"
   },
   "outputs": [
    {
     "data": {
      "text/plain": [
       "numpy.ndarray"
      ]
     },
     "execution_count": 13,
     "metadata": {
      "tags": []
     },
     "output_type": "execute_result"
    }
   ],
   "source": [
    "type(arreglo)"
   ]
  },
  {
   "cell_type": "markdown",
   "metadata": {
    "id": "eM0gLkqZiqps"
   },
   "source": [
    "El objeto `ndarray` representa efectivamente un bloque de memoria de tamaño fijo, el cual contiene una serie de atributos y métodos que definen su estructura. Veamos algunos de los atributos más importantes de este objeto:\n",
    "\n",
    "### **dtype:**\n",
    "\n",
    "El tipo de dato (data type) es el atributo más importante. Este determina el tamaño y el significado de cada elemento del arreglo. El sistema predeterminado de dtypes que proporciona NumPy (ver siguiente imagen) es más preciso y más amplio para los tipos básicos que el sistema de tipos que implementa el lenguaje Python. Podemos ver el data type como `arreglo.dtype`"
   ]
  },
  {
   "cell_type": "code",
   "execution_count": null,
   "metadata": {
    "colab": {
     "base_uri": "https://localhost:8080/"
    },
    "executionInfo": {
     "elapsed": 387,
     "status": "ok",
     "timestamp": 1614294919355,
     "user": {
      "displayName": "TOMAS ATEHORTUA GARCES",
      "photoUrl": "https://lh3.googleusercontent.com/a-/AOh14GiGUkLq_6mwruABeXaI8xmUG-KPkEhgDSRuZWdyX1j7hNt8Z-yCExqYGFCLuwvMj7zTVeub2OuFYZR29r5hkTsfiDEL1tqYzm60iLg2DEgMVvX35Zo9Uz7QJq0dqlGrLNEAVbemjjn93d40XCEJTwmOPB3kpTAb2ky8_ULMrmsodtB_EArqFi34NGnjOgjpzYcZ90huWvh9DEZvpBNR7GEhDgBIJbO65BKwozX2y7h-yx3FUax1ajs0VHIgMi-rcD8MY4NgYSwU9xUf2HK69MZXINIXkp_ZaIClJcK_-s12BblCct81iXeX1hUJnfPAbAeeCFZrMnC9r0ce9dc2KA2FNLUhvEsSLiPVlGLUzi7UlTY0UXq5tDmMlrxvpxa92G2pPcrnu5sxmAATqpQE-pfl-eLcyWrh2DSZxEHjCdoKf7qvMNIhY96ukne4vRd45V35Lhcl6RrOD0FUEnj5cWNHrLjHxw1-JkDTfKYNPTwiAabq_TarMBwHgl6Oe6KOS4Kvrhcs6eH3BI8KZys8cP5YUJLDvelreCppdJbXuAeqTXiS7SLmVKgZqfj3Gfzi0PKw0bg3i6bl6wJBuXwLw47iB8tDlZpTPbGTFl5mGwO7k_F19XDCwNdDuQY6V-oSgjwj9C0xI0prWm_fcfCjNbD1YIHSdN2YLHcl5ckZ6WEY5_oo0cheOmm2xcYa7Foni8ByHps5i2_Jp8KBmbs-fX4HpuklhVtB5NKJ_N1Yccs1q_EGXop09ekW-1QAYRKg92BEQi4=s64",
      "userId": "03427284999883076130"
     },
     "user_tz": 300
    },
    "id": "ELCQ7Lwmi3mh",
    "outputId": "e2085b8e-1d78-4de9-98c2-31b6e323bc9e"
   },
   "outputs": [
    {
     "data": {
      "text/plain": [
       "dtype('int64')"
      ]
     },
     "execution_count": 14,
     "metadata": {
      "tags": []
     },
     "output_type": "execute_result"
    }
   ],
   "source": [
    "arreglo.dtype"
   ]
  },
  {
   "cell_type": "markdown",
   "metadata": {
    "id": "UJ7-gnp7iyxz"
   },
   "source": [
    "<p><img alt=\"Colaboratory logo\" height=\"400px\" src=\"https://i.imgur.com/2RpU9w1.png\" align=\"left\" hspace=\"10px\" vspace=\"0px\"></p>"
   ]
  },
  {
   "cell_type": "code",
   "execution_count": null,
   "metadata": {
    "colab": {
     "base_uri": "https://localhost:8080/"
    },
    "executionInfo": {
     "elapsed": 396,
     "status": "ok",
     "timestamp": 1614295025697,
     "user": {
      "displayName": "TOMAS ATEHORTUA GARCES",
      "photoUrl": "https://lh3.googleusercontent.com/a-/AOh14GiGUkLq_6mwruABeXaI8xmUG-KPkEhgDSRuZWdyX1j7hNt8Z-yCExqYGFCLuwvMj7zTVeub2OuFYZR29r5hkTsfiDEL1tqYzm60iLg2DEgMVvX35Zo9Uz7QJq0dqlGrLNEAVbemjjn93d40XCEJTwmOPB3kpTAb2ky8_ULMrmsodtB_EArqFi34NGnjOgjpzYcZ90huWvh9DEZvpBNR7GEhDgBIJbO65BKwozX2y7h-yx3FUax1ajs0VHIgMi-rcD8MY4NgYSwU9xUf2HK69MZXINIXkp_ZaIClJcK_-s12BblCct81iXeX1hUJnfPAbAeeCFZrMnC9r0ce9dc2KA2FNLUhvEsSLiPVlGLUzi7UlTY0UXq5tDmMlrxvpxa92G2pPcrnu5sxmAATqpQE-pfl-eLcyWrh2DSZxEHjCdoKf7qvMNIhY96ukne4vRd45V35Lhcl6RrOD0FUEnj5cWNHrLjHxw1-JkDTfKYNPTwiAabq_TarMBwHgl6Oe6KOS4Kvrhcs6eH3BI8KZys8cP5YUJLDvelreCppdJbXuAeqTXiS7SLmVKgZqfj3Gfzi0PKw0bg3i6bl6wJBuXwLw47iB8tDlZpTPbGTFl5mGwO7k_F19XDCwNdDuQY6V-oSgjwj9C0xI0prWm_fcfCjNbD1YIHSdN2YLHcl5ckZ6WEY5_oo0cheOmm2xcYa7Foni8ByHps5i2_Jp8KBmbs-fX4HpuklhVtB5NKJ_N1Yccs1q_EGXop09ekW-1QAYRKg92BEQi4=s64",
      "userId": "03427284999883076130"
     },
     "user_tz": 300
    },
    "id": "ecUM9kPZemaR",
    "outputId": "9253adfc-1451-46bd-82a5-cd149ecd0134"
   },
   "outputs": [
    {
     "name": "stdout",
     "output_type": "stream",
     "text": [
      "[1. 2. 3.]\n"
     ]
    },
    {
     "data": {
      "text/plain": [
       "dtype('float16')"
      ]
     },
     "execution_count": 16,
     "metadata": {
      "tags": []
     },
     "output_type": "execute_result"
    }
   ],
   "source": [
    "arreglo =  np.array( [1, 2, 3], dtype= 'float16')\n",
    "print(arreglo)\n",
    "arreglo.dtype"
   ]
  },
  {
   "cell_type": "markdown",
   "metadata": {
    "id": "zRymWwMTiz1Z"
   },
   "source": [
    "### **shape:**\n",
    "\n",
    "Atributo que devuelve una tupla de enteros que representa el rango a lo largo de cada dimensión de los arreglos n-dimensionales."
   ]
  },
  {
   "cell_type": "code",
   "execution_count": null,
   "metadata": {
    "colab": {
     "base_uri": "https://localhost:8080/"
    },
    "executionInfo": {
     "elapsed": 445,
     "status": "ok",
     "timestamp": 1614295250699,
     "user": {
      "displayName": "TOMAS ATEHORTUA GARCES",
      "photoUrl": "https://lh3.googleusercontent.com/a-/AOh14GiGUkLq_6mwruABeXaI8xmUG-KPkEhgDSRuZWdyX1j7hNt8Z-yCExqYGFCLuwvMj7zTVeub2OuFYZR29r5hkTsfiDEL1tqYzm60iLg2DEgMVvX35Zo9Uz7QJq0dqlGrLNEAVbemjjn93d40XCEJTwmOPB3kpTAb2ky8_ULMrmsodtB_EArqFi34NGnjOgjpzYcZ90huWvh9DEZvpBNR7GEhDgBIJbO65BKwozX2y7h-yx3FUax1ajs0VHIgMi-rcD8MY4NgYSwU9xUf2HK69MZXINIXkp_ZaIClJcK_-s12BblCct81iXeX1hUJnfPAbAeeCFZrMnC9r0ce9dc2KA2FNLUhvEsSLiPVlGLUzi7UlTY0UXq5tDmMlrxvpxa92G2pPcrnu5sxmAATqpQE-pfl-eLcyWrh2DSZxEHjCdoKf7qvMNIhY96ukne4vRd45V35Lhcl6RrOD0FUEnj5cWNHrLjHxw1-JkDTfKYNPTwiAabq_TarMBwHgl6Oe6KOS4Kvrhcs6eH3BI8KZys8cP5YUJLDvelreCppdJbXuAeqTXiS7SLmVKgZqfj3Gfzi0PKw0bg3i6bl6wJBuXwLw47iB8tDlZpTPbGTFl5mGwO7k_F19XDCwNdDuQY6V-oSgjwj9C0xI0prWm_fcfCjNbD1YIHSdN2YLHcl5ckZ6WEY5_oo0cheOmm2xcYa7Foni8ByHps5i2_Jp8KBmbs-fX4HpuklhVtB5NKJ_N1Yccs1q_EGXop09ekW-1QAYRKg92BEQi4=s64",
      "userId": "03427284999883076130"
     },
     "user_tz": 300
    },
    "id": "g6i1EdbJbSho",
    "outputId": "938e500a-2e57-44b0-b8af-cd253362674b"
   },
   "outputs": [
    {
     "data": {
      "text/plain": [
       "(4,)"
      ]
     },
     "execution_count": 24,
     "metadata": {
      "tags": []
     },
     "output_type": "execute_result"
    }
   ],
   "source": [
    "l = [[1,2], [3,4]]\n",
    "arr2 = np.array(l)\n",
    "arr = np.array([1, 2, 3, 4])\n",
    "arr.shape"
   ]
  },
  {
   "cell_type": "markdown",
   "metadata": {
    "id": "yd60isKPjCuB"
   },
   "source": [
    "La forma `(4,)`, nos dice que `l` es un arreglo unidimensional, donde la dimensión tiene un rango 4. La dimensión y el número de elementos del arreglo se pueden obtener mediante los atributos `ndim` y `size`, respectivamente:"
   ]
  },
  {
   "cell_type": "code",
   "execution_count": null,
   "metadata": {
    "colab": {
     "base_uri": "https://localhost:8080/"
    },
    "executionInfo": {
     "elapsed": 423,
     "status": "ok",
     "timestamp": 1614295200878,
     "user": {
      "displayName": "TOMAS ATEHORTUA GARCES",
      "photoUrl": "https://lh3.googleusercontent.com/a-/AOh14GiGUkLq_6mwruABeXaI8xmUG-KPkEhgDSRuZWdyX1j7hNt8Z-yCExqYGFCLuwvMj7zTVeub2OuFYZR29r5hkTsfiDEL1tqYzm60iLg2DEgMVvX35Zo9Uz7QJq0dqlGrLNEAVbemjjn93d40XCEJTwmOPB3kpTAb2ky8_ULMrmsodtB_EArqFi34NGnjOgjpzYcZ90huWvh9DEZvpBNR7GEhDgBIJbO65BKwozX2y7h-yx3FUax1ajs0VHIgMi-rcD8MY4NgYSwU9xUf2HK69MZXINIXkp_ZaIClJcK_-s12BblCct81iXeX1hUJnfPAbAeeCFZrMnC9r0ce9dc2KA2FNLUhvEsSLiPVlGLUzi7UlTY0UXq5tDmMlrxvpxa92G2pPcrnu5sxmAATqpQE-pfl-eLcyWrh2DSZxEHjCdoKf7qvMNIhY96ukne4vRd45V35Lhcl6RrOD0FUEnj5cWNHrLjHxw1-JkDTfKYNPTwiAabq_TarMBwHgl6Oe6KOS4Kvrhcs6eH3BI8KZys8cP5YUJLDvelreCppdJbXuAeqTXiS7SLmVKgZqfj3Gfzi0PKw0bg3i6bl6wJBuXwLw47iB8tDlZpTPbGTFl5mGwO7k_F19XDCwNdDuQY6V-oSgjwj9C0xI0prWm_fcfCjNbD1YIHSdN2YLHcl5ckZ6WEY5_oo0cheOmm2xcYa7Foni8ByHps5i2_Jp8KBmbs-fX4HpuklhVtB5NKJ_N1Yccs1q_EGXop09ekW-1QAYRKg92BEQi4=s64",
      "userId": "03427284999883076130"
     },
     "user_tz": 300
    },
    "id": "zdrD74A-jGhR",
    "outputId": "afce4c3d-0d36-455c-a733-25ae8c2c3679"
   },
   "outputs": [
    {
     "data": {
      "text/plain": [
       "1"
      ]
     },
     "execution_count": 21,
     "metadata": {
      "tags": []
     },
     "output_type": "execute_result"
    }
   ],
   "source": [
    "arr.ndim"
   ]
  },
  {
   "cell_type": "code",
   "execution_count": null,
   "metadata": {
    "colab": {
     "base_uri": "https://localhost:8080/"
    },
    "executionInfo": {
     "elapsed": 440,
     "status": "ok",
     "timestamp": 1614295263525,
     "user": {
      "displayName": "TOMAS ATEHORTUA GARCES",
      "photoUrl": "https://lh3.googleusercontent.com/a-/AOh14GiGUkLq_6mwruABeXaI8xmUG-KPkEhgDSRuZWdyX1j7hNt8Z-yCExqYGFCLuwvMj7zTVeub2OuFYZR29r5hkTsfiDEL1tqYzm60iLg2DEgMVvX35Zo9Uz7QJq0dqlGrLNEAVbemjjn93d40XCEJTwmOPB3kpTAb2ky8_ULMrmsodtB_EArqFi34NGnjOgjpzYcZ90huWvh9DEZvpBNR7GEhDgBIJbO65BKwozX2y7h-yx3FUax1ajs0VHIgMi-rcD8MY4NgYSwU9xUf2HK69MZXINIXkp_ZaIClJcK_-s12BblCct81iXeX1hUJnfPAbAeeCFZrMnC9r0ce9dc2KA2FNLUhvEsSLiPVlGLUzi7UlTY0UXq5tDmMlrxvpxa92G2pPcrnu5sxmAATqpQE-pfl-eLcyWrh2DSZxEHjCdoKf7qvMNIhY96ukne4vRd45V35Lhcl6RrOD0FUEnj5cWNHrLjHxw1-JkDTfKYNPTwiAabq_TarMBwHgl6Oe6KOS4Kvrhcs6eH3BI8KZys8cP5YUJLDvelreCppdJbXuAeqTXiS7SLmVKgZqfj3Gfzi0PKw0bg3i6bl6wJBuXwLw47iB8tDlZpTPbGTFl5mGwO7k_F19XDCwNdDuQY6V-oSgjwj9C0xI0prWm_fcfCjNbD1YIHSdN2YLHcl5ckZ6WEY5_oo0cheOmm2xcYa7Foni8ByHps5i2_Jp8KBmbs-fX4HpuklhVtB5NKJ_N1Yccs1q_EGXop09ekW-1QAYRKg92BEQi4=s64",
      "userId": "03427284999883076130"
     },
     "user_tz": 300
    },
    "id": "NdvtadvbjKOH",
    "outputId": "4cee830d-9817-450a-8d9e-0d222937dd6e"
   },
   "outputs": [
    {
     "data": {
      "text/plain": [
       "4"
      ]
     },
     "execution_count": 26,
     "metadata": {
      "tags": []
     },
     "output_type": "execute_result"
    }
   ],
   "source": [
    "arr2.size"
   ]
  },
  {
   "cell_type": "code",
   "execution_count": null,
   "metadata": {
    "colab": {
     "base_uri": "https://localhost:8080/"
    },
    "executionInfo": {
     "elapsed": 383,
     "status": "ok",
     "timestamp": 1614295255827,
     "user": {
      "displayName": "TOMAS ATEHORTUA GARCES",
      "photoUrl": "https://lh3.googleusercontent.com/a-/AOh14GiGUkLq_6mwruABeXaI8xmUG-KPkEhgDSRuZWdyX1j7hNt8Z-yCExqYGFCLuwvMj7zTVeub2OuFYZR29r5hkTsfiDEL1tqYzm60iLg2DEgMVvX35Zo9Uz7QJq0dqlGrLNEAVbemjjn93d40XCEJTwmOPB3kpTAb2ky8_ULMrmsodtB_EArqFi34NGnjOgjpzYcZ90huWvh9DEZvpBNR7GEhDgBIJbO65BKwozX2y7h-yx3FUax1ajs0VHIgMi-rcD8MY4NgYSwU9xUf2HK69MZXINIXkp_ZaIClJcK_-s12BblCct81iXeX1hUJnfPAbAeeCFZrMnC9r0ce9dc2KA2FNLUhvEsSLiPVlGLUzi7UlTY0UXq5tDmMlrxvpxa92G2pPcrnu5sxmAATqpQE-pfl-eLcyWrh2DSZxEHjCdoKf7qvMNIhY96ukne4vRd45V35Lhcl6RrOD0FUEnj5cWNHrLjHxw1-JkDTfKYNPTwiAabq_TarMBwHgl6Oe6KOS4Kvrhcs6eH3BI8KZys8cP5YUJLDvelreCppdJbXuAeqTXiS7SLmVKgZqfj3Gfzi0PKw0bg3i6bl6wJBuXwLw47iB8tDlZpTPbGTFl5mGwO7k_F19XDCwNdDuQY6V-oSgjwj9C0xI0prWm_fcfCjNbD1YIHSdN2YLHcl5ckZ6WEY5_oo0cheOmm2xcYa7Foni8ByHps5i2_Jp8KBmbs-fX4HpuklhVtB5NKJ_N1Yccs1q_EGXop09ekW-1QAYRKg92BEQi4=s64",
      "userId": "03427284999883076130"
     },
     "user_tz": 300
    },
    "id": "7pjljBLJcYrO",
    "outputId": "655e5b96-7539-4b8f-fe5b-b5d103eb812a"
   },
   "outputs": [
    {
     "data": {
      "text/plain": [
       "2"
      ]
     },
     "execution_count": 25,
     "metadata": {
      "tags": []
     },
     "output_type": "execute_result"
    }
   ],
   "source": [
    "len(arr2)"
   ]
  },
  {
   "cell_type": "markdown",
   "metadata": {
    "id": "BcNv1blEjN0X"
   },
   "source": [
    "Podemos modificar la forma del arreglo modificando el atributo shape:"
   ]
  },
  {
   "cell_type": "code",
   "execution_count": null,
   "metadata": {
    "colab": {
     "base_uri": "https://localhost:8080/"
    },
    "executionInfo": {
     "elapsed": 438,
     "status": "ok",
     "timestamp": 1614295348671,
     "user": {
      "displayName": "TOMAS ATEHORTUA GARCES",
      "photoUrl": "https://lh3.googleusercontent.com/a-/AOh14GiGUkLq_6mwruABeXaI8xmUG-KPkEhgDSRuZWdyX1j7hNt8Z-yCExqYGFCLuwvMj7zTVeub2OuFYZR29r5hkTsfiDEL1tqYzm60iLg2DEgMVvX35Zo9Uz7QJq0dqlGrLNEAVbemjjn93d40XCEJTwmOPB3kpTAb2ky8_ULMrmsodtB_EArqFi34NGnjOgjpzYcZ90huWvh9DEZvpBNR7GEhDgBIJbO65BKwozX2y7h-yx3FUax1ajs0VHIgMi-rcD8MY4NgYSwU9xUf2HK69MZXINIXkp_ZaIClJcK_-s12BblCct81iXeX1hUJnfPAbAeeCFZrMnC9r0ce9dc2KA2FNLUhvEsSLiPVlGLUzi7UlTY0UXq5tDmMlrxvpxa92G2pPcrnu5sxmAATqpQE-pfl-eLcyWrh2DSZxEHjCdoKf7qvMNIhY96ukne4vRd45V35Lhcl6RrOD0FUEnj5cWNHrLjHxw1-JkDTfKYNPTwiAabq_TarMBwHgl6Oe6KOS4Kvrhcs6eH3BI8KZys8cP5YUJLDvelreCppdJbXuAeqTXiS7SLmVKgZqfj3Gfzi0PKw0bg3i6bl6wJBuXwLw47iB8tDlZpTPbGTFl5mGwO7k_F19XDCwNdDuQY6V-oSgjwj9C0xI0prWm_fcfCjNbD1YIHSdN2YLHcl5ckZ6WEY5_oo0cheOmm2xcYa7Foni8ByHps5i2_Jp8KBmbs-fX4HpuklhVtB5NKJ_N1Yccs1q_EGXop09ekW-1QAYRKg92BEQi4=s64",
      "userId": "03427284999883076130"
     },
     "user_tz": 300
    },
    "id": "iv2T4d-cjO2J",
    "outputId": "3cb270fb-745d-4ff1-de7a-c4d933b3c5ab"
   },
   "outputs": [
    {
     "name": "stdout",
     "output_type": "stream",
     "text": [
      "[[1 2]\n",
      " [3 4]]\n"
     ]
    }
   ],
   "source": [
    "arr2.shape = (2,2)\n",
    "print(arr2)"
   ]
  },
  {
   "cell_type": "code",
   "execution_count": null,
   "metadata": {
    "colab": {
     "base_uri": "https://localhost:8080/"
    },
    "executionInfo": {
     "elapsed": 465,
     "status": "ok",
     "timestamp": 1614295398417,
     "user": {
      "displayName": "TOMAS ATEHORTUA GARCES",
      "photoUrl": "https://lh3.googleusercontent.com/a-/AOh14GiGUkLq_6mwruABeXaI8xmUG-KPkEhgDSRuZWdyX1j7hNt8Z-yCExqYGFCLuwvMj7zTVeub2OuFYZR29r5hkTsfiDEL1tqYzm60iLg2DEgMVvX35Zo9Uz7QJq0dqlGrLNEAVbemjjn93d40XCEJTwmOPB3kpTAb2ky8_ULMrmsodtB_EArqFi34NGnjOgjpzYcZ90huWvh9DEZvpBNR7GEhDgBIJbO65BKwozX2y7h-yx3FUax1ajs0VHIgMi-rcD8MY4NgYSwU9xUf2HK69MZXINIXkp_ZaIClJcK_-s12BblCct81iXeX1hUJnfPAbAeeCFZrMnC9r0ce9dc2KA2FNLUhvEsSLiPVlGLUzi7UlTY0UXq5tDmMlrxvpxa92G2pPcrnu5sxmAATqpQE-pfl-eLcyWrh2DSZxEHjCdoKf7qvMNIhY96ukne4vRd45V35Lhcl6RrOD0FUEnj5cWNHrLjHxw1-JkDTfKYNPTwiAabq_TarMBwHgl6Oe6KOS4Kvrhcs6eH3BI8KZys8cP5YUJLDvelreCppdJbXuAeqTXiS7SLmVKgZqfj3Gfzi0PKw0bg3i6bl6wJBuXwLw47iB8tDlZpTPbGTFl5mGwO7k_F19XDCwNdDuQY6V-oSgjwj9C0xI0prWm_fcfCjNbD1YIHSdN2YLHcl5ckZ6WEY5_oo0cheOmm2xcYa7Foni8ByHps5i2_Jp8KBmbs-fX4HpuklhVtB5NKJ_N1Yccs1q_EGXop09ekW-1QAYRKg92BEQi4=s64",
      "userId": "03427284999883076130"
     },
     "user_tz": 300
    },
    "id": "qv0SmUP7c3-l",
    "outputId": "c49339e5-f41a-47c9-dd16-20228a4b2693"
   },
   "outputs": [
    {
     "data": {
      "text/plain": [
       "(2, 2)"
      ]
     },
     "execution_count": 31,
     "metadata": {
      "tags": []
     },
     "output_type": "execute_result"
    }
   ],
   "source": [
    "arr2.shape"
   ]
  },
  {
   "cell_type": "markdown",
   "metadata": {
    "id": "Jn_0QNSHjlPY"
   },
   "source": [
    "Alternativamente, NumPy proporciona el método `reshape`, con el cual podemos cambiar la forma de un arreglo. Este toma como argumento el arreglo a modificar y un entero o tupla que represente la nueva forma.\n",
    "\n",
    "Esta nueva forma debe ser compatible con el número de elementos que tenga el arreglo. Cambiemos la forma de `l` para tener un vector fila:"
   ]
  },
  {
   "cell_type": "code",
   "execution_count": null,
   "metadata": {
    "colab": {
     "base_uri": "https://localhost:8080/"
    },
    "executionInfo": {
     "elapsed": 413,
     "status": "ok",
     "timestamp": 1614295433008,
     "user": {
      "displayName": "TOMAS ATEHORTUA GARCES",
      "photoUrl": "https://lh3.googleusercontent.com/a-/AOh14GiGUkLq_6mwruABeXaI8xmUG-KPkEhgDSRuZWdyX1j7hNt8Z-yCExqYGFCLuwvMj7zTVeub2OuFYZR29r5hkTsfiDEL1tqYzm60iLg2DEgMVvX35Zo9Uz7QJq0dqlGrLNEAVbemjjn93d40XCEJTwmOPB3kpTAb2ky8_ULMrmsodtB_EArqFi34NGnjOgjpzYcZ90huWvh9DEZvpBNR7GEhDgBIJbO65BKwozX2y7h-yx3FUax1ajs0VHIgMi-rcD8MY4NgYSwU9xUf2HK69MZXINIXkp_ZaIClJcK_-s12BblCct81iXeX1hUJnfPAbAeeCFZrMnC9r0ce9dc2KA2FNLUhvEsSLiPVlGLUzi7UlTY0UXq5tDmMlrxvpxa92G2pPcrnu5sxmAATqpQE-pfl-eLcyWrh2DSZxEHjCdoKf7qvMNIhY96ukne4vRd45V35Lhcl6RrOD0FUEnj5cWNHrLjHxw1-JkDTfKYNPTwiAabq_TarMBwHgl6Oe6KOS4Kvrhcs6eH3BI8KZys8cP5YUJLDvelreCppdJbXuAeqTXiS7SLmVKgZqfj3Gfzi0PKw0bg3i6bl6wJBuXwLw47iB8tDlZpTPbGTFl5mGwO7k_F19XDCwNdDuQY6V-oSgjwj9C0xI0prWm_fcfCjNbD1YIHSdN2YLHcl5ckZ6WEY5_oo0cheOmm2xcYa7Foni8ByHps5i2_Jp8KBmbs-fX4HpuklhVtB5NKJ_N1Yccs1q_EGXop09ekW-1QAYRKg92BEQi4=s64",
      "userId": "03427284999883076130"
     },
     "user_tz": 300
    },
    "id": "fGoTIUW0DZ_l",
    "outputId": "d0759824-c733-4902-bcfb-fad2fb3df5c3"
   },
   "outputs": [
    {
     "data": {
      "text/plain": [
       "array([[1, 2],\n",
       "       [3, 4],\n",
       "       [5, 6]])"
      ]
     },
     "execution_count": 32,
     "metadata": {
      "tags": []
     },
     "output_type": "execute_result"
    }
   ],
   "source": [
    "np.array([i for i in range(1,7)]).reshape(3,2)"
   ]
  },
  {
   "cell_type": "markdown",
   "metadata": {
    "id": "IPeVXHXZjrTO"
   },
   "source": [
    "NumPy nos permite pasar una de las dimensiones como `-1`. De esta manera, Numpy se encargará de que el rango en esa dimensión sea compatible con el arreglo original y con el rango de la dimensión que se fijó:"
   ]
  },
  {
   "cell_type": "code",
   "execution_count": null,
   "metadata": {
    "colab": {
     "base_uri": "https://localhost:8080/"
    },
    "executionInfo": {
     "elapsed": 402,
     "status": "ok",
     "timestamp": 1614295563533,
     "user": {
      "displayName": "TOMAS ATEHORTUA GARCES",
      "photoUrl": "https://lh3.googleusercontent.com/a-/AOh14GiGUkLq_6mwruABeXaI8xmUG-KPkEhgDSRuZWdyX1j7hNt8Z-yCExqYGFCLuwvMj7zTVeub2OuFYZR29r5hkTsfiDEL1tqYzm60iLg2DEgMVvX35Zo9Uz7QJq0dqlGrLNEAVbemjjn93d40XCEJTwmOPB3kpTAb2ky8_ULMrmsodtB_EArqFi34NGnjOgjpzYcZ90huWvh9DEZvpBNR7GEhDgBIJbO65BKwozX2y7h-yx3FUax1ajs0VHIgMi-rcD8MY4NgYSwU9xUf2HK69MZXINIXkp_ZaIClJcK_-s12BblCct81iXeX1hUJnfPAbAeeCFZrMnC9r0ce9dc2KA2FNLUhvEsSLiPVlGLUzi7UlTY0UXq5tDmMlrxvpxa92G2pPcrnu5sxmAATqpQE-pfl-eLcyWrh2DSZxEHjCdoKf7qvMNIhY96ukne4vRd45V35Lhcl6RrOD0FUEnj5cWNHrLjHxw1-JkDTfKYNPTwiAabq_TarMBwHgl6Oe6KOS4Kvrhcs6eH3BI8KZys8cP5YUJLDvelreCppdJbXuAeqTXiS7SLmVKgZqfj3Gfzi0PKw0bg3i6bl6wJBuXwLw47iB8tDlZpTPbGTFl5mGwO7k_F19XDCwNdDuQY6V-oSgjwj9C0xI0prWm_fcfCjNbD1YIHSdN2YLHcl5ckZ6WEY5_oo0cheOmm2xcYa7Foni8ByHps5i2_Jp8KBmbs-fX4HpuklhVtB5NKJ_N1Yccs1q_EGXop09ekW-1QAYRKg92BEQi4=s64",
      "userId": "03427284999883076130"
     },
     "user_tz": 300
    },
    "id": "tAkaZSHug3Lw",
    "outputId": "533adb1d-dbea-4d12-e4ea-ddd138f94acd"
   },
   "outputs": [
    {
     "data": {
      "text/plain": [
       "array([1, 2, 3, 4])"
      ]
     },
     "execution_count": 35,
     "metadata": {
      "tags": []
     },
     "output_type": "execute_result"
    }
   ],
   "source": [
    "arr"
   ]
  },
  {
   "cell_type": "code",
   "execution_count": null,
   "metadata": {
    "colab": {
     "base_uri": "https://localhost:8080/"
    },
    "executionInfo": {
     "elapsed": 415,
     "status": "ok",
     "timestamp": 1614295512273,
     "user": {
      "displayName": "TOMAS ATEHORTUA GARCES",
      "photoUrl": "https://lh3.googleusercontent.com/a-/AOh14GiGUkLq_6mwruABeXaI8xmUG-KPkEhgDSRuZWdyX1j7hNt8Z-yCExqYGFCLuwvMj7zTVeub2OuFYZR29r5hkTsfiDEL1tqYzm60iLg2DEgMVvX35Zo9Uz7QJq0dqlGrLNEAVbemjjn93d40XCEJTwmOPB3kpTAb2ky8_ULMrmsodtB_EArqFi34NGnjOgjpzYcZ90huWvh9DEZvpBNR7GEhDgBIJbO65BKwozX2y7h-yx3FUax1ajs0VHIgMi-rcD8MY4NgYSwU9xUf2HK69MZXINIXkp_ZaIClJcK_-s12BblCct81iXeX1hUJnfPAbAeeCFZrMnC9r0ce9dc2KA2FNLUhvEsSLiPVlGLUzi7UlTY0UXq5tDmMlrxvpxa92G2pPcrnu5sxmAATqpQE-pfl-eLcyWrh2DSZxEHjCdoKf7qvMNIhY96ukne4vRd45V35Lhcl6RrOD0FUEnj5cWNHrLjHxw1-JkDTfKYNPTwiAabq_TarMBwHgl6Oe6KOS4Kvrhcs6eH3BI8KZys8cP5YUJLDvelreCppdJbXuAeqTXiS7SLmVKgZqfj3Gfzi0PKw0bg3i6bl6wJBuXwLw47iB8tDlZpTPbGTFl5mGwO7k_F19XDCwNdDuQY6V-oSgjwj9C0xI0prWm_fcfCjNbD1YIHSdN2YLHcl5ckZ6WEY5_oo0cheOmm2xcYa7Foni8ByHps5i2_Jp8KBmbs-fX4HpuklhVtB5NKJ_N1Yccs1q_EGXop09ekW-1QAYRKg92BEQi4=s64",
      "userId": "03427284999883076130"
     },
     "user_tz": 300
    },
    "id": "sWZJnig8jsGW",
    "outputId": "dfd1e9c9-fdf2-41f0-f282-4d8b3628702b"
   },
   "outputs": [
    {
     "data": {
      "text/plain": [
       "array([[1, 2, 3, 4]])"
      ]
     },
     "execution_count": 33,
     "metadata": {
      "tags": []
     },
     "output_type": "execute_result"
    }
   ],
   "source": [
    "arr.reshape(1,-1)"
   ]
  },
  {
   "cell_type": "code",
   "execution_count": null,
   "metadata": {
    "colab": {
     "base_uri": "https://localhost:8080/"
    },
    "executionInfo": {
     "elapsed": 386,
     "status": "ok",
     "timestamp": 1614295534949,
     "user": {
      "displayName": "TOMAS ATEHORTUA GARCES",
      "photoUrl": "https://lh3.googleusercontent.com/a-/AOh14GiGUkLq_6mwruABeXaI8xmUG-KPkEhgDSRuZWdyX1j7hNt8Z-yCExqYGFCLuwvMj7zTVeub2OuFYZR29r5hkTsfiDEL1tqYzm60iLg2DEgMVvX35Zo9Uz7QJq0dqlGrLNEAVbemjjn93d40XCEJTwmOPB3kpTAb2ky8_ULMrmsodtB_EArqFi34NGnjOgjpzYcZ90huWvh9DEZvpBNR7GEhDgBIJbO65BKwozX2y7h-yx3FUax1ajs0VHIgMi-rcD8MY4NgYSwU9xUf2HK69MZXINIXkp_ZaIClJcK_-s12BblCct81iXeX1hUJnfPAbAeeCFZrMnC9r0ce9dc2KA2FNLUhvEsSLiPVlGLUzi7UlTY0UXq5tDmMlrxvpxa92G2pPcrnu5sxmAATqpQE-pfl-eLcyWrh2DSZxEHjCdoKf7qvMNIhY96ukne4vRd45V35Lhcl6RrOD0FUEnj5cWNHrLjHxw1-JkDTfKYNPTwiAabq_TarMBwHgl6Oe6KOS4Kvrhcs6eH3BI8KZys8cP5YUJLDvelreCppdJbXuAeqTXiS7SLmVKgZqfj3Gfzi0PKw0bg3i6bl6wJBuXwLw47iB8tDlZpTPbGTFl5mGwO7k_F19XDCwNdDuQY6V-oSgjwj9C0xI0prWm_fcfCjNbD1YIHSdN2YLHcl5ckZ6WEY5_oo0cheOmm2xcYa7Foni8ByHps5i2_Jp8KBmbs-fX4HpuklhVtB5NKJ_N1Yccs1q_EGXop09ekW-1QAYRKg92BEQi4=s64",
      "userId": "03427284999883076130"
     },
     "user_tz": 300
    },
    "id": "2mezeZk6eayH",
    "outputId": "0e78fc8a-ade6-47e0-b5e7-d8bf0a27bf19"
   },
   "outputs": [
    {
     "data": {
      "text/plain": [
       "array([[1],\n",
       "       [2],\n",
       "       [3],\n",
       "       [4]])"
      ]
     },
     "execution_count": 34,
     "metadata": {
      "tags": []
     },
     "output_type": "execute_result"
    }
   ],
   "source": [
    "arr.reshape(-1,1)"
   ]
  },
  {
   "cell_type": "markdown",
   "metadata": {
    "id": "-OvIOX4zj2TO"
   },
   "source": [
    "## **Formas alternativas de construir arreglos:**\n",
    "\n",
    "NumPy proporciona formas alternativas de crear arreglos. Las funciones más comunes son `arange`, `linspace` `zeros`, `ones`, `full` y `empty`."
   ]
  },
  {
   "cell_type": "markdown",
   "metadata": {
    "id": "9LRVTgs2hTYN"
   },
   "source": [
    "####**Tarea**\n",
    "\n",
    "Consultar cómo construir arreglos con números aleatorios. ¿Se puede construir un arreglo con números aleatorios que sigan una distribución normal, exponencial?"
   ]
  },
  {
   "cell_type": "markdown",
   "metadata": {
    "id": "JjxW0LPCkG-G"
   },
   "source": [
    "* La función `arange()` toma un inicio, final y un paso como la función `range()` de Python, excepto que devuelve un `ndarray` y que el paso puede ser un número real."
   ]
  },
  {
   "cell_type": "code",
   "execution_count": null,
   "metadata": {
    "colab": {
     "base_uri": "https://localhost:8080/"
    },
    "executionInfo": {
     "elapsed": 403,
     "status": "ok",
     "timestamp": 1614296094312,
     "user": {
      "displayName": "TOMAS ATEHORTUA GARCES",
      "photoUrl": "https://lh3.googleusercontent.com/a-/AOh14GiGUkLq_6mwruABeXaI8xmUG-KPkEhgDSRuZWdyX1j7hNt8Z-yCExqYGFCLuwvMj7zTVeub2OuFYZR29r5hkTsfiDEL1tqYzm60iLg2DEgMVvX35Zo9Uz7QJq0dqlGrLNEAVbemjjn93d40XCEJTwmOPB3kpTAb2ky8_ULMrmsodtB_EArqFi34NGnjOgjpzYcZ90huWvh9DEZvpBNR7GEhDgBIJbO65BKwozX2y7h-yx3FUax1ajs0VHIgMi-rcD8MY4NgYSwU9xUf2HK69MZXINIXkp_ZaIClJcK_-s12BblCct81iXeX1hUJnfPAbAeeCFZrMnC9r0ce9dc2KA2FNLUhvEsSLiPVlGLUzi7UlTY0UXq5tDmMlrxvpxa92G2pPcrnu5sxmAATqpQE-pfl-eLcyWrh2DSZxEHjCdoKf7qvMNIhY96ukne4vRd45V35Lhcl6RrOD0FUEnj5cWNHrLjHxw1-JkDTfKYNPTwiAabq_TarMBwHgl6Oe6KOS4Kvrhcs6eH3BI8KZys8cP5YUJLDvelreCppdJbXuAeqTXiS7SLmVKgZqfj3Gfzi0PKw0bg3i6bl6wJBuXwLw47iB8tDlZpTPbGTFl5mGwO7k_F19XDCwNdDuQY6V-oSgjwj9C0xI0prWm_fcfCjNbD1YIHSdN2YLHcl5ckZ6WEY5_oo0cheOmm2xcYa7Foni8ByHps5i2_Jp8KBmbs-fX4HpuklhVtB5NKJ_N1Yccs1q_EGXop09ekW-1QAYRKg92BEQi4=s64",
      "userId": "03427284999883076130"
     },
     "user_tz": 300
    },
    "id": "vCkbV5l6kLTX",
    "outputId": "d1f7b36e-7d67-4cb4-f585-3c2320b26691"
   },
   "outputs": [
    {
     "data": {
      "text/plain": [
       "array([ 1,  3,  5,  7,  9, 11, 13, 15, 17, 19, 21, 23, 25, 27, 29, 31, 33,\n",
       "       35, 37, 39, 41, 43, 45, 47, 49, 51, 53, 55, 57, 59, 61, 63, 65, 67,\n",
       "       69, 71, 73, 75, 77, 79, 81, 83, 85, 87, 89, 91, 93, 95, 97, 99])"
      ]
     },
     "execution_count": 47,
     "metadata": {
      "tags": []
     },
     "output_type": "execute_result"
    }
   ],
   "source": [
    "np.arange(1,100,2)"
   ]
  },
  {
   "cell_type": "markdown",
   "metadata": {
    "id": "zeBulLrykGeD"
   },
   "source": [
    "- La función `linspace` crea una serie de puntos uniformemente entre un límite inferior y superior que incluye ambos extremos. Su sintáxis es de la forma:\n",
    "\n",
    ">\n",
    "    linspace(inicio, final, numero de puntos)"
   ]
  },
  {
   "cell_type": "code",
   "execution_count": null,
   "metadata": {
    "colab": {
     "base_uri": "https://localhost:8080/"
    },
    "executionInfo": {
     "elapsed": 414,
     "status": "ok",
     "timestamp": 1614296326457,
     "user": {
      "displayName": "TOMAS ATEHORTUA GARCES",
      "photoUrl": "https://lh3.googleusercontent.com/a-/AOh14GiGUkLq_6mwruABeXaI8xmUG-KPkEhgDSRuZWdyX1j7hNt8Z-yCExqYGFCLuwvMj7zTVeub2OuFYZR29r5hkTsfiDEL1tqYzm60iLg2DEgMVvX35Zo9Uz7QJq0dqlGrLNEAVbemjjn93d40XCEJTwmOPB3kpTAb2ky8_ULMrmsodtB_EArqFi34NGnjOgjpzYcZ90huWvh9DEZvpBNR7GEhDgBIJbO65BKwozX2y7h-yx3FUax1ajs0VHIgMi-rcD8MY4NgYSwU9xUf2HK69MZXINIXkp_ZaIClJcK_-s12BblCct81iXeX1hUJnfPAbAeeCFZrMnC9r0ce9dc2KA2FNLUhvEsSLiPVlGLUzi7UlTY0UXq5tDmMlrxvpxa92G2pPcrnu5sxmAATqpQE-pfl-eLcyWrh2DSZxEHjCdoKf7qvMNIhY96ukne4vRd45V35Lhcl6RrOD0FUEnj5cWNHrLjHxw1-JkDTfKYNPTwiAabq_TarMBwHgl6Oe6KOS4Kvrhcs6eH3BI8KZys8cP5YUJLDvelreCppdJbXuAeqTXiS7SLmVKgZqfj3Gfzi0PKw0bg3i6bl6wJBuXwLw47iB8tDlZpTPbGTFl5mGwO7k_F19XDCwNdDuQY6V-oSgjwj9C0xI0prWm_fcfCjNbD1YIHSdN2YLHcl5ckZ6WEY5_oo0cheOmm2xcYa7Foni8ByHps5i2_Jp8KBmbs-fX4HpuklhVtB5NKJ_N1Yccs1q_EGXop09ekW-1QAYRKg92BEQi4=s64",
      "userId": "03427284999883076130"
     },
     "user_tz": 300
    },
    "id": "IHfXdV-_kXjk",
    "outputId": "2fd10932-7d95-4e7d-f139-01754e0b52bc"
   },
   "outputs": [
    {
     "data": {
      "text/plain": [
       "array([ 0.5,  0.6,  0.7,  0.8,  0.9,  1. ,  1.1,  1.2,  1.3,  1.4,  1.5,\n",
       "        1.6,  1.7,  1.8,  1.9,  2. ,  2.1,  2.2,  2.3,  2.4,  2.5,  2.6,\n",
       "        2.7,  2.8,  2.9,  3. ,  3.1,  3.2,  3.3,  3.4,  3.5,  3.6,  3.7,\n",
       "        3.8,  3.9,  4. ,  4.1,  4.2,  4.3,  4.4,  4.5,  4.6,  4.7,  4.8,\n",
       "        4.9,  5. ,  5.1,  5.2,  5.3,  5.4,  5.5,  5.6,  5.7,  5.8,  5.9,\n",
       "        6. ,  6.1,  6.2,  6.3,  6.4,  6.5,  6.6,  6.7,  6.8,  6.9,  7. ,\n",
       "        7.1,  7.2,  7.3,  7.4,  7.5,  7.6,  7.7,  7.8,  7.9,  8. ,  8.1,\n",
       "        8.2,  8.3,  8.4,  8.5,  8.6,  8.7,  8.8,  8.9,  9. ,  9.1,  9.2,\n",
       "        9.3,  9.4,  9.5,  9.6,  9.7,  9.8,  9.9, 10. , 10.1, 10.2, 10.3,\n",
       "       10.4])"
      ]
     },
     "execution_count": 52,
     "metadata": {
      "tags": []
     },
     "output_type": "execute_result"
    }
   ],
   "source": [
    "a = np.linspace(0.5,10.5,100, endpoint= False)\n",
    "a"
   ]
  },
  {
   "cell_type": "code",
   "execution_count": null,
   "metadata": {
    "colab": {
     "base_uri": "https://localhost:8080/"
    },
    "executionInfo": {
     "elapsed": 372,
     "status": "ok",
     "timestamp": 1614296239874,
     "user": {
      "displayName": "TOMAS ATEHORTUA GARCES",
      "photoUrl": "https://lh3.googleusercontent.com/a-/AOh14GiGUkLq_6mwruABeXaI8xmUG-KPkEhgDSRuZWdyX1j7hNt8Z-yCExqYGFCLuwvMj7zTVeub2OuFYZR29r5hkTsfiDEL1tqYzm60iLg2DEgMVvX35Zo9Uz7QJq0dqlGrLNEAVbemjjn93d40XCEJTwmOPB3kpTAb2ky8_ULMrmsodtB_EArqFi34NGnjOgjpzYcZ90huWvh9DEZvpBNR7GEhDgBIJbO65BKwozX2y7h-yx3FUax1ajs0VHIgMi-rcD8MY4NgYSwU9xUf2HK69MZXINIXkp_ZaIClJcK_-s12BblCct81iXeX1hUJnfPAbAeeCFZrMnC9r0ce9dc2KA2FNLUhvEsSLiPVlGLUzi7UlTY0UXq5tDmMlrxvpxa92G2pPcrnu5sxmAATqpQE-pfl-eLcyWrh2DSZxEHjCdoKf7qvMNIhY96ukne4vRd45V35Lhcl6RrOD0FUEnj5cWNHrLjHxw1-JkDTfKYNPTwiAabq_TarMBwHgl6Oe6KOS4Kvrhcs6eH3BI8KZys8cP5YUJLDvelreCppdJbXuAeqTXiS7SLmVKgZqfj3Gfzi0PKw0bg3i6bl6wJBuXwLw47iB8tDlZpTPbGTFl5mGwO7k_F19XDCwNdDuQY6V-oSgjwj9C0xI0prWm_fcfCjNbD1YIHSdN2YLHcl5ckZ6WEY5_oo0cheOmm2xcYa7Foni8ByHps5i2_Jp8KBmbs-fX4HpuklhVtB5NKJ_N1Yccs1q_EGXop09ekW-1QAYRKg92BEQi4=s64",
      "userId": "03427284999883076130"
     },
     "user_tz": 300
    },
    "id": "BAn4hcILjCnS",
    "outputId": "4ff994da-bfe1-4e41-adf3-7e6e1ddb2441"
   },
   "outputs": [
    {
     "data": {
      "text/plain": [
       "(array([ 0.5       ,  0.6010101 ,  0.7020202 ,  0.8030303 ,  0.9040404 ,\n",
       "         1.00505051,  1.10606061,  1.20707071,  1.30808081,  1.40909091,\n",
       "         1.51010101,  1.61111111,  1.71212121,  1.81313131,  1.91414141,\n",
       "         2.01515152,  2.11616162,  2.21717172,  2.31818182,  2.41919192,\n",
       "         2.52020202,  2.62121212,  2.72222222,  2.82323232,  2.92424242,\n",
       "         3.02525253,  3.12626263,  3.22727273,  3.32828283,  3.42929293,\n",
       "         3.53030303,  3.63131313,  3.73232323,  3.83333333,  3.93434343,\n",
       "         4.03535354,  4.13636364,  4.23737374,  4.33838384,  4.43939394,\n",
       "         4.54040404,  4.64141414,  4.74242424,  4.84343434,  4.94444444,\n",
       "         5.04545455,  5.14646465,  5.24747475,  5.34848485,  5.44949495,\n",
       "         5.55050505,  5.65151515,  5.75252525,  5.85353535,  5.95454545,\n",
       "         6.05555556,  6.15656566,  6.25757576,  6.35858586,  6.45959596,\n",
       "         6.56060606,  6.66161616,  6.76262626,  6.86363636,  6.96464646,\n",
       "         7.06565657,  7.16666667,  7.26767677,  7.36868687,  7.46969697,\n",
       "         7.57070707,  7.67171717,  7.77272727,  7.87373737,  7.97474747,\n",
       "         8.07575758,  8.17676768,  8.27777778,  8.37878788,  8.47979798,\n",
       "         8.58080808,  8.68181818,  8.78282828,  8.88383838,  8.98484848,\n",
       "         9.08585859,  9.18686869,  9.28787879,  9.38888889,  9.48989899,\n",
       "         9.59090909,  9.69191919,  9.79292929,  9.89393939,  9.99494949,\n",
       "        10.0959596 , 10.1969697 , 10.2979798 , 10.3989899 , 10.5       ]),\n",
       " 0.10101010101010101)"
      ]
     },
     "execution_count": 51,
     "metadata": {
      "tags": []
     },
     "output_type": "execute_result"
    }
   ],
   "source": [
    "np.linspace(0.5,10.5,100, retstep= True)"
   ]
  },
  {
   "cell_type": "markdown",
   "metadata": {
    "id": "xN7t7lV_kaO7"
   },
   "source": [
    "- Las funciones `zeros()` y `ones()` toman un entero o una tupla de enteros como argumento y devuelven un `ndarray` cuya forma coincide con la de la tupla y cuyos elementos son cero o uno:"
   ]
  },
  {
   "cell_type": "code",
   "execution_count": null,
   "metadata": {
    "colab": {
     "base_uri": "https://localhost:8080/"
    },
    "executionInfo": {
     "elapsed": 381,
     "status": "ok",
     "timestamp": 1614296393604,
     "user": {
      "displayName": "TOMAS ATEHORTUA GARCES",
      "photoUrl": "https://lh3.googleusercontent.com/a-/AOh14GiGUkLq_6mwruABeXaI8xmUG-KPkEhgDSRuZWdyX1j7hNt8Z-yCExqYGFCLuwvMj7zTVeub2OuFYZR29r5hkTsfiDEL1tqYzm60iLg2DEgMVvX35Zo9Uz7QJq0dqlGrLNEAVbemjjn93d40XCEJTwmOPB3kpTAb2ky8_ULMrmsodtB_EArqFi34NGnjOgjpzYcZ90huWvh9DEZvpBNR7GEhDgBIJbO65BKwozX2y7h-yx3FUax1ajs0VHIgMi-rcD8MY4NgYSwU9xUf2HK69MZXINIXkp_ZaIClJcK_-s12BblCct81iXeX1hUJnfPAbAeeCFZrMnC9r0ce9dc2KA2FNLUhvEsSLiPVlGLUzi7UlTY0UXq5tDmMlrxvpxa92G2pPcrnu5sxmAATqpQE-pfl-eLcyWrh2DSZxEHjCdoKf7qvMNIhY96ukne4vRd45V35Lhcl6RrOD0FUEnj5cWNHrLjHxw1-JkDTfKYNPTwiAabq_TarMBwHgl6Oe6KOS4Kvrhcs6eH3BI8KZys8cP5YUJLDvelreCppdJbXuAeqTXiS7SLmVKgZqfj3Gfzi0PKw0bg3i6bl6wJBuXwLw47iB8tDlZpTPbGTFl5mGwO7k_F19XDCwNdDuQY6V-oSgjwj9C0xI0prWm_fcfCjNbD1YIHSdN2YLHcl5ckZ6WEY5_oo0cheOmm2xcYa7Foni8ByHps5i2_Jp8KBmbs-fX4HpuklhVtB5NKJ_N1Yccs1q_EGXop09ekW-1QAYRKg92BEQi4=s64",
      "userId": "03427284999883076130"
     },
     "user_tz": 300
    },
    "id": "u227SC6dkcEN",
    "outputId": "3118cc2e-5668-4d75-8746-5d16737ed86e"
   },
   "outputs": [
    {
     "data": {
      "text/plain": [
       "array([[0., 0., 0.],\n",
       "       [0., 0., 0.],\n",
       "       [0., 0., 0.]])"
      ]
     },
     "execution_count": 53,
     "metadata": {
      "tags": []
     },
     "output_type": "execute_result"
    }
   ],
   "source": [
    "np.zeros((3,3))"
   ]
  },
  {
   "cell_type": "code",
   "execution_count": null,
   "metadata": {
    "colab": {
     "base_uri": "https://localhost:8080/"
    },
    "executionInfo": {
     "elapsed": 382,
     "status": "ok",
     "timestamp": 1614296417627,
     "user": {
      "displayName": "TOMAS ATEHORTUA GARCES",
      "photoUrl": "https://lh3.googleusercontent.com/a-/AOh14GiGUkLq_6mwruABeXaI8xmUG-KPkEhgDSRuZWdyX1j7hNt8Z-yCExqYGFCLuwvMj7zTVeub2OuFYZR29r5hkTsfiDEL1tqYzm60iLg2DEgMVvX35Zo9Uz7QJq0dqlGrLNEAVbemjjn93d40XCEJTwmOPB3kpTAb2ky8_ULMrmsodtB_EArqFi34NGnjOgjpzYcZ90huWvh9DEZvpBNR7GEhDgBIJbO65BKwozX2y7h-yx3FUax1ajs0VHIgMi-rcD8MY4NgYSwU9xUf2HK69MZXINIXkp_ZaIClJcK_-s12BblCct81iXeX1hUJnfPAbAeeCFZrMnC9r0ce9dc2KA2FNLUhvEsSLiPVlGLUzi7UlTY0UXq5tDmMlrxvpxa92G2pPcrnu5sxmAATqpQE-pfl-eLcyWrh2DSZxEHjCdoKf7qvMNIhY96ukne4vRd45V35Lhcl6RrOD0FUEnj5cWNHrLjHxw1-JkDTfKYNPTwiAabq_TarMBwHgl6Oe6KOS4Kvrhcs6eH3BI8KZys8cP5YUJLDvelreCppdJbXuAeqTXiS7SLmVKgZqfj3Gfzi0PKw0bg3i6bl6wJBuXwLw47iB8tDlZpTPbGTFl5mGwO7k_F19XDCwNdDuQY6V-oSgjwj9C0xI0prWm_fcfCjNbD1YIHSdN2YLHcl5ckZ6WEY5_oo0cheOmm2xcYa7Foni8ByHps5i2_Jp8KBmbs-fX4HpuklhVtB5NKJ_N1Yccs1q_EGXop09ekW-1QAYRKg92BEQi4=s64",
      "userId": "03427284999883076130"
     },
     "user_tz": 300
    },
    "id": "1W_hZKHfkePe",
    "outputId": "c13e7fc7-0360-4a43-e0e6-1c463b415980"
   },
   "outputs": [
    {
     "data": {
      "text/plain": [
       "array([[1., 1., 1., 1.],\n",
       "       [1., 1., 1., 1.],\n",
       "       [1., 1., 1., 1.]])"
      ]
     },
     "execution_count": 55,
     "metadata": {
      "tags": []
     },
     "output_type": "execute_result"
    }
   ],
   "source": [
    "np.ones((3,4))"
   ]
  },
  {
   "cell_type": "markdown",
   "metadata": {
    "id": "n6qMLb1zkjO4"
   },
   "source": [
    "- La función `full()` funciona de manera similar a `zeros()` y `ones()`, solo que podemos llenar el arreglo con cualquier valor:"
   ]
  },
  {
   "cell_type": "code",
   "execution_count": null,
   "metadata": {
    "colab": {
     "base_uri": "https://localhost:8080/"
    },
    "executionInfo": {
     "elapsed": 371,
     "status": "ok",
     "timestamp": 1614296475030,
     "user": {
      "displayName": "TOMAS ATEHORTUA GARCES",
      "photoUrl": "https://lh3.googleusercontent.com/a-/AOh14GiGUkLq_6mwruABeXaI8xmUG-KPkEhgDSRuZWdyX1j7hNt8Z-yCExqYGFCLuwvMj7zTVeub2OuFYZR29r5hkTsfiDEL1tqYzm60iLg2DEgMVvX35Zo9Uz7QJq0dqlGrLNEAVbemjjn93d40XCEJTwmOPB3kpTAb2ky8_ULMrmsodtB_EArqFi34NGnjOgjpzYcZ90huWvh9DEZvpBNR7GEhDgBIJbO65BKwozX2y7h-yx3FUax1ajs0VHIgMi-rcD8MY4NgYSwU9xUf2HK69MZXINIXkp_ZaIClJcK_-s12BblCct81iXeX1hUJnfPAbAeeCFZrMnC9r0ce9dc2KA2FNLUhvEsSLiPVlGLUzi7UlTY0UXq5tDmMlrxvpxa92G2pPcrnu5sxmAATqpQE-pfl-eLcyWrh2DSZxEHjCdoKf7qvMNIhY96ukne4vRd45V35Lhcl6RrOD0FUEnj5cWNHrLjHxw1-JkDTfKYNPTwiAabq_TarMBwHgl6Oe6KOS4Kvrhcs6eH3BI8KZys8cP5YUJLDvelreCppdJbXuAeqTXiS7SLmVKgZqfj3Gfzi0PKw0bg3i6bl6wJBuXwLw47iB8tDlZpTPbGTFl5mGwO7k_F19XDCwNdDuQY6V-oSgjwj9C0xI0prWm_fcfCjNbD1YIHSdN2YLHcl5ckZ6WEY5_oo0cheOmm2xcYa7Foni8ByHps5i2_Jp8KBmbs-fX4HpuklhVtB5NKJ_N1Yccs1q_EGXop09ekW-1QAYRKg92BEQi4=s64",
      "userId": "03427284999883076130"
     },
     "user_tz": 300
    },
    "id": "U23eQk_ekj3E",
    "outputId": "59c8ee34-0e03-4c87-e842-885a93f2c04e"
   },
   "outputs": [
    {
     "data": {
      "text/plain": [
       "array([[17.5, 17.5, 17.5, 17.5],\n",
       "       [17.5, 17.5, 17.5, 17.5],\n",
       "       [17.5, 17.5, 17.5, 17.5]])"
      ]
     },
     "execution_count": 58,
     "metadata": {
      "tags": []
     },
     "output_type": "execute_result"
    }
   ],
   "source": [
    "np.full((3,4), 17.5)"
   ]
  },
  {
   "cell_type": "markdown",
   "metadata": {
    "id": "1MJPr6X84Pme"
   },
   "source": [
    "- La función `empty()`, por otro lado, asignará memoria sin asignarle ningún valor. Esto significa que el contenido de un arreglo vacío será lo que esté en la memoria en ese momento. Esto es particularmente útil cuando creamos un arreglo cuyos valores serán modificados posteriormente."
   ]
  },
  {
   "cell_type": "code",
   "execution_count": null,
   "metadata": {
    "colab": {
     "base_uri": "https://localhost:8080/"
    },
    "executionInfo": {
     "elapsed": 731,
     "status": "ok",
     "timestamp": 1614296517389,
     "user": {
      "displayName": "TOMAS ATEHORTUA GARCES",
      "photoUrl": "https://lh3.googleusercontent.com/a-/AOh14GiGUkLq_6mwruABeXaI8xmUG-KPkEhgDSRuZWdyX1j7hNt8Z-yCExqYGFCLuwvMj7zTVeub2OuFYZR29r5hkTsfiDEL1tqYzm60iLg2DEgMVvX35Zo9Uz7QJq0dqlGrLNEAVbemjjn93d40XCEJTwmOPB3kpTAb2ky8_ULMrmsodtB_EArqFi34NGnjOgjpzYcZ90huWvh9DEZvpBNR7GEhDgBIJbO65BKwozX2y7h-yx3FUax1ajs0VHIgMi-rcD8MY4NgYSwU9xUf2HK69MZXINIXkp_ZaIClJcK_-s12BblCct81iXeX1hUJnfPAbAeeCFZrMnC9r0ce9dc2KA2FNLUhvEsSLiPVlGLUzi7UlTY0UXq5tDmMlrxvpxa92G2pPcrnu5sxmAATqpQE-pfl-eLcyWrh2DSZxEHjCdoKf7qvMNIhY96ukne4vRd45V35Lhcl6RrOD0FUEnj5cWNHrLjHxw1-JkDTfKYNPTwiAabq_TarMBwHgl6Oe6KOS4Kvrhcs6eH3BI8KZys8cP5YUJLDvelreCppdJbXuAeqTXiS7SLmVKgZqfj3Gfzi0PKw0bg3i6bl6wJBuXwLw47iB8tDlZpTPbGTFl5mGwO7k_F19XDCwNdDuQY6V-oSgjwj9C0xI0prWm_fcfCjNbD1YIHSdN2YLHcl5ckZ6WEY5_oo0cheOmm2xcYa7Foni8ByHps5i2_Jp8KBmbs-fX4HpuklhVtB5NKJ_N1Yccs1q_EGXop09ekW-1QAYRKg92BEQi4=s64",
      "userId": "03427284999883076130"
     },
     "user_tz": 300
    },
    "id": "QEZOaCCZ4SZh",
    "outputId": "9116be36-7e3a-4d81-c30d-864e3957f6bd"
   },
   "outputs": [
    {
     "data": {
      "text/plain": [
       "array([[4.67486566e-310, 0.00000000e+000, 0.00000000e+000,\n",
       "        0.00000000e+000],\n",
       "       [0.00000000e+000, 0.00000000e+000, 0.00000000e+000,\n",
       "        0.00000000e+000],\n",
       "       [0.00000000e+000, 0.00000000e+000, 0.00000000e+000,\n",
       "        0.00000000e+000],\n",
       "       [0.00000000e+000, 0.00000000e+000, 0.00000000e+000,\n",
       "        0.00000000e+000],\n",
       "       [0.00000000e+000, 0.00000000e+000, 0.00000000e+000,\n",
       "        0.00000000e+000]])"
      ]
     },
     "execution_count": 61,
     "metadata": {
      "tags": []
     },
     "output_type": "execute_result"
    }
   ],
   "source": [
    "pi = 3.14\n",
    "e = 2.7\n",
    "r =17.2\n",
    "np.empty((5,4))"
   ]
  },
  {
   "cell_type": "markdown",
   "metadata": {
    "id": "jfaapXg_nRMo"
   },
   "source": [
    "<p><a name=\"ope\"></a></p>\n",
    "\n",
    "# **Operaciones sobre los arreglos**\n",
    "\n",
    "Ahora que hemos visto cómo definir arreglos de NumPy, podemos discutir cómo realizar operaciones sobre los arreglos. La clave para hacer estas operaciones de una forma rápida y eficiente es usar operaciones **vectorizadas**, implementadas a través de las funciones universales de NumPy (ufuncs).\n",
    "\n",
    "Recordemos que la operación de sumar dos listas de Python resulta en la concatenación de dichas listas:\n",
    "\n"
   ]
  },
  {
   "cell_type": "code",
   "execution_count": null,
   "metadata": {
    "colab": {
     "base_uri": "https://localhost:8080/"
    },
    "executionInfo": {
     "elapsed": 384,
     "status": "ok",
     "timestamp": 1614296630011,
     "user": {
      "displayName": "TOMAS ATEHORTUA GARCES",
      "photoUrl": "https://lh3.googleusercontent.com/a-/AOh14GiGUkLq_6mwruABeXaI8xmUG-KPkEhgDSRuZWdyX1j7hNt8Z-yCExqYGFCLuwvMj7zTVeub2OuFYZR29r5hkTsfiDEL1tqYzm60iLg2DEgMVvX35Zo9Uz7QJq0dqlGrLNEAVbemjjn93d40XCEJTwmOPB3kpTAb2ky8_ULMrmsodtB_EArqFi34NGnjOgjpzYcZ90huWvh9DEZvpBNR7GEhDgBIJbO65BKwozX2y7h-yx3FUax1ajs0VHIgMi-rcD8MY4NgYSwU9xUf2HK69MZXINIXkp_ZaIClJcK_-s12BblCct81iXeX1hUJnfPAbAeeCFZrMnC9r0ce9dc2KA2FNLUhvEsSLiPVlGLUzi7UlTY0UXq5tDmMlrxvpxa92G2pPcrnu5sxmAATqpQE-pfl-eLcyWrh2DSZxEHjCdoKf7qvMNIhY96ukne4vRd45V35Lhcl6RrOD0FUEnj5cWNHrLjHxw1-JkDTfKYNPTwiAabq_TarMBwHgl6Oe6KOS4Kvrhcs6eH3BI8KZys8cP5YUJLDvelreCppdJbXuAeqTXiS7SLmVKgZqfj3Gfzi0PKw0bg3i6bl6wJBuXwLw47iB8tDlZpTPbGTFl5mGwO7k_F19XDCwNdDuQY6V-oSgjwj9C0xI0prWm_fcfCjNbD1YIHSdN2YLHcl5ckZ6WEY5_oo0cheOmm2xcYa7Foni8ByHps5i2_Jp8KBmbs-fX4HpuklhVtB5NKJ_N1Yccs1q_EGXop09ekW-1QAYRKg92BEQi4=s64",
      "userId": "03427284999883076130"
     },
     "user_tz": 300
    },
    "id": "4LZtf2OEnh_9",
    "outputId": "425c97db-87b0-453b-8a71-77e7c0afca5a"
   },
   "outputs": [
    {
     "data": {
      "text/plain": [
       "[1, 2, 3, 4, 5, 6, 7, 8]"
      ]
     },
     "execution_count": 62,
     "metadata": {
      "tags": []
     },
     "output_type": "execute_result"
    }
   ],
   "source": [
    "lista1 = [ 1, 2, 3, 4]\n",
    "lista2 = [5, 6 ,7 , 8]\n",
    "\n",
    "lista1 + lista2"
   ]
  },
  {
   "cell_type": "markdown",
   "metadata": {
    "id": "H3ucSUHN7pQ8"
   },
   "source": [
    "Si quisieramos sumar elemento a elemento, debemos hacer explícito un ciclo `for` con la función `zip()` para dos variables de la siguiente manera (ver **Apéndice A**):"
   ]
  },
  {
   "cell_type": "code",
   "execution_count": null,
   "metadata": {
    "colab": {
     "base_uri": "https://localhost:8080/"
    },
    "executionInfo": {
     "elapsed": 436,
     "status": "ok",
     "timestamp": 1614296739002,
     "user": {
      "displayName": "TOMAS ATEHORTUA GARCES",
      "photoUrl": "https://lh3.googleusercontent.com/a-/AOh14GiGUkLq_6mwruABeXaI8xmUG-KPkEhgDSRuZWdyX1j7hNt8Z-yCExqYGFCLuwvMj7zTVeub2OuFYZR29r5hkTsfiDEL1tqYzm60iLg2DEgMVvX35Zo9Uz7QJq0dqlGrLNEAVbemjjn93d40XCEJTwmOPB3kpTAb2ky8_ULMrmsodtB_EArqFi34NGnjOgjpzYcZ90huWvh9DEZvpBNR7GEhDgBIJbO65BKwozX2y7h-yx3FUax1ajs0VHIgMi-rcD8MY4NgYSwU9xUf2HK69MZXINIXkp_ZaIClJcK_-s12BblCct81iXeX1hUJnfPAbAeeCFZrMnC9r0ce9dc2KA2FNLUhvEsSLiPVlGLUzi7UlTY0UXq5tDmMlrxvpxa92G2pPcrnu5sxmAATqpQE-pfl-eLcyWrh2DSZxEHjCdoKf7qvMNIhY96ukne4vRd45V35Lhcl6RrOD0FUEnj5cWNHrLjHxw1-JkDTfKYNPTwiAabq_TarMBwHgl6Oe6KOS4Kvrhcs6eH3BI8KZys8cP5YUJLDvelreCppdJbXuAeqTXiS7SLmVKgZqfj3Gfzi0PKw0bg3i6bl6wJBuXwLw47iB8tDlZpTPbGTFl5mGwO7k_F19XDCwNdDuQY6V-oSgjwj9C0xI0prWm_fcfCjNbD1YIHSdN2YLHcl5ckZ6WEY5_oo0cheOmm2xcYa7Foni8ByHps5i2_Jp8KBmbs-fX4HpuklhVtB5NKJ_N1Yccs1q_EGXop09ekW-1QAYRKg92BEQi4=s64",
      "userId": "03427284999883076130"
     },
     "user_tz": 300
    },
    "id": "53ldvSZ9lFmP",
    "outputId": "24a59aa3-d8b5-47d7-a093-40bdc7dc632e"
   },
   "outputs": [
    {
     "name": "stdout",
     "output_type": "stream",
     "text": [
      "6\n",
      "8\n",
      "10\n",
      "12\n"
     ]
    }
   ],
   "source": [
    "#forma 1\n",
    "\n",
    "for i in range(len(lista1)):\n",
    "  print(lista1[i] + lista2[i])"
   ]
  },
  {
   "cell_type": "code",
   "execution_count": null,
   "metadata": {
    "colab": {
     "base_uri": "https://localhost:8080/"
    },
    "executionInfo": {
     "elapsed": 402,
     "status": "ok",
     "timestamp": 1614296785578,
     "user": {
      "displayName": "TOMAS ATEHORTUA GARCES",
      "photoUrl": "https://lh3.googleusercontent.com/a-/AOh14GiGUkLq_6mwruABeXaI8xmUG-KPkEhgDSRuZWdyX1j7hNt8Z-yCExqYGFCLuwvMj7zTVeub2OuFYZR29r5hkTsfiDEL1tqYzm60iLg2DEgMVvX35Zo9Uz7QJq0dqlGrLNEAVbemjjn93d40XCEJTwmOPB3kpTAb2ky8_ULMrmsodtB_EArqFi34NGnjOgjpzYcZ90huWvh9DEZvpBNR7GEhDgBIJbO65BKwozX2y7h-yx3FUax1ajs0VHIgMi-rcD8MY4NgYSwU9xUf2HK69MZXINIXkp_ZaIClJcK_-s12BblCct81iXeX1hUJnfPAbAeeCFZrMnC9r0ce9dc2KA2FNLUhvEsSLiPVlGLUzi7UlTY0UXq5tDmMlrxvpxa92G2pPcrnu5sxmAATqpQE-pfl-eLcyWrh2DSZxEHjCdoKf7qvMNIhY96ukne4vRd45V35Lhcl6RrOD0FUEnj5cWNHrLjHxw1-JkDTfKYNPTwiAabq_TarMBwHgl6Oe6KOS4Kvrhcs6eH3BI8KZys8cP5YUJLDvelreCppdJbXuAeqTXiS7SLmVKgZqfj3Gfzi0PKw0bg3i6bl6wJBuXwLw47iB8tDlZpTPbGTFl5mGwO7k_F19XDCwNdDuQY6V-oSgjwj9C0xI0prWm_fcfCjNbD1YIHSdN2YLHcl5ckZ6WEY5_oo0cheOmm2xcYa7Foni8ByHps5i2_Jp8KBmbs-fX4HpuklhVtB5NKJ_N1Yccs1q_EGXop09ekW-1QAYRKg92BEQi4=s64",
      "userId": "03427284999883076130"
     },
     "user_tz": 300
    },
    "id": "CDxSTUYslAY8",
    "outputId": "741d3888-9682-40a6-a606-fe0b6b0bf4e3"
   },
   "outputs": [
    {
     "name": "stdout",
     "output_type": "stream",
     "text": [
      "6\n",
      "8\n",
      "10\n",
      "12\n"
     ]
    }
   ],
   "source": [
    "for i,j in zip(lista1, lista2):\n",
    "  print(i + j)"
   ]
  },
  {
   "cell_type": "code",
   "execution_count": null,
   "metadata": {
    "colab": {
     "base_uri": "https://localhost:8080/"
    },
    "executionInfo": {
     "elapsed": 378,
     "status": "ok",
     "timestamp": 1614296838810,
     "user": {
      "displayName": "TOMAS ATEHORTUA GARCES",
      "photoUrl": "https://lh3.googleusercontent.com/a-/AOh14GiGUkLq_6mwruABeXaI8xmUG-KPkEhgDSRuZWdyX1j7hNt8Z-yCExqYGFCLuwvMj7zTVeub2OuFYZR29r5hkTsfiDEL1tqYzm60iLg2DEgMVvX35Zo9Uz7QJq0dqlGrLNEAVbemjjn93d40XCEJTwmOPB3kpTAb2ky8_ULMrmsodtB_EArqFi34NGnjOgjpzYcZ90huWvh9DEZvpBNR7GEhDgBIJbO65BKwozX2y7h-yx3FUax1ajs0VHIgMi-rcD8MY4NgYSwU9xUf2HK69MZXINIXkp_ZaIClJcK_-s12BblCct81iXeX1hUJnfPAbAeeCFZrMnC9r0ce9dc2KA2FNLUhvEsSLiPVlGLUzi7UlTY0UXq5tDmMlrxvpxa92G2pPcrnu5sxmAATqpQE-pfl-eLcyWrh2DSZxEHjCdoKf7qvMNIhY96ukne4vRd45V35Lhcl6RrOD0FUEnj5cWNHrLjHxw1-JkDTfKYNPTwiAabq_TarMBwHgl6Oe6KOS4Kvrhcs6eH3BI8KZys8cP5YUJLDvelreCppdJbXuAeqTXiS7SLmVKgZqfj3Gfzi0PKw0bg3i6bl6wJBuXwLw47iB8tDlZpTPbGTFl5mGwO7k_F19XDCwNdDuQY6V-oSgjwj9C0xI0prWm_fcfCjNbD1YIHSdN2YLHcl5ckZ6WEY5_oo0cheOmm2xcYa7Foni8ByHps5i2_Jp8KBmbs-fX4HpuklhVtB5NKJ_N1Yccs1q_EGXop09ekW-1QAYRKg92BEQi4=s64",
      "userId": "03427284999883076130"
     },
     "user_tz": 300
    },
    "id": "9q3IZtF97gum",
    "outputId": "137beccc-b6f5-4b92-d465-a5c506452437"
   },
   "outputs": [
    {
     "data": {
      "text/plain": [
       "array([ 6,  8, 10, 12])"
      ]
     },
     "execution_count": 66,
     "metadata": {
      "tags": []
     },
     "output_type": "execute_result"
    }
   ],
   "source": [
    "arreglo_1 = np.array(lista1)\n",
    "arreglo_2 = np.array(lista2)\n",
    "\n",
    "arreglo_1 + arreglo_2"
   ]
  },
  {
   "cell_type": "markdown",
   "metadata": {
    "id": "UaS38kSWn4pl"
   },
   "source": [
    "Si realizamos esta misma operación con arreglos de Numpy, obtendremos otra salida:"
   ]
  },
  {
   "cell_type": "code",
   "execution_count": null,
   "metadata": {
    "colab": {
     "base_uri": "https://localhost:8080/"
    },
    "executionInfo": {
     "elapsed": 398,
     "status": "ok",
     "timestamp": 1614296939958,
     "user": {
      "displayName": "TOMAS ATEHORTUA GARCES",
      "photoUrl": "https://lh3.googleusercontent.com/a-/AOh14GiGUkLq_6mwruABeXaI8xmUG-KPkEhgDSRuZWdyX1j7hNt8Z-yCExqYGFCLuwvMj7zTVeub2OuFYZR29r5hkTsfiDEL1tqYzm60iLg2DEgMVvX35Zo9Uz7QJq0dqlGrLNEAVbemjjn93d40XCEJTwmOPB3kpTAb2ky8_ULMrmsodtB_EArqFi34NGnjOgjpzYcZ90huWvh9DEZvpBNR7GEhDgBIJbO65BKwozX2y7h-yx3FUax1ajs0VHIgMi-rcD8MY4NgYSwU9xUf2HK69MZXINIXkp_ZaIClJcK_-s12BblCct81iXeX1hUJnfPAbAeeCFZrMnC9r0ce9dc2KA2FNLUhvEsSLiPVlGLUzi7UlTY0UXq5tDmMlrxvpxa92G2pPcrnu5sxmAATqpQE-pfl-eLcyWrh2DSZxEHjCdoKf7qvMNIhY96ukne4vRd45V35Lhcl6RrOD0FUEnj5cWNHrLjHxw1-JkDTfKYNPTwiAabq_TarMBwHgl6Oe6KOS4Kvrhcs6eH3BI8KZys8cP5YUJLDvelreCppdJbXuAeqTXiS7SLmVKgZqfj3Gfzi0PKw0bg3i6bl6wJBuXwLw47iB8tDlZpTPbGTFl5mGwO7k_F19XDCwNdDuQY6V-oSgjwj9C0xI0prWm_fcfCjNbD1YIHSdN2YLHcl5ckZ6WEY5_oo0cheOmm2xcYa7Foni8ByHps5i2_Jp8KBmbs-fX4HpuklhVtB5NKJ_N1Yccs1q_EGXop09ekW-1QAYRKg92BEQi4=s64",
      "userId": "03427284999883076130"
     },
     "user_tz": 300
    },
    "id": "zoKWkWGuW7J6",
    "outputId": "76aba6e3-c0ae-455b-8f32-e0d750471b29"
   },
   "outputs": [
    {
     "data": {
      "text/plain": [
       "array([ 6,  8, 10, 12])"
      ]
     },
     "execution_count": 67,
     "metadata": {
      "tags": []
     },
     "output_type": "execute_result"
    }
   ],
   "source": [
    "np.add(lista1, lista2)"
   ]
  },
  {
   "cell_type": "code",
   "execution_count": null,
   "metadata": {
    "colab": {
     "base_uri": "https://localhost:8080/"
    },
    "executionInfo": {
     "elapsed": 380,
     "status": "ok",
     "timestamp": 1614296958324,
     "user": {
      "displayName": "TOMAS ATEHORTUA GARCES",
      "photoUrl": "https://lh3.googleusercontent.com/a-/AOh14GiGUkLq_6mwruABeXaI8xmUG-KPkEhgDSRuZWdyX1j7hNt8Z-yCExqYGFCLuwvMj7zTVeub2OuFYZR29r5hkTsfiDEL1tqYzm60iLg2DEgMVvX35Zo9Uz7QJq0dqlGrLNEAVbemjjn93d40XCEJTwmOPB3kpTAb2ky8_ULMrmsodtB_EArqFi34NGnjOgjpzYcZ90huWvh9DEZvpBNR7GEhDgBIJbO65BKwozX2y7h-yx3FUax1ajs0VHIgMi-rcD8MY4NgYSwU9xUf2HK69MZXINIXkp_ZaIClJcK_-s12BblCct81iXeX1hUJnfPAbAeeCFZrMnC9r0ce9dc2KA2FNLUhvEsSLiPVlGLUzi7UlTY0UXq5tDmMlrxvpxa92G2pPcrnu5sxmAATqpQE-pfl-eLcyWrh2DSZxEHjCdoKf7qvMNIhY96ukne4vRd45V35Lhcl6RrOD0FUEnj5cWNHrLjHxw1-JkDTfKYNPTwiAabq_TarMBwHgl6Oe6KOS4Kvrhcs6eH3BI8KZys8cP5YUJLDvelreCppdJbXuAeqTXiS7SLmVKgZqfj3Gfzi0PKw0bg3i6bl6wJBuXwLw47iB8tDlZpTPbGTFl5mGwO7k_F19XDCwNdDuQY6V-oSgjwj9C0xI0prWm_fcfCjNbD1YIHSdN2YLHcl5ckZ6WEY5_oo0cheOmm2xcYa7Foni8ByHps5i2_Jp8KBmbs-fX4HpuklhVtB5NKJ_N1Yccs1q_EGXop09ekW-1QAYRKg92BEQi4=s64",
      "userId": "03427284999883076130"
     },
     "user_tz": 300
    },
    "id": "cI_eeqL1mJz6",
    "outputId": "7da138d5-50c0-49fd-a6ae-3279bbeee40e"
   },
   "outputs": [
    {
     "data": {
      "text/plain": [
       "array([ 6,  8, 10, 12])"
      ]
     },
     "execution_count": 68,
     "metadata": {
      "tags": []
     },
     "output_type": "execute_result"
    }
   ],
   "source": [
    "np.add(arreglo_1, arreglo_2)"
   ]
  },
  {
   "cell_type": "markdown",
   "metadata": {
    "id": "zKgpb0_qn-HU"
   },
   "source": [
    "Como los arreglos son de NumPy, se está realizando lo que se conoce como una operación **vectorizada**, la cual es una operación sobre los arreglos que se realiza **elemento a elemento**, mediante lo que conocemos como funciones universales (ufuncs) de Numpy.\n",
    "\n",
    "Las ufuncs de NumPy se sienten muy naturales de usar porque hacen uso de los operadores aritméticos nativos de Python.\n",
    "\n",
    "La siguiente tabla nos muestra algunas de las funciones universales disponibles en Numpy (ver [documentación](https://numpy.org/doc/stable/reference/ufuncs.html#ufunc))\n",
    "\n",
    "\n",
    "\n",
    "\n",
    "\n"
   ]
  },
  {
   "cell_type": "markdown",
   "metadata": {
    "id": "O30aQ1F3oDGJ"
   },
   "source": [
    "![picture](https://i.imgur.com/8HaZzxg.png)"
   ]
  },
  {
   "cell_type": "markdown",
   "metadata": {
    "id": "QRY6DxB2oE_b"
   },
   "source": [
    "Note que estas se muestran en dos versiones: mediante un operador y su correspondiente función universal. Por ejemplo `+` y `np.add`. Como en el ejemplo anterior, si los arreglos son de NumPy, el operador que utilicemos para realizar las operaciones representará la función universal. Si el arreglo no se define como uno de NumPy, y si queremos aplicar una función universal, debemos utilizar la forma explícita de la función universal"
   ]
  },
  {
   "cell_type": "markdown",
   "metadata": {
    "id": "y7KNncF9oRRY"
   },
   "source": [
    "En el caso de la multiplicacion en Python, la multiplicación de un número entero $n$ por una lista $l$, nos arroja una lista que contiene los elementos de $l$ $n$ veces:\n",
    "\n"
   ]
  },
  {
   "cell_type": "code",
   "execution_count": null,
   "metadata": {
    "colab": {
     "base_uri": "https://localhost:8080/"
    },
    "executionInfo": {
     "elapsed": 434,
     "status": "ok",
     "timestamp": 1614297070961,
     "user": {
      "displayName": "TOMAS ATEHORTUA GARCES",
      "photoUrl": "https://lh3.googleusercontent.com/a-/AOh14GiGUkLq_6mwruABeXaI8xmUG-KPkEhgDSRuZWdyX1j7hNt8Z-yCExqYGFCLuwvMj7zTVeub2OuFYZR29r5hkTsfiDEL1tqYzm60iLg2DEgMVvX35Zo9Uz7QJq0dqlGrLNEAVbemjjn93d40XCEJTwmOPB3kpTAb2ky8_ULMrmsodtB_EArqFi34NGnjOgjpzYcZ90huWvh9DEZvpBNR7GEhDgBIJbO65BKwozX2y7h-yx3FUax1ajs0VHIgMi-rcD8MY4NgYSwU9xUf2HK69MZXINIXkp_ZaIClJcK_-s12BblCct81iXeX1hUJnfPAbAeeCFZrMnC9r0ce9dc2KA2FNLUhvEsSLiPVlGLUzi7UlTY0UXq5tDmMlrxvpxa92G2pPcrnu5sxmAATqpQE-pfl-eLcyWrh2DSZxEHjCdoKf7qvMNIhY96ukne4vRd45V35Lhcl6RrOD0FUEnj5cWNHrLjHxw1-JkDTfKYNPTwiAabq_TarMBwHgl6Oe6KOS4Kvrhcs6eH3BI8KZys8cP5YUJLDvelreCppdJbXuAeqTXiS7SLmVKgZqfj3Gfzi0PKw0bg3i6bl6wJBuXwLw47iB8tDlZpTPbGTFl5mGwO7k_F19XDCwNdDuQY6V-oSgjwj9C0xI0prWm_fcfCjNbD1YIHSdN2YLHcl5ckZ6WEY5_oo0cheOmm2xcYa7Foni8ByHps5i2_Jp8KBmbs-fX4HpuklhVtB5NKJ_N1Yccs1q_EGXop09ekW-1QAYRKg92BEQi4=s64",
      "userId": "03427284999883076130"
     },
     "user_tz": 300
    },
    "id": "WUwzi26woNfP",
    "outputId": "9cfc69a6-3572-4bce-81a5-52edcd6d631f"
   },
   "outputs": [
    {
     "data": {
      "text/plain": [
       "[1, 2, 3, 4, 1, 2, 3, 4, 1, 2, 3, 4]"
      ]
     },
     "execution_count": 69,
     "metadata": {
      "tags": []
     },
     "output_type": "execute_result"
    }
   ],
   "source": [
    "n = 3\n",
    "\n",
    "lista1 * n"
   ]
  },
  {
   "cell_type": "markdown",
   "metadata": {
    "id": "fcTyaQuqoXWD"
   },
   "source": [
    "Si quisieramos multiplicar el entero por cada uno de los elementos de la lista $l$ debemos incluir un ciclo for:"
   ]
  },
  {
   "cell_type": "code",
   "execution_count": null,
   "metadata": {
    "colab": {
     "base_uri": "https://localhost:8080/"
    },
    "executionInfo": {
     "elapsed": 376,
     "status": "ok",
     "timestamp": 1614297112822,
     "user": {
      "displayName": "TOMAS ATEHORTUA GARCES",
      "photoUrl": "https://lh3.googleusercontent.com/a-/AOh14GiGUkLq_6mwruABeXaI8xmUG-KPkEhgDSRuZWdyX1j7hNt8Z-yCExqYGFCLuwvMj7zTVeub2OuFYZR29r5hkTsfiDEL1tqYzm60iLg2DEgMVvX35Zo9Uz7QJq0dqlGrLNEAVbemjjn93d40XCEJTwmOPB3kpTAb2ky8_ULMrmsodtB_EArqFi34NGnjOgjpzYcZ90huWvh9DEZvpBNR7GEhDgBIJbO65BKwozX2y7h-yx3FUax1ajs0VHIgMi-rcD8MY4NgYSwU9xUf2HK69MZXINIXkp_ZaIClJcK_-s12BblCct81iXeX1hUJnfPAbAeeCFZrMnC9r0ce9dc2KA2FNLUhvEsSLiPVlGLUzi7UlTY0UXq5tDmMlrxvpxa92G2pPcrnu5sxmAATqpQE-pfl-eLcyWrh2DSZxEHjCdoKf7qvMNIhY96ukne4vRd45V35Lhcl6RrOD0FUEnj5cWNHrLjHxw1-JkDTfKYNPTwiAabq_TarMBwHgl6Oe6KOS4Kvrhcs6eH3BI8KZys8cP5YUJLDvelreCppdJbXuAeqTXiS7SLmVKgZqfj3Gfzi0PKw0bg3i6bl6wJBuXwLw47iB8tDlZpTPbGTFl5mGwO7k_F19XDCwNdDuQY6V-oSgjwj9C0xI0prWm_fcfCjNbD1YIHSdN2YLHcl5ckZ6WEY5_oo0cheOmm2xcYa7Foni8ByHps5i2_Jp8KBmbs-fX4HpuklhVtB5NKJ_N1Yccs1q_EGXop09ekW-1QAYRKg92BEQi4=s64",
      "userId": "03427284999883076130"
     },
     "user_tz": 300
    },
    "id": "eehb3jVroUXv",
    "outputId": "7caf59aa-7178-48c5-a3ed-b335d30be29e"
   },
   "outputs": [
    {
     "data": {
      "text/plain": [
       "[3, 6, 9, 12]"
      ]
     },
     "execution_count": 70,
     "metadata": {
      "tags": []
     },
     "output_type": "execute_result"
    }
   ],
   "source": [
    "[n * elemento for elemento in lista1]"
   ]
  },
  {
   "cell_type": "markdown",
   "metadata": {
    "id": "4On1dnhAocf1"
   },
   "source": [
    "Además, la operación de multiplicación entre listas no está definida:"
   ]
  },
  {
   "cell_type": "code",
   "execution_count": null,
   "metadata": {
    "colab": {
     "base_uri": "https://localhost:8080/"
    },
    "executionInfo": {
     "elapsed": 452,
     "status": "ok",
     "timestamp": 1614297162302,
     "user": {
      "displayName": "TOMAS ATEHORTUA GARCES",
      "photoUrl": "https://lh3.googleusercontent.com/a-/AOh14GiGUkLq_6mwruABeXaI8xmUG-KPkEhgDSRuZWdyX1j7hNt8Z-yCExqYGFCLuwvMj7zTVeub2OuFYZR29r5hkTsfiDEL1tqYzm60iLg2DEgMVvX35Zo9Uz7QJq0dqlGrLNEAVbemjjn93d40XCEJTwmOPB3kpTAb2ky8_ULMrmsodtB_EArqFi34NGnjOgjpzYcZ90huWvh9DEZvpBNR7GEhDgBIJbO65BKwozX2y7h-yx3FUax1ajs0VHIgMi-rcD8MY4NgYSwU9xUf2HK69MZXINIXkp_ZaIClJcK_-s12BblCct81iXeX1hUJnfPAbAeeCFZrMnC9r0ce9dc2KA2FNLUhvEsSLiPVlGLUzi7UlTY0UXq5tDmMlrxvpxa92G2pPcrnu5sxmAATqpQE-pfl-eLcyWrh2DSZxEHjCdoKf7qvMNIhY96ukne4vRd45V35Lhcl6RrOD0FUEnj5cWNHrLjHxw1-JkDTfKYNPTwiAabq_TarMBwHgl6Oe6KOS4Kvrhcs6eH3BI8KZys8cP5YUJLDvelreCppdJbXuAeqTXiS7SLmVKgZqfj3Gfzi0PKw0bg3i6bl6wJBuXwLw47iB8tDlZpTPbGTFl5mGwO7k_F19XDCwNdDuQY6V-oSgjwj9C0xI0prWm_fcfCjNbD1YIHSdN2YLHcl5ckZ6WEY5_oo0cheOmm2xcYa7Foni8ByHps5i2_Jp8KBmbs-fX4HpuklhVtB5NKJ_N1Yccs1q_EGXop09ekW-1QAYRKg92BEQi4=s64",
      "userId": "03427284999883076130"
     },
     "user_tz": 300
    },
    "id": "znHi4VqIoZIX",
    "outputId": "e15c0dc9-4c16-4771-cd59-a7b5778ef79f"
   },
   "outputs": [
    {
     "name": "stdout",
     "output_type": "stream",
     "text": [
      "can't multiply sequence by non-int of type 'list'\n"
     ]
    }
   ],
   "source": [
    "try:\n",
    "  lista1 * lista2\n",
    "except Exception as e:\n",
    "  print(e)"
   ]
  },
  {
   "cell_type": "markdown",
   "metadata": {
    "id": "4bpFYr2aohJI"
   },
   "source": [
    "En NumPy, ambas operaciones se hacen de forma vectorizada:"
   ]
  },
  {
   "cell_type": "code",
   "execution_count": null,
   "metadata": {
    "colab": {
     "base_uri": "https://localhost:8080/"
    },
    "executionInfo": {
     "elapsed": 433,
     "status": "ok",
     "timestamp": 1614297176317,
     "user": {
      "displayName": "TOMAS ATEHORTUA GARCES",
      "photoUrl": "https://lh3.googleusercontent.com/a-/AOh14GiGUkLq_6mwruABeXaI8xmUG-KPkEhgDSRuZWdyX1j7hNt8Z-yCExqYGFCLuwvMj7zTVeub2OuFYZR29r5hkTsfiDEL1tqYzm60iLg2DEgMVvX35Zo9Uz7QJq0dqlGrLNEAVbemjjn93d40XCEJTwmOPB3kpTAb2ky8_ULMrmsodtB_EArqFi34NGnjOgjpzYcZ90huWvh9DEZvpBNR7GEhDgBIJbO65BKwozX2y7h-yx3FUax1ajs0VHIgMi-rcD8MY4NgYSwU9xUf2HK69MZXINIXkp_ZaIClJcK_-s12BblCct81iXeX1hUJnfPAbAeeCFZrMnC9r0ce9dc2KA2FNLUhvEsSLiPVlGLUzi7UlTY0UXq5tDmMlrxvpxa92G2pPcrnu5sxmAATqpQE-pfl-eLcyWrh2DSZxEHjCdoKf7qvMNIhY96ukne4vRd45V35Lhcl6RrOD0FUEnj5cWNHrLjHxw1-JkDTfKYNPTwiAabq_TarMBwHgl6Oe6KOS4Kvrhcs6eH3BI8KZys8cP5YUJLDvelreCppdJbXuAeqTXiS7SLmVKgZqfj3Gfzi0PKw0bg3i6bl6wJBuXwLw47iB8tDlZpTPbGTFl5mGwO7k_F19XDCwNdDuQY6V-oSgjwj9C0xI0prWm_fcfCjNbD1YIHSdN2YLHcl5ckZ6WEY5_oo0cheOmm2xcYa7Foni8ByHps5i2_Jp8KBmbs-fX4HpuklhVtB5NKJ_N1Yccs1q_EGXop09ekW-1QAYRKg92BEQi4=s64",
      "userId": "03427284999883076130"
     },
     "user_tz": 300
    },
    "id": "Blkne33JoeWH",
    "outputId": "caa357ac-6325-4bce-b5bd-498008f3657d"
   },
   "outputs": [
    {
     "data": {
      "text/plain": [
       "array([ 3,  6,  9, 12])"
      ]
     },
     "execution_count": 72,
     "metadata": {
      "tags": []
     },
     "output_type": "execute_result"
    }
   ],
   "source": [
    "n * arreglo_1"
   ]
  },
  {
   "cell_type": "code",
   "execution_count": null,
   "metadata": {
    "colab": {
     "base_uri": "https://localhost:8080/"
    },
    "executionInfo": {
     "elapsed": 393,
     "status": "ok",
     "timestamp": 1614297202001,
     "user": {
      "displayName": "TOMAS ATEHORTUA GARCES",
      "photoUrl": "https://lh3.googleusercontent.com/a-/AOh14GiGUkLq_6mwruABeXaI8xmUG-KPkEhgDSRuZWdyX1j7hNt8Z-yCExqYGFCLuwvMj7zTVeub2OuFYZR29r5hkTsfiDEL1tqYzm60iLg2DEgMVvX35Zo9Uz7QJq0dqlGrLNEAVbemjjn93d40XCEJTwmOPB3kpTAb2ky8_ULMrmsodtB_EArqFi34NGnjOgjpzYcZ90huWvh9DEZvpBNR7GEhDgBIJbO65BKwozX2y7h-yx3FUax1ajs0VHIgMi-rcD8MY4NgYSwU9xUf2HK69MZXINIXkp_ZaIClJcK_-s12BblCct81iXeX1hUJnfPAbAeeCFZrMnC9r0ce9dc2KA2FNLUhvEsSLiPVlGLUzi7UlTY0UXq5tDmMlrxvpxa92G2pPcrnu5sxmAATqpQE-pfl-eLcyWrh2DSZxEHjCdoKf7qvMNIhY96ukne4vRd45V35Lhcl6RrOD0FUEnj5cWNHrLjHxw1-JkDTfKYNPTwiAabq_TarMBwHgl6Oe6KOS4Kvrhcs6eH3BI8KZys8cP5YUJLDvelreCppdJbXuAeqTXiS7SLmVKgZqfj3Gfzi0PKw0bg3i6bl6wJBuXwLw47iB8tDlZpTPbGTFl5mGwO7k_F19XDCwNdDuQY6V-oSgjwj9C0xI0prWm_fcfCjNbD1YIHSdN2YLHcl5ckZ6WEY5_oo0cheOmm2xcYa7Foni8ByHps5i2_Jp8KBmbs-fX4HpuklhVtB5NKJ_N1Yccs1q_EGXop09ekW-1QAYRKg92BEQi4=s64",
      "userId": "03427284999883076130"
     },
     "user_tz": 300
    },
    "id": "ErVbZnjqok0Z",
    "outputId": "f84c6ade-49fa-4840-f7a3-b17c2ab19d79"
   },
   "outputs": [
    {
     "data": {
      "text/plain": [
       "array([ 3,  6,  9, 12])"
      ]
     },
     "execution_count": 73,
     "metadata": {
      "tags": []
     },
     "output_type": "execute_result"
    }
   ],
   "source": [
    "np.multiply(n, lista1)"
   ]
  },
  {
   "cell_type": "markdown",
   "metadata": {
    "id": "-rfxd2U2oo_Y"
   },
   "source": [
    "Note que ambas operaciones se hacen elemento a elemento, caracteriztica de las operaciones vectorizadas implementadas a través de ufuncs. Note además, que en el caso de la multiplicación de arreglos, la salida no corresponde a lo que conocemos como producto punto. Para realizar esta operación, tanto en arreglos unidimensionales como n-dimensionales, podemos utilizar la función universal `np.dot` o su operador asociado `@`:"
   ]
  },
  {
   "cell_type": "code",
   "execution_count": null,
   "metadata": {
    "colab": {
     "base_uri": "https://localhost:8080/"
    },
    "executionInfo": {
     "elapsed": 380,
     "status": "ok",
     "timestamp": 1614297228905,
     "user": {
      "displayName": "TOMAS ATEHORTUA GARCES",
      "photoUrl": "https://lh3.googleusercontent.com/a-/AOh14GiGUkLq_6mwruABeXaI8xmUG-KPkEhgDSRuZWdyX1j7hNt8Z-yCExqYGFCLuwvMj7zTVeub2OuFYZR29r5hkTsfiDEL1tqYzm60iLg2DEgMVvX35Zo9Uz7QJq0dqlGrLNEAVbemjjn93d40XCEJTwmOPB3kpTAb2ky8_ULMrmsodtB_EArqFi34NGnjOgjpzYcZ90huWvh9DEZvpBNR7GEhDgBIJbO65BKwozX2y7h-yx3FUax1ajs0VHIgMi-rcD8MY4NgYSwU9xUf2HK69MZXINIXkp_ZaIClJcK_-s12BblCct81iXeX1hUJnfPAbAeeCFZrMnC9r0ce9dc2KA2FNLUhvEsSLiPVlGLUzi7UlTY0UXq5tDmMlrxvpxa92G2pPcrnu5sxmAATqpQE-pfl-eLcyWrh2DSZxEHjCdoKf7qvMNIhY96ukne4vRd45V35Lhcl6RrOD0FUEnj5cWNHrLjHxw1-JkDTfKYNPTwiAabq_TarMBwHgl6Oe6KOS4Kvrhcs6eH3BI8KZys8cP5YUJLDvelreCppdJbXuAeqTXiS7SLmVKgZqfj3Gfzi0PKw0bg3i6bl6wJBuXwLw47iB8tDlZpTPbGTFl5mGwO7k_F19XDCwNdDuQY6V-oSgjwj9C0xI0prWm_fcfCjNbD1YIHSdN2YLHcl5ckZ6WEY5_oo0cheOmm2xcYa7Foni8ByHps5i2_Jp8KBmbs-fX4HpuklhVtB5NKJ_N1Yccs1q_EGXop09ekW-1QAYRKg92BEQi4=s64",
      "userId": "03427284999883076130"
     },
     "user_tz": 300
    },
    "id": "U1_Rn5l_om-e",
    "outputId": "28987edd-5fea-4dce-d667-2942f10364e9"
   },
   "outputs": [
    {
     "data": {
      "text/plain": [
       "array([ 5, 12, 21, 32])"
      ]
     },
     "execution_count": 74,
     "metadata": {
      "tags": []
     },
     "output_type": "execute_result"
    }
   ],
   "source": [
    "arreglo_1 * arreglo_2"
   ]
  },
  {
   "cell_type": "code",
   "execution_count": null,
   "metadata": {
    "colab": {
     "base_uri": "https://localhost:8080/"
    },
    "executionInfo": {
     "elapsed": 398,
     "status": "ok",
     "timestamp": 1614297266357,
     "user": {
      "displayName": "TOMAS ATEHORTUA GARCES",
      "photoUrl": "https://lh3.googleusercontent.com/a-/AOh14GiGUkLq_6mwruABeXaI8xmUG-KPkEhgDSRuZWdyX1j7hNt8Z-yCExqYGFCLuwvMj7zTVeub2OuFYZR29r5hkTsfiDEL1tqYzm60iLg2DEgMVvX35Zo9Uz7QJq0dqlGrLNEAVbemjjn93d40XCEJTwmOPB3kpTAb2ky8_ULMrmsodtB_EArqFi34NGnjOgjpzYcZ90huWvh9DEZvpBNR7GEhDgBIJbO65BKwozX2y7h-yx3FUax1ajs0VHIgMi-rcD8MY4NgYSwU9xUf2HK69MZXINIXkp_ZaIClJcK_-s12BblCct81iXeX1hUJnfPAbAeeCFZrMnC9r0ce9dc2KA2FNLUhvEsSLiPVlGLUzi7UlTY0UXq5tDmMlrxvpxa92G2pPcrnu5sxmAATqpQE-pfl-eLcyWrh2DSZxEHjCdoKf7qvMNIhY96ukne4vRd45V35Lhcl6RrOD0FUEnj5cWNHrLjHxw1-JkDTfKYNPTwiAabq_TarMBwHgl6Oe6KOS4Kvrhcs6eH3BI8KZys8cP5YUJLDvelreCppdJbXuAeqTXiS7SLmVKgZqfj3Gfzi0PKw0bg3i6bl6wJBuXwLw47iB8tDlZpTPbGTFl5mGwO7k_F19XDCwNdDuQY6V-oSgjwj9C0xI0prWm_fcfCjNbD1YIHSdN2YLHcl5ckZ6WEY5_oo0cheOmm2xcYa7Foni8ByHps5i2_Jp8KBmbs-fX4HpuklhVtB5NKJ_N1Yccs1q_EGXop09ekW-1QAYRKg92BEQi4=s64",
      "userId": "03427284999883076130"
     },
     "user_tz": 300
    },
    "id": "ph2YxZD0jyPX",
    "outputId": "4c4f0609-ddc5-435c-baa4-279b9887bb0a"
   },
   "outputs": [
    {
     "data": {
      "text/plain": [
       "30"
      ]
     },
     "execution_count": 76,
     "metadata": {
      "tags": []
     },
     "output_type": "execute_result"
    }
   ],
   "source": [
    "np.dot(arreglo_1 , arreglo_1)"
   ]
  },
  {
   "cell_type": "code",
   "execution_count": null,
   "metadata": {
    "colab": {
     "base_uri": "https://localhost:8080/"
    },
    "executionInfo": {
     "elapsed": 366,
     "status": "ok",
     "timestamp": 1614297301640,
     "user": {
      "displayName": "TOMAS ATEHORTUA GARCES",
      "photoUrl": "https://lh3.googleusercontent.com/a-/AOh14GiGUkLq_6mwruABeXaI8xmUG-KPkEhgDSRuZWdyX1j7hNt8Z-yCExqYGFCLuwvMj7zTVeub2OuFYZR29r5hkTsfiDEL1tqYzm60iLg2DEgMVvX35Zo9Uz7QJq0dqlGrLNEAVbemjjn93d40XCEJTwmOPB3kpTAb2ky8_ULMrmsodtB_EArqFi34NGnjOgjpzYcZ90huWvh9DEZvpBNR7GEhDgBIJbO65BKwozX2y7h-yx3FUax1ajs0VHIgMi-rcD8MY4NgYSwU9xUf2HK69MZXINIXkp_ZaIClJcK_-s12BblCct81iXeX1hUJnfPAbAeeCFZrMnC9r0ce9dc2KA2FNLUhvEsSLiPVlGLUzi7UlTY0UXq5tDmMlrxvpxa92G2pPcrnu5sxmAATqpQE-pfl-eLcyWrh2DSZxEHjCdoKf7qvMNIhY96ukne4vRd45V35Lhcl6RrOD0FUEnj5cWNHrLjHxw1-JkDTfKYNPTwiAabq_TarMBwHgl6Oe6KOS4Kvrhcs6eH3BI8KZys8cP5YUJLDvelreCppdJbXuAeqTXiS7SLmVKgZqfj3Gfzi0PKw0bg3i6bl6wJBuXwLw47iB8tDlZpTPbGTFl5mGwO7k_F19XDCwNdDuQY6V-oSgjwj9C0xI0prWm_fcfCjNbD1YIHSdN2YLHcl5ckZ6WEY5_oo0cheOmm2xcYa7Foni8ByHps5i2_Jp8KBmbs-fX4HpuklhVtB5NKJ_N1Yccs1q_EGXop09ekW-1QAYRKg92BEQi4=s64",
      "userId": "03427284999883076130"
     },
     "user_tz": 300
    },
    "id": "RG4rGxIcouzV",
    "outputId": "7c73c38e-afee-419a-e4a5-f1f18a052f71"
   },
   "outputs": [
    {
     "data": {
      "text/plain": [
       "30"
      ]
     },
     "execution_count": 77,
     "metadata": {
      "tags": []
     },
     "output_type": "execute_result"
    }
   ],
   "source": [
    "arreglo_1 @ arreglo_1"
   ]
  },
  {
   "cell_type": "markdown",
   "metadata": {
    "id": "blW_wxEMo2n_"
   },
   "source": [
    "Es importante mencionar que el uso de operaciones vectorizadas no solo significa la utilización de funciones universales para la realización de las operaciones elemento a elemento.\n",
    "\n",
    "En el contexto de lenguajes de alto nivel como Python, el término **vectorización** representa el uso de código optimizado y precompilado escrito en lenguajes de bajo nivel (por ejemplo C) para realizar operaciones matemáticas en una secuencia de datos. Esto se realiza en lugar de una iteración explicita escrita en código nativo, como ya vimos en el ejemplo de la multiplicacion, que hace que las operaciones sean más eficientes.\n",
    "\n",
    "**Ejercicio**\n",
    "\n",
    "Veamos un ejemplo con el cual se ilustra la eficiencia computacional que se alcanza con las operaciones vectorizadas de NumPy: Construyamos una función que calcule el recíproco de una lista"
   ]
  },
  {
   "cell_type": "code",
   "execution_count": null,
   "metadata": {
    "colab": {
     "base_uri": "https://localhost:8080/"
    },
    "executionInfo": {
     "elapsed": 428,
     "status": "ok",
     "timestamp": 1614298319490,
     "user": {
      "displayName": "TOMAS ATEHORTUA GARCES",
      "photoUrl": "https://lh3.googleusercontent.com/a-/AOh14GiGUkLq_6mwruABeXaI8xmUG-KPkEhgDSRuZWdyX1j7hNt8Z-yCExqYGFCLuwvMj7zTVeub2OuFYZR29r5hkTsfiDEL1tqYzm60iLg2DEgMVvX35Zo9Uz7QJq0dqlGrLNEAVbemjjn93d40XCEJTwmOPB3kpTAb2ky8_ULMrmsodtB_EArqFi34NGnjOgjpzYcZ90huWvh9DEZvpBNR7GEhDgBIJbO65BKwozX2y7h-yx3FUax1ajs0VHIgMi-rcD8MY4NgYSwU9xUf2HK69MZXINIXkp_ZaIClJcK_-s12BblCct81iXeX1hUJnfPAbAeeCFZrMnC9r0ce9dc2KA2FNLUhvEsSLiPVlGLUzi7UlTY0UXq5tDmMlrxvpxa92G2pPcrnu5sxmAATqpQE-pfl-eLcyWrh2DSZxEHjCdoKf7qvMNIhY96ukne4vRd45V35Lhcl6RrOD0FUEnj5cWNHrLjHxw1-JkDTfKYNPTwiAabq_TarMBwHgl6Oe6KOS4Kvrhcs6eH3BI8KZys8cP5YUJLDvelreCppdJbXuAeqTXiS7SLmVKgZqfj3Gfzi0PKw0bg3i6bl6wJBuXwLw47iB8tDlZpTPbGTFl5mGwO7k_F19XDCwNdDuQY6V-oSgjwj9C0xI0prWm_fcfCjNbD1YIHSdN2YLHcl5ckZ6WEY5_oo0cheOmm2xcYa7Foni8ByHps5i2_Jp8KBmbs-fX4HpuklhVtB5NKJ_N1Yccs1q_EGXop09ekW-1QAYRKg92BEQi4=s64",
      "userId": "03427284999883076130"
     },
     "user_tz": 300
    },
    "id": "Zn-mpy3uovu2",
    "outputId": "cc706255-c49f-4b3e-a0c2-cd2f8fba779e"
   },
   "outputs": [
    {
     "data": {
      "text/plain": [
       "[1.0, 0.5, 0.3333333333333333]"
      ]
     },
     "execution_count": 78,
     "metadata": {
      "tags": []
     },
     "output_type": "execute_result"
    }
   ],
   "source": [
    "def Lista_Reciprocos(lista):\n",
    "  \"\"\"\n",
    "  Esta función calcula una lista con los recíprocos\n",
    "  de los elemntos de la lista que acepta por entrada\n",
    "  \"\"\"\n",
    "  salida = []\n",
    "  for elemento in lista:\n",
    "    salida.append(1/elemento)\n",
    "\n",
    "  return salida\n",
    "\n",
    "Lista_Reciprocos([1, 2, 3])"
   ]
  },
  {
   "cell_type": "code",
   "execution_count": null,
   "metadata": {
    "id": "iN6Wod1Ml-2u"
   },
   "outputs": [],
   "source": [
    "a = list(range(1,100000))"
   ]
  },
  {
   "cell_type": "code",
   "execution_count": null,
   "metadata": {
    "colab": {
     "base_uri": "https://localhost:8080/"
    },
    "executionInfo": {
     "elapsed": 7281,
     "status": "ok",
     "timestamp": 1614298428427,
     "user": {
      "displayName": "TOMAS ATEHORTUA GARCES",
      "photoUrl": "https://lh3.googleusercontent.com/a-/AOh14GiGUkLq_6mwruABeXaI8xmUG-KPkEhgDSRuZWdyX1j7hNt8Z-yCExqYGFCLuwvMj7zTVeub2OuFYZR29r5hkTsfiDEL1tqYzm60iLg2DEgMVvX35Zo9Uz7QJq0dqlGrLNEAVbemjjn93d40XCEJTwmOPB3kpTAb2ky8_ULMrmsodtB_EArqFi34NGnjOgjpzYcZ90huWvh9DEZvpBNR7GEhDgBIJbO65BKwozX2y7h-yx3FUax1ajs0VHIgMi-rcD8MY4NgYSwU9xUf2HK69MZXINIXkp_ZaIClJcK_-s12BblCct81iXeX1hUJnfPAbAeeCFZrMnC9r0ce9dc2KA2FNLUhvEsSLiPVlGLUzi7UlTY0UXq5tDmMlrxvpxa92G2pPcrnu5sxmAATqpQE-pfl-eLcyWrh2DSZxEHjCdoKf7qvMNIhY96ukne4vRd45V35Lhcl6RrOD0FUEnj5cWNHrLjHxw1-JkDTfKYNPTwiAabq_TarMBwHgl6Oe6KOS4Kvrhcs6eH3BI8KZys8cP5YUJLDvelreCppdJbXuAeqTXiS7SLmVKgZqfj3Gfzi0PKw0bg3i6bl6wJBuXwLw47iB8tDlZpTPbGTFl5mGwO7k_F19XDCwNdDuQY6V-oSgjwj9C0xI0prWm_fcfCjNbD1YIHSdN2YLHcl5ckZ6WEY5_oo0cheOmm2xcYa7Foni8ByHps5i2_Jp8KBmbs-fX4HpuklhVtB5NKJ_N1Yccs1q_EGXop09ekW-1QAYRKg92BEQi4=s64",
      "userId": "03427284999883076130"
     },
     "user_tz": 300
    },
    "id": "UHJMir62qkG4",
    "outputId": "d37620da-0030-4dff-ce23-a36d16305afb"
   },
   "outputs": [
    {
     "name": "stdout",
     "output_type": "stream",
     "text": [
      "100 loops, best of 5: 10.8 ms per loop\n"
     ]
    }
   ],
   "source": [
    "%timeit Lista_Reciprocos(a)"
   ]
  },
  {
   "cell_type": "markdown",
   "metadata": {
    "id": "msPOlCbpqyi5"
   },
   "source": [
    "La operación equivalente en NumPy, utilizando ufuncs, será:"
   ]
  },
  {
   "cell_type": "code",
   "execution_count": null,
   "metadata": {
    "id": "9TDHiCQEqonx"
   },
   "outputs": [],
   "source": [
    "R = np.arange(1,100000)"
   ]
  },
  {
   "cell_type": "code",
   "execution_count": null,
   "metadata": {
    "colab": {
     "base_uri": "https://localhost:8080/"
    },
    "executionInfo": {
     "elapsed": 1655,
     "status": "ok",
     "timestamp": 1614298487305,
     "user": {
      "displayName": "TOMAS ATEHORTUA GARCES",
      "photoUrl": "https://lh3.googleusercontent.com/a-/AOh14GiGUkLq_6mwruABeXaI8xmUG-KPkEhgDSRuZWdyX1j7hNt8Z-yCExqYGFCLuwvMj7zTVeub2OuFYZR29r5hkTsfiDEL1tqYzm60iLg2DEgMVvX35Zo9Uz7QJq0dqlGrLNEAVbemjjn93d40XCEJTwmOPB3kpTAb2ky8_ULMrmsodtB_EArqFi34NGnjOgjpzYcZ90huWvh9DEZvpBNR7GEhDgBIJbO65BKwozX2y7h-yx3FUax1ajs0VHIgMi-rcD8MY4NgYSwU9xUf2HK69MZXINIXkp_ZaIClJcK_-s12BblCct81iXeX1hUJnfPAbAeeCFZrMnC9r0ce9dc2KA2FNLUhvEsSLiPVlGLUzi7UlTY0UXq5tDmMlrxvpxa92G2pPcrnu5sxmAATqpQE-pfl-eLcyWrh2DSZxEHjCdoKf7qvMNIhY96ukne4vRd45V35Lhcl6RrOD0FUEnj5cWNHrLjHxw1-JkDTfKYNPTwiAabq_TarMBwHgl6Oe6KOS4Kvrhcs6eH3BI8KZys8cP5YUJLDvelreCppdJbXuAeqTXiS7SLmVKgZqfj3Gfzi0PKw0bg3i6bl6wJBuXwLw47iB8tDlZpTPbGTFl5mGwO7k_F19XDCwNdDuQY6V-oSgjwj9C0xI0prWm_fcfCjNbD1YIHSdN2YLHcl5ckZ6WEY5_oo0cheOmm2xcYa7Foni8ByHps5i2_Jp8KBmbs-fX4HpuklhVtB5NKJ_N1Yccs1q_EGXop09ekW-1QAYRKg92BEQi4=s64",
      "userId": "03427284999883076130"
     },
     "user_tz": 300
    },
    "id": "mDfJZbk3r9o7",
    "outputId": "1e238ecc-2803-41d6-ceca-1993affc6ede"
   },
   "outputs": [
    {
     "name": "stdout",
     "output_type": "stream",
     "text": [
      "The slowest run took 13.13 times longer than the fastest. This could mean that an intermediate result is being cached.\n",
      "1000 loops, best of 5: 199 µs per loop\n"
     ]
    }
   ],
   "source": [
    "%timeit 1/R"
   ]
  },
  {
   "cell_type": "markdown",
   "metadata": {
    "id": "XL-vRpQ8rC3Z"
   },
   "source": [
    "Note que hay tres ordenes de magnitud de diferencia en el tiempo de computo en ambas versiones.\n",
    "\n",
    "Resulta que el cuello de botella aquí no son las operaciones en sí mismas, sino la verificación de tipos y demás que Python debe hacer en cada ciclo. Cada vez que se calcula el recíproco, Python primero examina el tipo de objeto y realiza una búsqueda dinámica de la función correcta que se utilizará para ese tipo. Si estuviéramos trabajando en código compilado, esta especificación de tipo se conocería antes de que se ejecute el código y el resultado podría calcularse de manera mucho más eficiente.\n",
    "\n",
    "Los cálculos que usan vectorización a través de ufuncs son casi siempre más eficientes que su contraparte implementada a través de ciclos, especialmente a medida que los arreglos crecen en tamaño. Cada vez que se vea un ciclo de este tipo en Python, debe considerarse si este puede reemplazarse con una expresión vectorizada."
   ]
  },
  {
   "cell_type": "markdown",
   "metadata": {
    "id": "UELRD3TY0jAd"
   },
   "source": [
    "**Ejercicio:**  La serie de Leibniz  $$\\frac{\\pi}{4}=1-\\frac{1}{3}+\\frac{1}{5}-\\frac{1}{7} -\\frac{1}{9}+ \\cdot \\cdot \\cdot=\\sum_{n=0}^{\\infty} \\frac{(-1)^n}{2n+1}$$ La serie de Leibniz permite obtener un valor aproximado para el número $\\pi$. Escriba un programa en el que dado el número de términos de la sumatoria, se calcule y muestre el valor aproximado de $\\pi$.\n",
    "\n",
    " $$\\pi=4\\sum_{n=0}^{\\infty} \\frac{(-1)^n}{2n+1}$$"
   ]
  },
  {
   "cell_type": "markdown",
   "metadata": {
    "id": "kfYllNf-s8lK"
   },
   "source": [
    "$$\\sum_{n = 1}^{i} n$$"
   ]
  },
  {
   "cell_type": "code",
   "execution_count": null,
   "metadata": {
    "colab": {
     "base_uri": "https://localhost:8080/"
    },
    "executionInfo": {
     "elapsed": 6606,
     "status": "ok",
     "timestamp": 1614299453238,
     "user": {
      "displayName": "TOMAS ATEHORTUA GARCES",
      "photoUrl": "https://lh3.googleusercontent.com/a-/AOh14GiGUkLq_6mwruABeXaI8xmUG-KPkEhgDSRuZWdyX1j7hNt8Z-yCExqYGFCLuwvMj7zTVeub2OuFYZR29r5hkTsfiDEL1tqYzm60iLg2DEgMVvX35Zo9Uz7QJq0dqlGrLNEAVbemjjn93d40XCEJTwmOPB3kpTAb2ky8_ULMrmsodtB_EArqFi34NGnjOgjpzYcZ90huWvh9DEZvpBNR7GEhDgBIJbO65BKwozX2y7h-yx3FUax1ajs0VHIgMi-rcD8MY4NgYSwU9xUf2HK69MZXINIXkp_ZaIClJcK_-s12BblCct81iXeX1hUJnfPAbAeeCFZrMnC9r0ce9dc2KA2FNLUhvEsSLiPVlGLUzi7UlTY0UXq5tDmMlrxvpxa92G2pPcrnu5sxmAATqpQE-pfl-eLcyWrh2DSZxEHjCdoKf7qvMNIhY96ukne4vRd45V35Lhcl6RrOD0FUEnj5cWNHrLjHxw1-JkDTfKYNPTwiAabq_TarMBwHgl6Oe6KOS4Kvrhcs6eH3BI8KZys8cP5YUJLDvelreCppdJbXuAeqTXiS7SLmVKgZqfj3Gfzi0PKw0bg3i6bl6wJBuXwLw47iB8tDlZpTPbGTFl5mGwO7k_F19XDCwNdDuQY6V-oSgjwj9C0xI0prWm_fcfCjNbD1YIHSdN2YLHcl5ckZ6WEY5_oo0cheOmm2xcYa7Foni8ByHps5i2_Jp8KBmbs-fX4HpuklhVtB5NKJ_N1Yccs1q_EGXop09ekW-1QAYRKg92BEQi4=s64",
      "userId": "03427284999883076130"
     },
     "user_tz": 300
    },
    "id": "0ao1hId_vAUp",
    "outputId": "87050282-d3bf-4ccc-9271-ade3861b3015"
   },
   "outputs": [
    {
     "name": "stdout",
     "output_type": "stream",
     "text": [
      "Ingrese valor y (0 para finalizar):1\n",
      "Ingresar valor (0 para finalizar):2\n",
      "Ingresar valor (0 para finalizar):3\n",
      "Ingresar valor (0 para finalizar):4\n",
      "Ingresar valor (0 para finalizar):0\n",
      "[1.0, 0.5, 0.3333333333333333, 0.25]\n",
      "0.00042400000000242244\n"
     ]
    },
    {
     "name": "stderr",
     "output_type": "stream",
     "text": [
      "/usr/local/lib/python3.7/dist-packages/ipykernel_launcher.py:10: DeprecationWarning: time.clock has been deprecated in Python 3.3 and will be removed from Python 3.8: use time.perf_counter or time.process_time instead\n",
      "  # Remove the CWD from sys.path while we load stuff.\n",
      "/usr/local/lib/python3.7/dist-packages/ipykernel_launcher.py:14: DeprecationWarning: time.clock has been deprecated in Python 3.3 and will be removed from Python 3.8: use time.perf_counter or time.process_time instead\n",
      "  \n"
     ]
    }
   ],
   "source": [
    "import time\n",
    "\n",
    "\n",
    "lista=[]\n",
    "valor=int(input(\"Ingrese valor y (0 para finalizar):\"))\n",
    "while valor!=0:\n",
    "    lista.append(valor)\n",
    "    valor=int(input(\"Ingresar valor (0 para finalizar):\"))\n",
    "lista2=[]\n",
    "t = time.clock()\n",
    "for i in range (len(lista)):\n",
    "  lista2.append(1/lista[i])\n",
    "print (lista2)\n",
    "t2 = time.clock()- t\n",
    "print(t2)"
   ]
  },
  {
   "cell_type": "code",
   "execution_count": null,
   "metadata": {
    "colab": {
     "base_uri": "https://localhost:8080/"
    },
    "executionInfo": {
     "elapsed": 384,
     "status": "ok",
     "timestamp": 1614298775610,
     "user": {
      "displayName": "TOMAS ATEHORTUA GARCES",
      "photoUrl": "https://lh3.googleusercontent.com/a-/AOh14GiGUkLq_6mwruABeXaI8xmUG-KPkEhgDSRuZWdyX1j7hNt8Z-yCExqYGFCLuwvMj7zTVeub2OuFYZR29r5hkTsfiDEL1tqYzm60iLg2DEgMVvX35Zo9Uz7QJq0dqlGrLNEAVbemjjn93d40XCEJTwmOPB3kpTAb2ky8_ULMrmsodtB_EArqFi34NGnjOgjpzYcZ90huWvh9DEZvpBNR7GEhDgBIJbO65BKwozX2y7h-yx3FUax1ajs0VHIgMi-rcD8MY4NgYSwU9xUf2HK69MZXINIXkp_ZaIClJcK_-s12BblCct81iXeX1hUJnfPAbAeeCFZrMnC9r0ce9dc2KA2FNLUhvEsSLiPVlGLUzi7UlTY0UXq5tDmMlrxvpxa92G2pPcrnu5sxmAATqpQE-pfl-eLcyWrh2DSZxEHjCdoKf7qvMNIhY96ukne4vRd45V35Lhcl6RrOD0FUEnj5cWNHrLjHxw1-JkDTfKYNPTwiAabq_TarMBwHgl6Oe6KOS4Kvrhcs6eH3BI8KZys8cP5YUJLDvelreCppdJbXuAeqTXiS7SLmVKgZqfj3Gfzi0PKw0bg3i6bl6wJBuXwLw47iB8tDlZpTPbGTFl5mGwO7k_F19XDCwNdDuQY6V-oSgjwj9C0xI0prWm_fcfCjNbD1YIHSdN2YLHcl5ckZ6WEY5_oo0cheOmm2xcYa7Foni8ByHps5i2_Jp8KBmbs-fX4HpuklhVtB5NKJ_N1Yccs1q_EGXop09ekW-1QAYRKg92BEQi4=s64",
      "userId": "03427284999883076130"
     },
     "user_tz": 300
    },
    "id": "lUuGrSOso-by",
    "outputId": "8ed7c7fa-d9b2-4990-ca60-8b778d8c9823"
   },
   "outputs": [
    {
     "data": {
      "text/plain": [
       "5050"
      ]
     },
     "execution_count": 85,
     "metadata": {
      "tags": []
     },
     "output_type": "execute_result"
    }
   ],
   "source": [
    "def suma(n):\n",
    "  return sum(i for i in range(1,n+1))\n",
    "\n",
    "suma(100)"
   ]
  },
  {
   "cell_type": "code",
   "execution_count": null,
   "metadata": {
    "colab": {
     "base_uri": "https://localhost:8080/"
    },
    "executionInfo": {
     "elapsed": 443,
     "status": "ok",
     "timestamp": 1614299525780,
     "user": {
      "displayName": "TOMAS ATEHORTUA GARCES",
      "photoUrl": "https://lh3.googleusercontent.com/a-/AOh14GiGUkLq_6mwruABeXaI8xmUG-KPkEhgDSRuZWdyX1j7hNt8Z-yCExqYGFCLuwvMj7zTVeub2OuFYZR29r5hkTsfiDEL1tqYzm60iLg2DEgMVvX35Zo9Uz7QJq0dqlGrLNEAVbemjjn93d40XCEJTwmOPB3kpTAb2ky8_ULMrmsodtB_EArqFi34NGnjOgjpzYcZ90huWvh9DEZvpBNR7GEhDgBIJbO65BKwozX2y7h-yx3FUax1ajs0VHIgMi-rcD8MY4NgYSwU9xUf2HK69MZXINIXkp_ZaIClJcK_-s12BblCct81iXeX1hUJnfPAbAeeCFZrMnC9r0ce9dc2KA2FNLUhvEsSLiPVlGLUzi7UlTY0UXq5tDmMlrxvpxa92G2pPcrnu5sxmAATqpQE-pfl-eLcyWrh2DSZxEHjCdoKf7qvMNIhY96ukne4vRd45V35Lhcl6RrOD0FUEnj5cWNHrLjHxw1-JkDTfKYNPTwiAabq_TarMBwHgl6Oe6KOS4Kvrhcs6eH3BI8KZys8cP5YUJLDvelreCppdJbXuAeqTXiS7SLmVKgZqfj3Gfzi0PKw0bg3i6bl6wJBuXwLw47iB8tDlZpTPbGTFl5mGwO7k_F19XDCwNdDuQY6V-oSgjwj9C0xI0prWm_fcfCjNbD1YIHSdN2YLHcl5ckZ6WEY5_oo0cheOmm2xcYa7Foni8ByHps5i2_Jp8KBmbs-fX4HpuklhVtB5NKJ_N1Yccs1q_EGXop09ekW-1QAYRKg92BEQi4=s64",
      "userId": "03427284999883076130"
     },
     "user_tz": 300
    },
    "id": "aDzg6rF2paFd",
    "outputId": "17bf6d30-cd53-4e07-d912-d17b091ff5f2"
   },
   "outputs": [
    {
     "data": {
      "text/plain": [
       "3.1415826535897198"
      ]
     },
     "execution_count": 89,
     "metadata": {
      "tags": []
     },
     "output_type": "execute_result"
    }
   ],
   "source": [
    "def leib(n):\n",
    "  return 4*sum(((-1)**i)/(2*i+1) for i in range(0,n))\n",
    "\n",
    "leib(100000)"
   ]
  },
  {
   "cell_type": "code",
   "execution_count": null,
   "metadata": {
    "colab": {
     "base_uri": "https://localhost:8080/"
    },
    "executionInfo": {
     "elapsed": 385,
     "status": "ok",
     "timestamp": 1614299703760,
     "user": {
      "displayName": "TOMAS ATEHORTUA GARCES",
      "photoUrl": "https://lh3.googleusercontent.com/a-/AOh14GiGUkLq_6mwruABeXaI8xmUG-KPkEhgDSRuZWdyX1j7hNt8Z-yCExqYGFCLuwvMj7zTVeub2OuFYZR29r5hkTsfiDEL1tqYzm60iLg2DEgMVvX35Zo9Uz7QJq0dqlGrLNEAVbemjjn93d40XCEJTwmOPB3kpTAb2ky8_ULMrmsodtB_EArqFi34NGnjOgjpzYcZ90huWvh9DEZvpBNR7GEhDgBIJbO65BKwozX2y7h-yx3FUax1ajs0VHIgMi-rcD8MY4NgYSwU9xUf2HK69MZXINIXkp_ZaIClJcK_-s12BblCct81iXeX1hUJnfPAbAeeCFZrMnC9r0ce9dc2KA2FNLUhvEsSLiPVlGLUzi7UlTY0UXq5tDmMlrxvpxa92G2pPcrnu5sxmAATqpQE-pfl-eLcyWrh2DSZxEHjCdoKf7qvMNIhY96ukne4vRd45V35Lhcl6RrOD0FUEnj5cWNHrLjHxw1-JkDTfKYNPTwiAabq_TarMBwHgl6Oe6KOS4Kvrhcs6eH3BI8KZys8cP5YUJLDvelreCppdJbXuAeqTXiS7SLmVKgZqfj3Gfzi0PKw0bg3i6bl6wJBuXwLw47iB8tDlZpTPbGTFl5mGwO7k_F19XDCwNdDuQY6V-oSgjwj9C0xI0prWm_fcfCjNbD1YIHSdN2YLHcl5ckZ6WEY5_oo0cheOmm2xcYa7Foni8ByHps5i2_Jp8KBmbs-fX4HpuklhVtB5NKJ_N1Yccs1q_EGXop09ekW-1QAYRKg92BEQi4=s64",
      "userId": "03427284999883076130"
     },
     "user_tz": 300
    },
    "id": "1XUsYj5Lq84P",
    "outputId": "03afabbc-55eb-482f-bab0-08f2646ee4bd"
   },
   "outputs": [
    {
     "data": {
      "text/plain": [
       "3.1416026534897927"
      ]
     },
     "execution_count": 92,
     "metadata": {
      "tags": []
     },
     "output_type": "execute_result"
    }
   ],
   "source": [
    "def Py_numpy(m):\n",
    "  n = np.arange(m+1)\n",
    "  return 4 * np.sum((-1)**n/(2*n + 1))\n",
    "Py_numpy(100000)"
   ]
  },
  {
   "cell_type": "code",
   "execution_count": null,
   "metadata": {
    "colab": {
     "base_uri": "https://localhost:8080/"
    },
    "executionInfo": {
     "elapsed": 2881,
     "status": "ok",
     "timestamp": 1614299734898,
     "user": {
      "displayName": "TOMAS ATEHORTUA GARCES",
      "photoUrl": "https://lh3.googleusercontent.com/a-/AOh14GiGUkLq_6mwruABeXaI8xmUG-KPkEhgDSRuZWdyX1j7hNt8Z-yCExqYGFCLuwvMj7zTVeub2OuFYZR29r5hkTsfiDEL1tqYzm60iLg2DEgMVvX35Zo9Uz7QJq0dqlGrLNEAVbemjjn93d40XCEJTwmOPB3kpTAb2ky8_ULMrmsodtB_EArqFi34NGnjOgjpzYcZ90huWvh9DEZvpBNR7GEhDgBIJbO65BKwozX2y7h-yx3FUax1ajs0VHIgMi-rcD8MY4NgYSwU9xUf2HK69MZXINIXkp_ZaIClJcK_-s12BblCct81iXeX1hUJnfPAbAeeCFZrMnC9r0ce9dc2KA2FNLUhvEsSLiPVlGLUzi7UlTY0UXq5tDmMlrxvpxa92G2pPcrnu5sxmAATqpQE-pfl-eLcyWrh2DSZxEHjCdoKf7qvMNIhY96ukne4vRd45V35Lhcl6RrOD0FUEnj5cWNHrLjHxw1-JkDTfKYNPTwiAabq_TarMBwHgl6Oe6KOS4Kvrhcs6eH3BI8KZys8cP5YUJLDvelreCppdJbXuAeqTXiS7SLmVKgZqfj3Gfzi0PKw0bg3i6bl6wJBuXwLw47iB8tDlZpTPbGTFl5mGwO7k_F19XDCwNdDuQY6V-oSgjwj9C0xI0prWm_fcfCjNbD1YIHSdN2YLHcl5ckZ6WEY5_oo0cheOmm2xcYa7Foni8ByHps5i2_Jp8KBmbs-fX4HpuklhVtB5NKJ_N1Yccs1q_EGXop09ekW-1QAYRKg92BEQi4=s64",
      "userId": "03427284999883076130"
     },
     "user_tz": 300
    },
    "id": "-VOFUOucrAoQ",
    "outputId": "953cae12-6527-4ac9-faa6-ebbc4b31862c"
   },
   "outputs": [
    {
     "name": "stdout",
     "output_type": "stream",
     "text": [
      "10 loops, best of 5: 39.7 ms per loop\n"
     ]
    }
   ],
   "source": [
    "%timeit leib(100000)"
   ]
  },
  {
   "cell_type": "code",
   "execution_count": null,
   "metadata": {
    "colab": {
     "base_uri": "https://localhost:8080/"
    },
    "executionInfo": {
     "elapsed": 4598,
     "status": "ok",
     "timestamp": 1614299745576,
     "user": {
      "displayName": "TOMAS ATEHORTUA GARCES",
      "photoUrl": "https://lh3.googleusercontent.com/a-/AOh14GiGUkLq_6mwruABeXaI8xmUG-KPkEhgDSRuZWdyX1j7hNt8Z-yCExqYGFCLuwvMj7zTVeub2OuFYZR29r5hkTsfiDEL1tqYzm60iLg2DEgMVvX35Zo9Uz7QJq0dqlGrLNEAVbemjjn93d40XCEJTwmOPB3kpTAb2ky8_ULMrmsodtB_EArqFi34NGnjOgjpzYcZ90huWvh9DEZvpBNR7GEhDgBIJbO65BKwozX2y7h-yx3FUax1ajs0VHIgMi-rcD8MY4NgYSwU9xUf2HK69MZXINIXkp_ZaIClJcK_-s12BblCct81iXeX1hUJnfPAbAeeCFZrMnC9r0ce9dc2KA2FNLUhvEsSLiPVlGLUzi7UlTY0UXq5tDmMlrxvpxa92G2pPcrnu5sxmAATqpQE-pfl-eLcyWrh2DSZxEHjCdoKf7qvMNIhY96ukne4vRd45V35Lhcl6RrOD0FUEnj5cWNHrLjHxw1-JkDTfKYNPTwiAabq_TarMBwHgl6Oe6KOS4Kvrhcs6eH3BI8KZys8cP5YUJLDvelreCppdJbXuAeqTXiS7SLmVKgZqfj3Gfzi0PKw0bg3i6bl6wJBuXwLw47iB8tDlZpTPbGTFl5mGwO7k_F19XDCwNdDuQY6V-oSgjwj9C0xI0prWm_fcfCjNbD1YIHSdN2YLHcl5ckZ6WEY5_oo0cheOmm2xcYa7Foni8ByHps5i2_Jp8KBmbs-fX4HpuklhVtB5NKJ_N1Yccs1q_EGXop09ekW-1QAYRKg92BEQi4=s64",
      "userId": "03427284999883076130"
     },
     "user_tz": 300
    },
    "id": "1xup3gtb0tB-",
    "outputId": "cce0beb1-0223-4cf3-e65e-fac9c3bcd465"
   },
   "outputs": [
    {
     "name": "stdout",
     "output_type": "stream",
     "text": [
      "100 loops, best of 5: 6.81 ms per loop\n"
     ]
    }
   ],
   "source": [
    "%timeit Py_numpy(100000)"
   ]
  },
  {
   "cell_type": "markdown",
   "metadata": {
    "id": "0EETj9DjMES9"
   },
   "source": [
    "<p><a name=\"apeA\"></a></p>\n",
    "\n",
    "# **Apéndice A: Iteradores útiles**\n",
    "\n",
    "A menudo vamos a necesitar iterar los diferentes objetos de diversas formas, por lo que vamos a requerir de iteradores que nos permitan tener más libertad a la hora de definir las iteracions. Veamos algunos de estos iteradores disponibles en Python.\n",
    "\n",
    "Por ejemplo, si quisieramos iterar sobre una lista de manera que la variable de iteración corra de forma ordenada sobre los elementos, es decir, no sobre los elementos de acuerdo a su posición en la lista sino de acuerdo a su valor numérico, podemos utilizar el método `sorted` sobre la lista:"
   ]
  },
  {
   "cell_type": "code",
   "execution_count": null,
   "metadata": {
    "id": "vr92oF7uxe91"
   },
   "outputs": [],
   "source": [
    "l1 = [1,2,3,4]\n",
    "l2 = [5,6,7,8]"
   ]
  },
  {
   "cell_type": "code",
   "execution_count": null,
   "metadata": {
    "colab": {
     "base_uri": "https://localhost:8080/"
    },
    "executionInfo": {
     "elapsed": 382,
     "status": "ok",
     "timestamp": 1614300331574,
     "user": {
      "displayName": "TOMAS ATEHORTUA GARCES",
      "photoUrl": "https://lh3.googleusercontent.com/a-/AOh14GiGUkLq_6mwruABeXaI8xmUG-KPkEhgDSRuZWdyX1j7hNt8Z-yCExqYGFCLuwvMj7zTVeub2OuFYZR29r5hkTsfiDEL1tqYzm60iLg2DEgMVvX35Zo9Uz7QJq0dqlGrLNEAVbemjjn93d40XCEJTwmOPB3kpTAb2ky8_ULMrmsodtB_EArqFi34NGnjOgjpzYcZ90huWvh9DEZvpBNR7GEhDgBIJbO65BKwozX2y7h-yx3FUax1ajs0VHIgMi-rcD8MY4NgYSwU9xUf2HK69MZXINIXkp_ZaIClJcK_-s12BblCct81iXeX1hUJnfPAbAeeCFZrMnC9r0ce9dc2KA2FNLUhvEsSLiPVlGLUzi7UlTY0UXq5tDmMlrxvpxa92G2pPcrnu5sxmAATqpQE-pfl-eLcyWrh2DSZxEHjCdoKf7qvMNIhY96ukne4vRd45V35Lhcl6RrOD0FUEnj5cWNHrLjHxw1-JkDTfKYNPTwiAabq_TarMBwHgl6Oe6KOS4Kvrhcs6eH3BI8KZys8cP5YUJLDvelreCppdJbXuAeqTXiS7SLmVKgZqfj3Gfzi0PKw0bg3i6bl6wJBuXwLw47iB8tDlZpTPbGTFl5mGwO7k_F19XDCwNdDuQY6V-oSgjwj9C0xI0prWm_fcfCjNbD1YIHSdN2YLHcl5ckZ6WEY5_oo0cheOmm2xcYa7Foni8ByHps5i2_Jp8KBmbs-fX4HpuklhVtB5NKJ_N1Yccs1q_EGXop09ekW-1QAYRKg92BEQi4=s64",
      "userId": "03427284999883076130"
     },
     "user_tz": 300
    },
    "id": "_iXf4g3FyZD_",
    "outputId": "3631212a-92a1-4f29-c7dd-eb0e17586bb1"
   },
   "outputs": [
    {
     "name": "stdout",
     "output_type": "stream",
     "text": [
      "[(1, 5), (2, 6), (3, 7), (4, 8)]\n"
     ]
    }
   ],
   "source": [
    "print(list(zip(l1,l2)))"
   ]
  },
  {
   "cell_type": "code",
   "execution_count": null,
   "metadata": {
    "colab": {
     "base_uri": "https://localhost:8080/"
    },
    "executionInfo": {
     "elapsed": 443,
     "status": "ok",
     "timestamp": 1614300077391,
     "user": {
      "displayName": "TOMAS ATEHORTUA GARCES",
      "photoUrl": "https://lh3.googleusercontent.com/a-/AOh14GiGUkLq_6mwruABeXaI8xmUG-KPkEhgDSRuZWdyX1j7hNt8Z-yCExqYGFCLuwvMj7zTVeub2OuFYZR29r5hkTsfiDEL1tqYzm60iLg2DEgMVvX35Zo9Uz7QJq0dqlGrLNEAVbemjjn93d40XCEJTwmOPB3kpTAb2ky8_ULMrmsodtB_EArqFi34NGnjOgjpzYcZ90huWvh9DEZvpBNR7GEhDgBIJbO65BKwozX2y7h-yx3FUax1ajs0VHIgMi-rcD8MY4NgYSwU9xUf2HK69MZXINIXkp_ZaIClJcK_-s12BblCct81iXeX1hUJnfPAbAeeCFZrMnC9r0ce9dc2KA2FNLUhvEsSLiPVlGLUzi7UlTY0UXq5tDmMlrxvpxa92G2pPcrnu5sxmAATqpQE-pfl-eLcyWrh2DSZxEHjCdoKf7qvMNIhY96ukne4vRd45V35Lhcl6RrOD0FUEnj5cWNHrLjHxw1-JkDTfKYNPTwiAabq_TarMBwHgl6Oe6KOS4Kvrhcs6eH3BI8KZys8cP5YUJLDvelreCppdJbXuAeqTXiS7SLmVKgZqfj3Gfzi0PKw0bg3i6bl6wJBuXwLw47iB8tDlZpTPbGTFl5mGwO7k_F19XDCwNdDuQY6V-oSgjwj9C0xI0prWm_fcfCjNbD1YIHSdN2YLHcl5ckZ6WEY5_oo0cheOmm2xcYa7Foni8ByHps5i2_Jp8KBmbs-fX4HpuklhVtB5NKJ_N1Yccs1q_EGXop09ekW-1QAYRKg92BEQi4=s64",
      "userId": "03427284999883076130"
     },
     "user_tz": 300
    },
    "id": "-E9Puze9x8TN",
    "outputId": "775b95ed-0fe2-45cc-813e-a794f8d396ff"
   },
   "outputs": [
    {
     "name": "stdout",
     "output_type": "stream",
     "text": [
      "1 5\n",
      "2 6\n",
      "3 7\n",
      "4 8\n"
     ]
    }
   ],
   "source": [
    "for i, j in zip(l1, l2):\n",
    "  print(i ,j)"
   ]
  },
  {
   "cell_type": "code",
   "execution_count": null,
   "metadata": {
    "colab": {
     "base_uri": "https://localhost:8080/"
    },
    "executionInfo": {
     "elapsed": 392,
     "status": "ok",
     "timestamp": 1614300027335,
     "user": {
      "displayName": "TOMAS ATEHORTUA GARCES",
      "photoUrl": "https://lh3.googleusercontent.com/a-/AOh14GiGUkLq_6mwruABeXaI8xmUG-KPkEhgDSRuZWdyX1j7hNt8Z-yCExqYGFCLuwvMj7zTVeub2OuFYZR29r5hkTsfiDEL1tqYzm60iLg2DEgMVvX35Zo9Uz7QJq0dqlGrLNEAVbemjjn93d40XCEJTwmOPB3kpTAb2ky8_ULMrmsodtB_EArqFi34NGnjOgjpzYcZ90huWvh9DEZvpBNR7GEhDgBIJbO65BKwozX2y7h-yx3FUax1ajs0VHIgMi-rcD8MY4NgYSwU9xUf2HK69MZXINIXkp_ZaIClJcK_-s12BblCct81iXeX1hUJnfPAbAeeCFZrMnC9r0ce9dc2KA2FNLUhvEsSLiPVlGLUzi7UlTY0UXq5tDmMlrxvpxa92G2pPcrnu5sxmAATqpQE-pfl-eLcyWrh2DSZxEHjCdoKf7qvMNIhY96ukne4vRd45V35Lhcl6RrOD0FUEnj5cWNHrLjHxw1-JkDTfKYNPTwiAabq_TarMBwHgl6Oe6KOS4Kvrhcs6eH3BI8KZys8cP5YUJLDvelreCppdJbXuAeqTXiS7SLmVKgZqfj3Gfzi0PKw0bg3i6bl6wJBuXwLw47iB8tDlZpTPbGTFl5mGwO7k_F19XDCwNdDuQY6V-oSgjwj9C0xI0prWm_fcfCjNbD1YIHSdN2YLHcl5ckZ6WEY5_oo0cheOmm2xcYa7Foni8ByHps5i2_Jp8KBmbs-fX4HpuklhVtB5NKJ_N1Yccs1q_EGXop09ekW-1QAYRKg92BEQi4=s64",
      "userId": "03427284999883076130"
     },
     "user_tz": 300
    },
    "id": "h48Az-tuxuEo",
    "outputId": "ee5e7e32-b754-4937-9fda-26f996510b48"
   },
   "outputs": [
    {
     "name": "stdout",
     "output_type": "stream",
     "text": [
      "6\n",
      "7\n",
      "8\n",
      "9\n",
      "7\n",
      "8\n",
      "9\n",
      "10\n",
      "8\n",
      "9\n",
      "10\n",
      "11\n",
      "9\n",
      "10\n",
      "11\n",
      "12\n"
     ]
    }
   ],
   "source": [
    "for i in range(1, 5):\n",
    "  for j in range(5, 9):\n",
    "    print( i+ j)"
   ]
  },
  {
   "cell_type": "code",
   "execution_count": null,
   "metadata": {
    "colab": {
     "base_uri": "https://localhost:8080/"
    },
    "executionInfo": {
     "elapsed": 1566,
     "status": "ok",
     "timestamp": 1614294003158,
     "user": {
      "displayName": "TOMAS ATEHORTUA GARCES",
      "photoUrl": "https://lh3.googleusercontent.com/a-/AOh14GiGUkLq_6mwruABeXaI8xmUG-KPkEhgDSRuZWdyX1j7hNt8Z-yCExqYGFCLuwvMj7zTVeub2OuFYZR29r5hkTsfiDEL1tqYzm60iLg2DEgMVvX35Zo9Uz7QJq0dqlGrLNEAVbemjjn93d40XCEJTwmOPB3kpTAb2ky8_ULMrmsodtB_EArqFi34NGnjOgjpzYcZ90huWvh9DEZvpBNR7GEhDgBIJbO65BKwozX2y7h-yx3FUax1ajs0VHIgMi-rcD8MY4NgYSwU9xUf2HK69MZXINIXkp_ZaIClJcK_-s12BblCct81iXeX1hUJnfPAbAeeCFZrMnC9r0ce9dc2KA2FNLUhvEsSLiPVlGLUzi7UlTY0UXq5tDmMlrxvpxa92G2pPcrnu5sxmAATqpQE-pfl-eLcyWrh2DSZxEHjCdoKf7qvMNIhY96ukne4vRd45V35Lhcl6RrOD0FUEnj5cWNHrLjHxw1-JkDTfKYNPTwiAabq_TarMBwHgl6Oe6KOS4Kvrhcs6eH3BI8KZys8cP5YUJLDvelreCppdJbXuAeqTXiS7SLmVKgZqfj3Gfzi0PKw0bg3i6bl6wJBuXwLw47iB8tDlZpTPbGTFl5mGwO7k_F19XDCwNdDuQY6V-oSgjwj9C0xI0prWm_fcfCjNbD1YIHSdN2YLHcl5ckZ6WEY5_oo0cheOmm2xcYa7Foni8ByHps5i2_Jp8KBmbs-fX4HpuklhVtB5NKJ_N1Yccs1q_EGXop09ekW-1QAYRKg92BEQi4=s64",
      "userId": "03427284999883076130"
     },
     "user_tz": 300
    },
    "id": "QY2LlZ9s0vzq",
    "outputId": "2e6653d2-15c5-4998-d561-c7488dcce9aa"
   },
   "outputs": [
    {
     "name": "stdout",
     "output_type": "stream",
     "text": [
      "1\n",
      "2\n",
      "5\n",
      "7\n"
     ]
    }
   ],
   "source": [
    "L = [5, 2, 7, 1]\n",
    "\n",
    "for i in sorted(L):\n",
    "  print(i)"
   ]
  },
  {
   "cell_type": "markdown",
   "metadata": {
    "id": "MH9hJrfBMPZ2"
   },
   "source": [
    "Ahora, supongamos que necesitamos iterar sobre los elementos de una lista y además tener registro del índice del elemento. Podríamos escribir algo como:\n"
   ]
  },
  {
   "cell_type": "code",
   "execution_count": null,
   "metadata": {
    "colab": {
     "base_uri": "https://localhost:8080/"
    },
    "executionInfo": {
     "elapsed": 1553,
     "status": "ok",
     "timestamp": 1614294003159,
     "user": {
      "displayName": "TOMAS ATEHORTUA GARCES",
      "photoUrl": "https://lh3.googleusercontent.com/a-/AOh14GiGUkLq_6mwruABeXaI8xmUG-KPkEhgDSRuZWdyX1j7hNt8Z-yCExqYGFCLuwvMj7zTVeub2OuFYZR29r5hkTsfiDEL1tqYzm60iLg2DEgMVvX35Zo9Uz7QJq0dqlGrLNEAVbemjjn93d40XCEJTwmOPB3kpTAb2ky8_ULMrmsodtB_EArqFi34NGnjOgjpzYcZ90huWvh9DEZvpBNR7GEhDgBIJbO65BKwozX2y7h-yx3FUax1ajs0VHIgMi-rcD8MY4NgYSwU9xUf2HK69MZXINIXkp_ZaIClJcK_-s12BblCct81iXeX1hUJnfPAbAeeCFZrMnC9r0ce9dc2KA2FNLUhvEsSLiPVlGLUzi7UlTY0UXq5tDmMlrxvpxa92G2pPcrnu5sxmAATqpQE-pfl-eLcyWrh2DSZxEHjCdoKf7qvMNIhY96ukne4vRd45V35Lhcl6RrOD0FUEnj5cWNHrLjHxw1-JkDTfKYNPTwiAabq_TarMBwHgl6Oe6KOS4Kvrhcs6eH3BI8KZys8cP5YUJLDvelreCppdJbXuAeqTXiS7SLmVKgZqfj3Gfzi0PKw0bg3i6bl6wJBuXwLw47iB8tDlZpTPbGTFl5mGwO7k_F19XDCwNdDuQY6V-oSgjwj9C0xI0prWm_fcfCjNbD1YIHSdN2YLHcl5ckZ6WEY5_oo0cheOmm2xcYa7Foni8ByHps5i2_Jp8KBmbs-fX4HpuklhVtB5NKJ_N1Yccs1q_EGXop09ekW-1QAYRKg92BEQi4=s64",
      "userId": "03427284999883076130"
     },
     "user_tz": 300
    },
    "id": "W0VCzhWAMRBI",
    "outputId": "ad589082-e139-4cb0-f760-577b60b51ab8"
   },
   "outputs": [
    {
     "name": "stdout",
     "output_type": "stream",
     "text": [
      "indice: 0 valor: 4\n",
      "indice: 1 valor: 5\n",
      "indice: 2 valor: 6\n",
      "indice: 3 valor: 7\n"
     ]
    }
   ],
   "source": [
    "L = range(4,8)\n",
    "\n",
    "for i in range(len(L)):\n",
    "  print(f\"indice: {i} valor: {L[i]}\")"
   ]
  },
  {
   "cell_type": "markdown",
   "metadata": {
    "id": "49SF7S5RMT9z"
   },
   "source": [
    "Podemos realizar esta iteración utilizando el iterador `enumerate`, que produce un generador de tuplas con los índices y valores de la lista:"
   ]
  },
  {
   "cell_type": "code",
   "execution_count": null,
   "metadata": {
    "colab": {
     "base_uri": "https://localhost:8080/"
    },
    "executionInfo": {
     "elapsed": 411,
     "status": "ok",
     "timestamp": 1614299821657,
     "user": {
      "displayName": "TOMAS ATEHORTUA GARCES",
      "photoUrl": "https://lh3.googleusercontent.com/a-/AOh14GiGUkLq_6mwruABeXaI8xmUG-KPkEhgDSRuZWdyX1j7hNt8Z-yCExqYGFCLuwvMj7zTVeub2OuFYZR29r5hkTsfiDEL1tqYzm60iLg2DEgMVvX35Zo9Uz7QJq0dqlGrLNEAVbemjjn93d40XCEJTwmOPB3kpTAb2ky8_ULMrmsodtB_EArqFi34NGnjOgjpzYcZ90huWvh9DEZvpBNR7GEhDgBIJbO65BKwozX2y7h-yx3FUax1ajs0VHIgMi-rcD8MY4NgYSwU9xUf2HK69MZXINIXkp_ZaIClJcK_-s12BblCct81iXeX1hUJnfPAbAeeCFZrMnC9r0ce9dc2KA2FNLUhvEsSLiPVlGLUzi7UlTY0UXq5tDmMlrxvpxa92G2pPcrnu5sxmAATqpQE-pfl-eLcyWrh2DSZxEHjCdoKf7qvMNIhY96ukne4vRd45V35Lhcl6RrOD0FUEnj5cWNHrLjHxw1-JkDTfKYNPTwiAabq_TarMBwHgl6Oe6KOS4Kvrhcs6eH3BI8KZys8cP5YUJLDvelreCppdJbXuAeqTXiS7SLmVKgZqfj3Gfzi0PKw0bg3i6bl6wJBuXwLw47iB8tDlZpTPbGTFl5mGwO7k_F19XDCwNdDuQY6V-oSgjwj9C0xI0prWm_fcfCjNbD1YIHSdN2YLHcl5ckZ6WEY5_oo0cheOmm2xcYa7Foni8ByHps5i2_Jp8KBmbs-fX4HpuklhVtB5NKJ_N1Yccs1q_EGXop09ekW-1QAYRKg92BEQi4=s64",
      "userId": "03427284999883076130"
     },
     "user_tz": 300
    },
    "id": "NNyGsvrcMVjD",
    "outputId": "1e99be79-c09a-4a5b-d91e-456310ea7824"
   },
   "outputs": [
    {
     "data": {
      "text/plain": [
       "[(0, True), (1, '2'), (2, 3.0), (3, 4)]"
      ]
     },
     "execution_count": 96,
     "metadata": {
      "tags": []
     },
     "output_type": "execute_result"
    }
   ],
   "source": [
    "list(enumerate(L))"
   ]
  },
  {
   "cell_type": "code",
   "execution_count": null,
   "metadata": {
    "colab": {
     "base_uri": "https://localhost:8080/"
    },
    "executionInfo": {
     "elapsed": 359,
     "status": "ok",
     "timestamp": 1614299822640,
     "user": {
      "displayName": "TOMAS ATEHORTUA GARCES",
      "photoUrl": "https://lh3.googleusercontent.com/a-/AOh14GiGUkLq_6mwruABeXaI8xmUG-KPkEhgDSRuZWdyX1j7hNt8Z-yCExqYGFCLuwvMj7zTVeub2OuFYZR29r5hkTsfiDEL1tqYzm60iLg2DEgMVvX35Zo9Uz7QJq0dqlGrLNEAVbemjjn93d40XCEJTwmOPB3kpTAb2ky8_ULMrmsodtB_EArqFi34NGnjOgjpzYcZ90huWvh9DEZvpBNR7GEhDgBIJbO65BKwozX2y7h-yx3FUax1ajs0VHIgMi-rcD8MY4NgYSwU9xUf2HK69MZXINIXkp_ZaIClJcK_-s12BblCct81iXeX1hUJnfPAbAeeCFZrMnC9r0ce9dc2KA2FNLUhvEsSLiPVlGLUzi7UlTY0UXq5tDmMlrxvpxa92G2pPcrnu5sxmAATqpQE-pfl-eLcyWrh2DSZxEHjCdoKf7qvMNIhY96ukne4vRd45V35Lhcl6RrOD0FUEnj5cWNHrLjHxw1-JkDTfKYNPTwiAabq_TarMBwHgl6Oe6KOS4Kvrhcs6eH3BI8KZys8cP5YUJLDvelreCppdJbXuAeqTXiS7SLmVKgZqfj3Gfzi0PKw0bg3i6bl6wJBuXwLw47iB8tDlZpTPbGTFl5mGwO7k_F19XDCwNdDuQY6V-oSgjwj9C0xI0prWm_fcfCjNbD1YIHSdN2YLHcl5ckZ6WEY5_oo0cheOmm2xcYa7Foni8ByHps5i2_Jp8KBmbs-fX4HpuklhVtB5NKJ_N1Yccs1q_EGXop09ekW-1QAYRKg92BEQi4=s64",
      "userId": "03427284999883076130"
     },
     "user_tz": 300
    },
    "id": "SoM3qr8GMXUt",
    "outputId": "e75b0931-b369-44aa-9832-66dc810facf6"
   },
   "outputs": [
    {
     "name": "stdout",
     "output_type": "stream",
     "text": [
      "indice: 0 valor: True\n",
      "indice: 1 valor: 2\n",
      "indice: 2 valor: 3.0\n",
      "indice: 3 valor: 4\n"
     ]
    }
   ],
   "source": [
    "for i, valor in enumerate(L):\n",
    "  print(f\"indice: {i} valor: {valor}\")"
   ]
  },
  {
   "cell_type": "markdown",
   "metadata": {
    "id": "AoECMCfzMbXS"
   },
   "source": [
    "En otras ocaciones, vamos a querer iterar sobre varias listas simultáneamente. Una forma directa de hacerlo sería iterando sobre el índice de las listas\n"
   ]
  },
  {
   "cell_type": "code",
   "execution_count": null,
   "metadata": {
    "colab": {
     "base_uri": "https://localhost:8080/"
    },
    "executionInfo": {
     "elapsed": 414,
     "status": "ok",
     "timestamp": 1614299824289,
     "user": {
      "displayName": "TOMAS ATEHORTUA GARCES",
      "photoUrl": "https://lh3.googleusercontent.com/a-/AOh14GiGUkLq_6mwruABeXaI8xmUG-KPkEhgDSRuZWdyX1j7hNt8Z-yCExqYGFCLuwvMj7zTVeub2OuFYZR29r5hkTsfiDEL1tqYzm60iLg2DEgMVvX35Zo9Uz7QJq0dqlGrLNEAVbemjjn93d40XCEJTwmOPB3kpTAb2ky8_ULMrmsodtB_EArqFi34NGnjOgjpzYcZ90huWvh9DEZvpBNR7GEhDgBIJbO65BKwozX2y7h-yx3FUax1ajs0VHIgMi-rcD8MY4NgYSwU9xUf2HK69MZXINIXkp_ZaIClJcK_-s12BblCct81iXeX1hUJnfPAbAeeCFZrMnC9r0ce9dc2KA2FNLUhvEsSLiPVlGLUzi7UlTY0UXq5tDmMlrxvpxa92G2pPcrnu5sxmAATqpQE-pfl-eLcyWrh2DSZxEHjCdoKf7qvMNIhY96ukne4vRd45V35Lhcl6RrOD0FUEnj5cWNHrLjHxw1-JkDTfKYNPTwiAabq_TarMBwHgl6Oe6KOS4Kvrhcs6eH3BI8KZys8cP5YUJLDvelreCppdJbXuAeqTXiS7SLmVKgZqfj3Gfzi0PKw0bg3i6bl6wJBuXwLw47iB8tDlZpTPbGTFl5mGwO7k_F19XDCwNdDuQY6V-oSgjwj9C0xI0prWm_fcfCjNbD1YIHSdN2YLHcl5ckZ6WEY5_oo0cheOmm2xcYa7Foni8ByHps5i2_Jp8KBmbs-fX4HpuklhVtB5NKJ_N1Yccs1q_EGXop09ekW-1QAYRKg92BEQi4=s64",
      "userId": "03427284999883076130"
     },
     "user_tz": 300
    },
    "id": "thL4up0vMdeu",
    "outputId": "1a815c07-bc8c-4b05-8e37-b206198b5047"
   },
   "outputs": [
    {
     "name": "stdout",
     "output_type": "stream",
     "text": [
      "l_val: 2, r_val: 6\n",
      "l_val: 3, r_val: 7\n"
     ]
    }
   ],
   "source": [
    "l = range(2,4)\n",
    "r = range(6,8)\n",
    "\n",
    "for i in range(len(l)):\n",
    "  print(f\"l_val: {l[i]}, r_val: {r[i]}\")"
   ]
  },
  {
   "cell_type": "markdown",
   "metadata": {
    "id": "eWF2PRhoMhmp"
   },
   "source": [
    "Si, por ejemplo, cambiaramos la longitud de `l`, obtendríamos un error"
   ]
  },
  {
   "cell_type": "code",
   "execution_count": null,
   "metadata": {
    "colab": {
     "base_uri": "https://localhost:8080/",
     "height": 229
    },
    "executionInfo": {
     "elapsed": 396,
     "status": "error",
     "timestamp": 1614299826507,
     "user": {
      "displayName": "TOMAS ATEHORTUA GARCES",
      "photoUrl": "https://lh3.googleusercontent.com/a-/AOh14GiGUkLq_6mwruABeXaI8xmUG-KPkEhgDSRuZWdyX1j7hNt8Z-yCExqYGFCLuwvMj7zTVeub2OuFYZR29r5hkTsfiDEL1tqYzm60iLg2DEgMVvX35Zo9Uz7QJq0dqlGrLNEAVbemjjn93d40XCEJTwmOPB3kpTAb2ky8_ULMrmsodtB_EArqFi34NGnjOgjpzYcZ90huWvh9DEZvpBNR7GEhDgBIJbO65BKwozX2y7h-yx3FUax1ajs0VHIgMi-rcD8MY4NgYSwU9xUf2HK69MZXINIXkp_ZaIClJcK_-s12BblCct81iXeX1hUJnfPAbAeeCFZrMnC9r0ce9dc2KA2FNLUhvEsSLiPVlGLUzi7UlTY0UXq5tDmMlrxvpxa92G2pPcrnu5sxmAATqpQE-pfl-eLcyWrh2DSZxEHjCdoKf7qvMNIhY96ukne4vRd45V35Lhcl6RrOD0FUEnj5cWNHrLjHxw1-JkDTfKYNPTwiAabq_TarMBwHgl6Oe6KOS4Kvrhcs6eH3BI8KZys8cP5YUJLDvelreCppdJbXuAeqTXiS7SLmVKgZqfj3Gfzi0PKw0bg3i6bl6wJBuXwLw47iB8tDlZpTPbGTFl5mGwO7k_F19XDCwNdDuQY6V-oSgjwj9C0xI0prWm_fcfCjNbD1YIHSdN2YLHcl5ckZ6WEY5_oo0cheOmm2xcYa7Foni8ByHps5i2_Jp8KBmbs-fX4HpuklhVtB5NKJ_N1Yccs1q_EGXop09ekW-1QAYRKg92BEQi4=s64",
      "userId": "03427284999883076130"
     },
     "user_tz": 300
    },
    "id": "s6yh2USPMjyH",
    "outputId": "50da7c22-65d3-4634-81c0-d1730a03bc67"
   },
   "outputs": [
    {
     "name": "stdout",
     "output_type": "stream",
     "text": [
      "l_val: 2, r_val: 6\n",
      "l_val: 3, r_val: 7\n"
     ]
    },
    {
     "ename": "IndexError",
     "evalue": "ignored",
     "output_type": "error",
     "traceback": [
      "\u001b[0;31m---------------------------------------------------------------------------\u001b[0m",
      "\u001b[0;31mIndexError\u001b[0m                                Traceback (most recent call last)",
      "\u001b[0;32m<ipython-input-99-2d35745f08e0>\u001b[0m in \u001b[0;36m<module>\u001b[0;34m()\u001b[0m\n\u001b[1;32m      3\u001b[0m \u001b[0;34m\u001b[0m\u001b[0m\n\u001b[1;32m      4\u001b[0m \u001b[0;32mfor\u001b[0m \u001b[0mi\u001b[0m \u001b[0;32min\u001b[0m \u001b[0mrange\u001b[0m\u001b[0;34m(\u001b[0m\u001b[0mlen\u001b[0m\u001b[0;34m(\u001b[0m\u001b[0ml\u001b[0m\u001b[0;34m)\u001b[0m\u001b[0;34m)\u001b[0m\u001b[0;34m:\u001b[0m\u001b[0;34m\u001b[0m\u001b[0;34m\u001b[0m\u001b[0m\n\u001b[0;32m----> 5\u001b[0;31m   \u001b[0mprint\u001b[0m\u001b[0;34m(\u001b[0m\u001b[0;34mf\"l_val: {l[i]}, r_val: {r[i]}\"\u001b[0m\u001b[0;34m)\u001b[0m\u001b[0;34m\u001b[0m\u001b[0;34m\u001b[0m\u001b[0m\n\u001b[0m",
      "\u001b[0;31mIndexError\u001b[0m: range object index out of range"
     ]
    }
   ],
   "source": [
    "l = range(2,5)\n",
    "r = range(6,8)\n",
    "\n",
    "for i in range(len(l)):\n",
    "  print(f\"l_val: {l[i]}, r_val: {r[i]}\")"
   ]
  },
  {
   "cell_type": "markdown",
   "metadata": {
    "id": "7Xh60ILJMlwo"
   },
   "source": [
    "esta iteración se puede llevar a cabo mediante el iterador `zip`, que permite iterar sobre varios objetos iterables simultáneamente:"
   ]
  },
  {
   "cell_type": "code",
   "execution_count": null,
   "metadata": {
    "colab": {
     "base_uri": "https://localhost:8080/"
    },
    "executionInfo": {
     "elapsed": 400,
     "status": "ok",
     "timestamp": 1614299885346,
     "user": {
      "displayName": "TOMAS ATEHORTUA GARCES",
      "photoUrl": "https://lh3.googleusercontent.com/a-/AOh14GiGUkLq_6mwruABeXaI8xmUG-KPkEhgDSRuZWdyX1j7hNt8Z-yCExqYGFCLuwvMj7zTVeub2OuFYZR29r5hkTsfiDEL1tqYzm60iLg2DEgMVvX35Zo9Uz7QJq0dqlGrLNEAVbemjjn93d40XCEJTwmOPB3kpTAb2ky8_ULMrmsodtB_EArqFi34NGnjOgjpzYcZ90huWvh9DEZvpBNR7GEhDgBIJbO65BKwozX2y7h-yx3FUax1ajs0VHIgMi-rcD8MY4NgYSwU9xUf2HK69MZXINIXkp_ZaIClJcK_-s12BblCct81iXeX1hUJnfPAbAeeCFZrMnC9r0ce9dc2KA2FNLUhvEsSLiPVlGLUzi7UlTY0UXq5tDmMlrxvpxa92G2pPcrnu5sxmAATqpQE-pfl-eLcyWrh2DSZxEHjCdoKf7qvMNIhY96ukne4vRd45V35Lhcl6RrOD0FUEnj5cWNHrLjHxw1-JkDTfKYNPTwiAabq_TarMBwHgl6Oe6KOS4Kvrhcs6eH3BI8KZys8cP5YUJLDvelreCppdJbXuAeqTXiS7SLmVKgZqfj3Gfzi0PKw0bg3i6bl6wJBuXwLw47iB8tDlZpTPbGTFl5mGwO7k_F19XDCwNdDuQY6V-oSgjwj9C0xI0prWm_fcfCjNbD1YIHSdN2YLHcl5ckZ6WEY5_oo0cheOmm2xcYa7Foni8ByHps5i2_Jp8KBmbs-fX4HpuklhVtB5NKJ_N1Yccs1q_EGXop09ekW-1QAYRKg92BEQi4=s64",
      "userId": "03427284999883076130"
     },
     "user_tz": 300
    },
    "id": "M9WudlDDxMNC",
    "outputId": "ae607c06-4e06-4121-903d-99df89dfbc6b"
   },
   "outputs": [
    {
     "data": {
      "text/plain": [
       "range"
      ]
     },
     "execution_count": 109,
     "metadata": {
      "tags": []
     },
     "output_type": "execute_result"
    }
   ],
   "source": [
    "type(range(10))"
   ]
  },
  {
   "cell_type": "code",
   "execution_count": null,
   "metadata": {
    "colab": {
     "base_uri": "https://localhost:8080/"
    },
    "executionInfo": {
     "elapsed": 381,
     "status": "ok",
     "timestamp": 1614299830554,
     "user": {
      "displayName": "TOMAS ATEHORTUA GARCES",
      "photoUrl": "https://lh3.googleusercontent.com/a-/AOh14GiGUkLq_6mwruABeXaI8xmUG-KPkEhgDSRuZWdyX1j7hNt8Z-yCExqYGFCLuwvMj7zTVeub2OuFYZR29r5hkTsfiDEL1tqYzm60iLg2DEgMVvX35Zo9Uz7QJq0dqlGrLNEAVbemjjn93d40XCEJTwmOPB3kpTAb2ky8_ULMrmsodtB_EArqFi34NGnjOgjpzYcZ90huWvh9DEZvpBNR7GEhDgBIJbO65BKwozX2y7h-yx3FUax1ajs0VHIgMi-rcD8MY4NgYSwU9xUf2HK69MZXINIXkp_ZaIClJcK_-s12BblCct81iXeX1hUJnfPAbAeeCFZrMnC9r0ce9dc2KA2FNLUhvEsSLiPVlGLUzi7UlTY0UXq5tDmMlrxvpxa92G2pPcrnu5sxmAATqpQE-pfl-eLcyWrh2DSZxEHjCdoKf7qvMNIhY96ukne4vRd45V35Lhcl6RrOD0FUEnj5cWNHrLjHxw1-JkDTfKYNPTwiAabq_TarMBwHgl6Oe6KOS4Kvrhcs6eH3BI8KZys8cP5YUJLDvelreCppdJbXuAeqTXiS7SLmVKgZqfj3Gfzi0PKw0bg3i6bl6wJBuXwLw47iB8tDlZpTPbGTFl5mGwO7k_F19XDCwNdDuQY6V-oSgjwj9C0xI0prWm_fcfCjNbD1YIHSdN2YLHcl5ckZ6WEY5_oo0cheOmm2xcYa7Foni8ByHps5i2_Jp8KBmbs-fX4HpuklhVtB5NKJ_N1Yccs1q_EGXop09ekW-1QAYRKg92BEQi4=s64",
      "userId": "03427284999883076130"
     },
     "user_tz": 300
    },
    "id": "0eG2LGenMnLX",
    "outputId": "3dc70ec3-4073-4430-a717-8b8f28c031dd"
   },
   "outputs": [
    {
     "data": {
      "text/plain": [
       "[(2, 6), (3, 7)]"
      ]
     },
     "execution_count": 100,
     "metadata": {
      "tags": []
     },
     "output_type": "execute_result"
    }
   ],
   "source": [
    "list(zip(l, r))"
   ]
  },
  {
   "cell_type": "code",
   "execution_count": null,
   "metadata": {
    "colab": {
     "base_uri": "https://localhost:8080/"
    },
    "executionInfo": {
     "elapsed": 398,
     "status": "ok",
     "timestamp": 1614299832130,
     "user": {
      "displayName": "TOMAS ATEHORTUA GARCES",
      "photoUrl": "https://lh3.googleusercontent.com/a-/AOh14GiGUkLq_6mwruABeXaI8xmUG-KPkEhgDSRuZWdyX1j7hNt8Z-yCExqYGFCLuwvMj7zTVeub2OuFYZR29r5hkTsfiDEL1tqYzm60iLg2DEgMVvX35Zo9Uz7QJq0dqlGrLNEAVbemjjn93d40XCEJTwmOPB3kpTAb2ky8_ULMrmsodtB_EArqFi34NGnjOgjpzYcZ90huWvh9DEZvpBNR7GEhDgBIJbO65BKwozX2y7h-yx3FUax1ajs0VHIgMi-rcD8MY4NgYSwU9xUf2HK69MZXINIXkp_ZaIClJcK_-s12BblCct81iXeX1hUJnfPAbAeeCFZrMnC9r0ce9dc2KA2FNLUhvEsSLiPVlGLUzi7UlTY0UXq5tDmMlrxvpxa92G2pPcrnu5sxmAATqpQE-pfl-eLcyWrh2DSZxEHjCdoKf7qvMNIhY96ukne4vRd45V35Lhcl6RrOD0FUEnj5cWNHrLjHxw1-JkDTfKYNPTwiAabq_TarMBwHgl6Oe6KOS4Kvrhcs6eH3BI8KZys8cP5YUJLDvelreCppdJbXuAeqTXiS7SLmVKgZqfj3Gfzi0PKw0bg3i6bl6wJBuXwLw47iB8tDlZpTPbGTFl5mGwO7k_F19XDCwNdDuQY6V-oSgjwj9C0xI0prWm_fcfCjNbD1YIHSdN2YLHcl5ckZ6WEY5_oo0cheOmm2xcYa7Foni8ByHps5i2_Jp8KBmbs-fX4HpuklhVtB5NKJ_N1Yccs1q_EGXop09ekW-1QAYRKg92BEQi4=s64",
      "userId": "03427284999883076130"
     },
     "user_tz": 300
    },
    "id": "h5rPei4WMok3",
    "outputId": "cd5956e9-b5d4-44d5-9f8c-5561ce310db4"
   },
   "outputs": [
    {
     "name": "stdout",
     "output_type": "stream",
     "text": [
      "l_val: 2, r_val: 6\n",
      "l_val: 3, r_val: 7\n"
     ]
    }
   ],
   "source": [
    "for lval, rval in zip(l, r):\n",
    "  print(f\"l_val: {lval}, r_val: {rval}\")"
   ]
  },
  {
   "cell_type": "markdown",
   "metadata": {
    "id": "BqRyQf19MqK8"
   },
   "source": [
    "`zip` produce un generador de tuplas obtenidas a partir de los objetos iterables que pasemos como argumento. Tenga en cuenta que el iterador admite diferentes objetos para la iteración"
   ]
  },
  {
   "cell_type": "code",
   "execution_count": null,
   "metadata": {
    "colab": {
     "base_uri": "https://localhost:8080/"
    },
    "executionInfo": {
     "elapsed": 370,
     "status": "ok",
     "timestamp": 1614299834053,
     "user": {
      "displayName": "TOMAS ATEHORTUA GARCES",
      "photoUrl": "https://lh3.googleusercontent.com/a-/AOh14GiGUkLq_6mwruABeXaI8xmUG-KPkEhgDSRuZWdyX1j7hNt8Z-yCExqYGFCLuwvMj7zTVeub2OuFYZR29r5hkTsfiDEL1tqYzm60iLg2DEgMVvX35Zo9Uz7QJq0dqlGrLNEAVbemjjn93d40XCEJTwmOPB3kpTAb2ky8_ULMrmsodtB_EArqFi34NGnjOgjpzYcZ90huWvh9DEZvpBNR7GEhDgBIJbO65BKwozX2y7h-yx3FUax1ajs0VHIgMi-rcD8MY4NgYSwU9xUf2HK69MZXINIXkp_ZaIClJcK_-s12BblCct81iXeX1hUJnfPAbAeeCFZrMnC9r0ce9dc2KA2FNLUhvEsSLiPVlGLUzi7UlTY0UXq5tDmMlrxvpxa92G2pPcrnu5sxmAATqpQE-pfl-eLcyWrh2DSZxEHjCdoKf7qvMNIhY96ukne4vRd45V35Lhcl6RrOD0FUEnj5cWNHrLjHxw1-JkDTfKYNPTwiAabq_TarMBwHgl6Oe6KOS4Kvrhcs6eH3BI8KZys8cP5YUJLDvelreCppdJbXuAeqTXiS7SLmVKgZqfj3Gfzi0PKw0bg3i6bl6wJBuXwLw47iB8tDlZpTPbGTFl5mGwO7k_F19XDCwNdDuQY6V-oSgjwj9C0xI0prWm_fcfCjNbD1YIHSdN2YLHcl5ckZ6WEY5_oo0cheOmm2xcYa7Foni8ByHps5i2_Jp8KBmbs-fX4HpuklhVtB5NKJ_N1Yccs1q_EGXop09ekW-1QAYRKg92BEQi4=s64",
      "userId": "03427284999883076130"
     },
     "user_tz": 300
    },
    "id": "AgIaH1DRMrpv",
    "outputId": "983205b8-261a-4750-efeb-f02155d6cfc4"
   },
   "outputs": [
    {
     "name": "stdout",
     "output_type": "stream",
     "text": [
      "0 a\n",
      "1 b\n",
      "2 c\n"
     ]
    }
   ],
   "source": [
    "for i,j in zip(range(3), \"abc\"):\n",
    "  print(i,j)"
   ]
  },
  {
   "cell_type": "markdown",
   "metadata": {
    "id": "T0HzaHY3Mtdh"
   },
   "source": [
    "así como objetos de tamaños diferentes"
   ]
  },
  {
   "cell_type": "code",
   "execution_count": null,
   "metadata": {
    "id": "Zc8HlQG0MvaK"
   },
   "outputs": [],
   "source": [
    "for i,j,k in zip((1,2,3), \"abc\", [4,5,6,7]):\n",
    "  print(i,j,k)"
   ]
  },
  {
   "cell_type": "markdown",
   "metadata": {
    "id": "Zx9IWN5zMw7N"
   },
   "source": [
    "Note que las tuplas se producen con una longitud tal que coincida con el número de elementos del objeto de menor longitud."
   ]
  }
 ],
 "metadata": {
  "colab": {
   "collapsed_sections": [
    "eM0gLkqZiqps",
    "zRymWwMTiz1Z",
    "Jn_0QNSHjlPY",
    "-OvIOX4zj2TO",
    "QRY6DxB2oE_b",
    "y7KNncF9oRRY",
    "fcTyaQuqoXWD",
    "4On1dnhAocf1",
    "4bpFYr2aohJI",
    "-rfxd2U2oo_Y",
    "blW_wxEMo2n_",
    "msPOlCbpqyi5",
    "XL-vRpQ8rC3Z"
   ],
   "provenance": []
  },
  "kernelspec": {
   "display_name": "Python 3",
   "language": "python",
   "name": "python3"
  },
  "language_info": {
   "codemirror_mode": {
    "name": "ipython",
    "version": 3
   },
   "file_extension": ".py",
   "mimetype": "text/x-python",
   "name": "python",
   "nbconvert_exporter": "python",
   "pygments_lexer": "ipython3",
   "version": "3.9.12"
  }
 },
 "nbformat": 4,
 "nbformat_minor": 4
}
