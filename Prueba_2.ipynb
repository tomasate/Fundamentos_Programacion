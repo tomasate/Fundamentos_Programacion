{
 "cells": [
  {
   "cell_type": "markdown",
   "id": "47f06ccb-43e4-43a8-98f2-b7fa71ac3909",
   "metadata": {
    "id": "47f06ccb-43e4-43a8-98f2-b7fa71ac3909"
   },
   "source": [
    "# **Prueba #2**\n",
    "\n",
    "En la siguiente prueba se evalua de manera EXCLUSIVA lo que se solicita, cualquier otra respuesta adicional a ella será valorada, más no evaluada. Entregue la prueba via correo electrónico a tomas.atehortua@udea.edu.co con copia a toatga93@gmail.com,  antes de el martes 18 de Febrero a las 06:00:00 hora colombiana.\n",
    "\n",
    "La solución del examen debe ser entregada en formato PruebaI_<InicialesParticipante1>_<InicialesParticipante2>_<InicialesParticipante1>.py Ej: `PruebaII_TAG_NNN_NNN.py` que en primer lugar incluya como comentarios los nombres y cédulas de los participantes. En segundo lugar Cada uno de los ejercicios debe ser una función\n",
    "lista para ser llamada como `ejercicio_i_j` sin ningún argumento requerido, ver ejemplo acontinuación:"
   ]
  },
  {
   "cell_type": "markdown",
   "id": "74a99c5b-9bbd-4f2a-9341-dc043ae3ad1b",
   "metadata": {
    "id": "3aa96f04-3725-45c0-9453-dc461484bc27"
   },
   "source": [
    "## **Ejercicio 0** (0 pts)\n",
    "1. Haga una función que devuelva un string de Hola mundo\n",
    "2. Haga una función que sume 1 y 2"
   ]
  },
  {
   "cell_type": "markdown",
   "id": "22742884-603a-4ee5-8762-fca2c4d289ca",
   "metadata": {
    "id": "ada85bf3-0c13-4371-8854-b1620c755209"
   },
   "source": [
    "## **Ejercicio 1** (20 pts)\n",
    "\n",
    "Realice un gráfico de dispersión de el dataset de iris discutido en clase, en el eje x utilice la longitud del pétalo y en el eje y utilice el grosor del pétalo. Asegúrese de que la leyenda permita diferenciar las 3 clases de manera sencilla."
   ]
  },
  {
   "cell_type": "code",
   "execution_count": null,
   "id": "efb0e2fc-9fd5-43c0-ab0c-a23d44eb98ed",
   "metadata": {
    "id": "efb0e2fc-9fd5-43c0-ab0c-a23d44eb98ed"
   },
   "outputs": [],
   "source": []
  },
  {
   "cell_type": "code",
   "execution_count": null,
   "id": "372354a5-2c9d-4fbc-bde3-facdbcb81fd1",
   "metadata": {
    "id": "372354a5-2c9d-4fbc-bde3-facdbcb81fd1"
   },
   "outputs": [],
   "source": []
  },
  {
   "cell_type": "code",
   "execution_count": null,
   "id": "1d94e894-aacb-406f-abcc-9dbafb1eef9f",
   "metadata": {
    "id": "1d94e894-aacb-406f-abcc-9dbafb1eef9f"
   },
   "outputs": [],
   "source": []
  },
  {
   "cell_type": "code",
   "execution_count": null,
   "id": "ed1937d5-3ca3-4508-bafc-c1238cae47b4",
   "metadata": {
    "id": "ed1937d5-3ca3-4508-bafc-c1238cae47b4"
   },
   "outputs": [],
   "source": []
  },
  {
   "cell_type": "code",
   "execution_count": null,
   "id": "4f940318-7146-4f99-9804-0fd439798045",
   "metadata": {
    "id": "4f940318-7146-4f99-9804-0fd439798045"
   },
   "outputs": [],
   "source": []
  },
  {
   "cell_type": "code",
   "execution_count": null,
   "id": "3d9129d9-890f-48bd-8edf-2b294a885f85",
   "metadata": {
    "id": "3d9129d9-890f-48bd-8edf-2b294a885f85"
   },
   "outputs": [],
   "source": []
  },
  {
   "cell_type": "code",
   "execution_count": null,
   "id": "36a841a7-3d80-4126-8c79-f983d1e9904e",
   "metadata": {
    "id": "36a841a7-3d80-4126-8c79-f983d1e9904e"
   },
   "outputs": [],
   "source": []
  },
  {
   "cell_type": "code",
   "execution_count": null,
   "id": "f95f0aca-cd2e-4e9b-9109-ee317d0df0fb",
   "metadata": {
    "id": "f95f0aca-cd2e-4e9b-9109-ee317d0df0fb"
   },
   "outputs": [],
   "source": []
  },
  {
   "cell_type": "markdown",
   "id": "07308199-0c38-4b5b-8465-c781a6a893ec",
   "metadata": {
    "id": "4b656b61-c42a-4f95-8d9a-890941f1bb8e"
   },
   "source": [
    "## **Ejercicio 2** (35 pts)\n",
    "\n",
    "Para el dataset de `weather_2016_2020_daily` del repositorio de datos del curso, realice los siguientes desarrollos\n",
    "\n",
    "1. Formatee la variable `Date` para que sea un datetime y vuélva dicha columna el índice (devuelva el DataFrame)\n",
    "2. Haga una agrupación por cada 10 días para las variables de temperatura, piense bien qué operación de agregación utilizará para cada una de las 3\n",
    "3. Realice un descomposición en tendencia, estacionalidad y ruido de la variable `Temp_avg` del DataFrame original. Retorne la figura de la descomposición que cree que se ajuste mejor según la discusión de clase. En la documentación de la función describa cuál modelo escogió y porqué\n",
    "4. Realice un promedio movil simple de la variable `Temp_avg` por intervalos de a semana (devuelva la gráfica guardada en el directorio desde el que se corre el código)."
   ]
  },
  {
   "cell_type": "code",
   "execution_count": null,
   "id": "d5176a3d-c446-4d16-9754-1d8f370568c5",
   "metadata": {
    "id": "d5176a3d-c446-4d16-9754-1d8f370568c5"
   },
   "outputs": [],
   "source": []
  },
  {
   "cell_type": "code",
   "execution_count": null,
   "id": "93a9e40d-b576-4018-957a-f5ee3cf4b348",
   "metadata": {},
   "outputs": [],
   "source": []
  },
  {
   "cell_type": "code",
   "execution_count": null,
   "id": "df29d9ad-8cf0-4517-9b17-0bbe666f6bcf",
   "metadata": {},
   "outputs": [],
   "source": []
  },
  {
   "cell_type": "code",
   "execution_count": null,
   "id": "94ac0ba5-51cf-4de0-9cd9-0bebe5055f31",
   "metadata": {},
   "outputs": [],
   "source": []
  },
  {
   "cell_type": "code",
   "execution_count": null,
   "id": "e0dc1b2c-b5fb-4cd3-8abc-e5669126ffd3",
   "metadata": {},
   "outputs": [],
   "source": []
  },
  {
   "cell_type": "markdown",
   "id": "4a7ae66f-9110-4017-91d1-53cdd9b7ea0a",
   "metadata": {},
   "source": [
    "## **Ejercicio 3** (45 pts)\n",
    "\n",
    "Carge el cuadro de datos del repositorio de datos del curso llamado `hep_exe.csv`\n",
    "\n",
    "En física de altas energías registro por registro se construye una variable llamada \"momento transverso faltante\" ($p_T^{miss}$) como el negativo de la suma vectorial del momento transverso ($p_T$)de los otros objetos en el registro. En el cuadro encontrará los valores de momento transverso de cuatro muones ($\\mu$) por evento y sus respectivas direcciones. El momento transverso faltante se debe calcular como un vector.\n",
    "\n",
    "Recuerde que para vectores dos dimensionales como los que debe tratar:\n",
    "\n",
    "1. $$\\vec{p_T} = p_{Tx} \\hat{i}+p_{Ty} \\hat{j}$$\n",
    "2. $$p_T^2 = p_{Tx}^2 + p_{Ty}^2$$\n",
    "3. $$\\phi = \\arctan(\\frac{p_{Ty}}{p_{Tx}})$$\n",
    "4. $$p_{Ty} = p_{T} \\sin(\\phi)$$\n",
    "5. $$p_{Tx} = p_{T} \\cos(\\phi)$$\n",
    "\n",
    "Calcule (y retorne un DataFrame exclusivamente con estas) las componentes cartesianas del momento transverso faltante $p_{Tx}^{miss}$ y $p_{Ty}^{miss}$ como\n",
    "\n",
    "$$p_{Tx}^{miss} = -\\sum_{i = 0}^{3}p_{Tx}(\\mu_i)$$\n",
    "$$p_{Ty}^{miss} = -\\sum_{i = 0}^{3}p_{Ty}(\\mu_i)$$"
   ]
  },
  {
   "cell_type": "code",
   "execution_count": 3,
   "id": "211b93a5-4aef-4a88-b686-9b9530a1d40e",
   "metadata": {},
   "outputs": [
    {
     "data": {
      "text/html": [
       "<div>\n",
       "<style scoped>\n",
       "    .dataframe tbody tr th:only-of-type {\n",
       "        vertical-align: middle;\n",
       "    }\n",
       "\n",
       "    .dataframe tbody tr th {\n",
       "        vertical-align: top;\n",
       "    }\n",
       "\n",
       "    .dataframe thead th {\n",
       "        text-align: right;\n",
       "    }\n",
       "</style>\n",
       "<table border=\"1\" class=\"dataframe\">\n",
       "  <thead>\n",
       "    <tr style=\"text-align: right;\">\n",
       "      <th></th>\n",
       "      <th>muon_pt0</th>\n",
       "      <th>muon_pt1</th>\n",
       "      <th>muon_pt2</th>\n",
       "      <th>muon_pt3</th>\n",
       "      <th>muon_phi0</th>\n",
       "      <th>muon_phi1</th>\n",
       "      <th>muon_phi2</th>\n",
       "      <th>muon_phi3</th>\n",
       "    </tr>\n",
       "  </thead>\n",
       "  <tbody>\n",
       "    <tr>\n",
       "      <th>1</th>\n",
       "      <td>78.910120</td>\n",
       "      <td>54.357124</td>\n",
       "      <td>51.410744</td>\n",
       "      <td>47.867046</td>\n",
       "      <td>-2.754886</td>\n",
       "      <td>-2.064899</td>\n",
       "      <td>-1.957962</td>\n",
       "      <td>-1.482839</td>\n",
       "    </tr>\n",
       "    <tr>\n",
       "      <th>4</th>\n",
       "      <td>96.970600</td>\n",
       "      <td>43.362560</td>\n",
       "      <td>42.420110</td>\n",
       "      <td>23.046053</td>\n",
       "      <td>-1.524798</td>\n",
       "      <td>-1.137223</td>\n",
       "      <td>-1.337255</td>\n",
       "      <td>0.050066</td>\n",
       "    </tr>\n",
       "    <tr>\n",
       "      <th>5</th>\n",
       "      <td>146.786090</td>\n",
       "      <td>55.395863</td>\n",
       "      <td>33.978516</td>\n",
       "      <td>30.571487</td>\n",
       "      <td>-1.532569</td>\n",
       "      <td>-0.489997</td>\n",
       "      <td>-0.761958</td>\n",
       "      <td>-1.185869</td>\n",
       "    </tr>\n",
       "    <tr>\n",
       "      <th>6</th>\n",
       "      <td>133.650730</td>\n",
       "      <td>56.260902</td>\n",
       "      <td>51.993450</td>\n",
       "      <td>29.246851</td>\n",
       "      <td>1.591500</td>\n",
       "      <td>1.814229</td>\n",
       "      <td>1.100479</td>\n",
       "      <td>2.505571</td>\n",
       "    </tr>\n",
       "    <tr>\n",
       "      <th>8</th>\n",
       "      <td>56.075607</td>\n",
       "      <td>52.727030</td>\n",
       "      <td>36.171978</td>\n",
       "      <td>34.916450</td>\n",
       "      <td>-2.827459</td>\n",
       "      <td>2.336437</td>\n",
       "      <td>-2.881545</td>\n",
       "      <td>-1.823418</td>\n",
       "    </tr>\n",
       "  </tbody>\n",
       "</table>\n",
       "</div>"
      ],
      "text/plain": [
       "     muon_pt0   muon_pt1   muon_pt2   muon_pt3  muon_phi0  muon_phi1  \\\n",
       "1   78.910120  54.357124  51.410744  47.867046  -2.754886  -2.064899   \n",
       "4   96.970600  43.362560  42.420110  23.046053  -1.524798  -1.137223   \n",
       "5  146.786090  55.395863  33.978516  30.571487  -1.532569  -0.489997   \n",
       "6  133.650730  56.260902  51.993450  29.246851   1.591500   1.814229   \n",
       "8   56.075607  52.727030  36.171978  34.916450  -2.827459   2.336437   \n",
       "\n",
       "   muon_phi2  muon_phi3  \n",
       "1  -1.957962  -1.482839  \n",
       "4  -1.337255   0.050066  \n",
       "5  -0.761958  -1.185869  \n",
       "6   1.100479   2.505571  \n",
       "8  -2.881545  -1.823418  "
      ]
     },
     "execution_count": 3,
     "metadata": {},
     "output_type": "execute_result"
    }
   ],
   "source": [
    "import pandas as pd\n",
    "\n",
    "df = pd.read_csv('https://raw.githubusercontent.com/tomasate/Datos_Clases/refs/heads/main/Datos_1/hep_exe.csv', index_col = 'Unnamed: 0')\n",
    "df.head()"
   ]
  },
  {
   "cell_type": "code",
   "execution_count": 8,
   "id": "2a62bc61-da4b-4f91-b564-a71a12719344",
   "metadata": {},
   "outputs": [],
   "source": []
  },
  {
   "cell_type": "code",
   "execution_count": 9,
   "id": "4bcb2af3-6a4d-4f5e-af4f-cf7954680f14",
   "metadata": {},
   "outputs": [
    {
     "data": {
      "text/plain": [
       "(31301, 8)"
      ]
     },
     "execution_count": 9,
     "metadata": {},
     "output_type": "execute_result"
    }
   ],
   "source": []
  },
  {
   "cell_type": "code",
   "execution_count": 10,
   "id": "c42cf816-e78e-4635-abe6-bffb9773c462",
   "metadata": {},
   "outputs": [],
   "source": []
  },
  {
   "cell_type": "code",
   "execution_count": null,
   "id": "3039211a-6f75-44a5-9f93-d445dadb7c13",
   "metadata": {},
   "outputs": [],
   "source": []
  }
 ],
 "metadata": {
  "colab": {
   "provenance": []
  },
  "kernelspec": {
   "display_name": "Python 3",
   "language": "python",
   "name": "python3"
  },
  "language_info": {
   "codemirror_mode": {
    "name": "ipython",
    "version": 3
   },
   "file_extension": ".py",
   "mimetype": "text/x-python",
   "name": "python",
   "nbconvert_exporter": "python",
   "pygments_lexer": "ipython3",
   "version": "3.9.12"
  }
 },
 "nbformat": 4,
 "nbformat_minor": 5
}
