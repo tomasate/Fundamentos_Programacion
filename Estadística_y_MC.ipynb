{
 "cells": [
  {
   "cell_type": "markdown",
   "metadata": {
    "id": "N1P2Es8rvloq"
   },
   "source": [
    "# **Estadística**\n",
    "\n",
    "La estadística es una rama de las matemáticas que se encarga de recopilar, organizar, analizar e interpretar datos numéricos para obtener conclusiones significativas. Proporciona herramientas y métodos para recolectar datos, resumirlos, presentarlos de manera visual y realizar inferencias sobre las poblaciones o fenómenos en estudio.\n",
    "\n"
   ]
  },
  {
   "cell_type": "markdown",
   "metadata": {
    "id": "zmOPybEUvrWS"
   },
   "source": [
    "# **Estadística Descriptiva**:\n",
    "\n",
    "La estadística descriptiva es una parte fundamental de la estadística que se enfoca en la recopilación, organización, resumen y presentación de datos de manera descriptiva. Su objetivo principal es proporcionar una descripción clara y concisa de los datos, utilizando medidas y gráficos, para obtener una comprensión básica de las características y patrones presentes en la muestra o población analizada.\n",
    "\n"
   ]
  },
  {
   "cell_type": "markdown",
   "metadata": {
    "id": "H8ApaaOYv6YD"
   },
   "source": [
    "## **Objetivo de la Estadística Descriptiva**:\n",
    "\n",
    "El objetivo de la estadística descriptiva es proporcionar un resumen informativo de los datos disponibles. Algunos de los objetivos específicos de la estadística descriptiva son:\n",
    "\n",
    "* Describir la distribución de los datos: La estadística descriptiva permite analizar la forma en que los datos se distribuyen en una muestra o población. Esto se logra a través del cálculo de medidas de tendencia central (como la media, mediana y moda) y medidas de dispersión (como la desviación estándar y el rango).\n",
    "\n",
    "* Resumir y presentar los datos: La estadística descriptiva emplea herramientas gráficas, como histogramas, diagramas de caja y gráficos de dispersión, para representar visualmente los datos y resumir su comportamiento. Estas representaciones permiten identificar patrones, outliers y características importantes de los datos.\n",
    "\n",
    "* Comparar y contrastar grupos de datos: La estadística descriptiva facilita la comparación de grupos de datos mediante la identificación de diferencias o similitudes en sus medidas de resumen y gráficos. Esto es útil para realizar análisis exploratorios y generar hipótesis iniciales.\n",
    "\n",
    "## **Importancia  en la Ciencia de Datos**\n",
    "La estadística descriptiva es fundamental en la ciencia de datos por las siguientes razones:\n",
    "\n",
    "* Resumen de datos: Ayuda a comprender y resumir grandes cantidades de datos, lo que facilita su interpretación y comunicación efectiva.\n",
    "\n",
    "* Análisis exploratorio: Permite explorar las características de los datos y detectar patrones, tendencias y relaciones iniciales. Esto ayuda a generar hipótesis y orientar análisis posteriores.\n",
    "\n",
    "* Toma de decisiones informada: Proporciona una base objetiva para tomar decisiones basadas en datos, al brindar información relevante sobre las propiedades y comportamientos de los conjuntos de datos.\n",
    "\n",
    "* Validación de modelos: La estadística descriptiva proporciona herramientas para evaluar y validar modelos estadísticos y de aprendizaje automático, comparando las características de los datos observados con las predicciones del modelo.\n",
    "\n"
   ]
  },
  {
   "cell_type": "markdown",
   "metadata": {
    "id": "dFcp8k3rwX5C"
   },
   "source": [
    "# **Medidas de tendencia central**\n",
    "\n",
    "Las medidas de tendencia central son estadísticas descriptivas que proporcionan una indicación del valor central o típico de un conjunto de datos. Estas medidas resumen la ubicación central de los datos y son útiles para comprender dónde se concentran los valores en una distribución.\n",
    "\n",
    "1. **Media**:\n",
    "\n",
    "  * La media, también conocida como promedio, es la suma de todos los valores en un conjunto de datos dividida por el número total de valores.\n",
    "\n",
    "  * Esta se define como\n",
    "  $$\\bar{x} = \\frac{1}{n} \\sum_{i = 1}^{n}x_i$$\n",
    "\n",
    "    Donde $x_i$ es la $i-$ésima medida de la variable $x$ y $n$ es el número de valores medidos en la variable $x$\n",
    "\n",
    "    En un caso continuo la definición es\n",
    "\n",
    "  $$\\bar{f}(x) = \\frac{1}{b-a}\\int_{a}^{b} f(x)dx$$\n",
    "\n",
    "  * Interpretación: La media representa el valor promedio de los datos y es sensible a valores extremos. Es ampliamente utilizada y proporciona una estimación general de la ubicación central de los datos.\n",
    "\n",
    "2. **La media ponderada**\n",
    "    \n",
    "En muchos casos no todos los valores tiene la misma importancia y puede ser útil otorgar pesos o valores a los datos dependiendo de su relevancia para determinado estudio. En ese caso no se suman los valores uno a uno sino se halla una **suma ponderada**, al dividir por la suma de los pesos tenemos la media ponderada    $${\\bar  {x}}={\\frac  {\\sum _{{i=1}}^{n}x_{i}w_{i}}{\\sum _{{i=1}}^{n}w_{i}}}={\\frac  {x_{1}w_{1}+x_{2}w_{2}+x_{3}w_{3}+...+x_{n}w_{n}}{w_{1}+w_{2}+w_{3}+...+w_{n}}}$$\n",
    "\n",
    "\n",
    "   $$w_i' = \\frac{w_i}{\\sum_j w_j}$$\n",
    "\n",
    "   $${\\bar  {x}} = \\sum_i w_i ' x_i$$\n",
    "\n",
    "3. **Media geométrica**\n",
    "    \n",
    "En la media aritmética se suman los valores de la variables lo cual nos indica que hay un carácter aditivo, pr ejemplo cuando se suman las diferentes edades para obtener una edad promedio.     \n",
    "\n",
    "Sin embargo, hay variables que presentan variaciones acumulativas, por lo que ni la suma ni la media tienen un sentido real, por ejemplo, una rebaja del 50% sobre otra rebaja del 50% no hacen en total una rebaja del 100%, lo que alude a un caráter multiplicativo$${\\displaystyle {\\bar {x}}={\\sqrt[{n}]{\\prod _{i=1}^{n}{x_{i}}}}={\\sqrt[{n}]{x_{1}\\cdot x_{2}\\cdots x_{n}}}}$$\n",
    "\n",
    "También tiene una versión ponderada\n",
    "   $${\\displaystyle {\\bar {x}}=\\left({\\prod _{i=1}^{n}{x_{i}}^{\\alpha _{i}}}\\right)^{\\frac {1}{\\sum _{i}{\\alpha _{i}}}}=\\left({x_{1}}^{\\alpha _{1}}{x_{2}}^{\\alpha _{2}}\\dots {x_{n}}^{\\alpha _{n}}\\right)^{\\frac {1}{\\alpha _{1}+\\dots +\\alpha _{n}}}}$$\n",
    "Donde $\\alpha_i$ son los pesos\n",
    "\n",
    "\n",
    "4. Mediana:\n",
    "\n",
    "  * La mediana es el valor que se encuentra en el centro de un conjunto de datos ordenados de menor a mayor (o viceversa).\n",
    "  * Para calcular la mediana, se ordenan los valores y se encuentra el valor que está exactamente en el medio. Si hay un número impar de datos, la mediana es el valor del medio. Si hay un número par de datos, la mediana es el promedio de los dos valores centrales. Si el número de muestras es impar entonces:\n",
    "  $$\\hat{x} = x_{(n+1)/2}$$\n",
    "    En el caso de ser impar el número de muestras\n",
    "  $$\\hat{x} = \\frac{x_{n/2}+ x_{(n/2)+1}}{2}$$\n",
    "    En el caso continuo sería $M$ tal que:\n",
    "\n",
    "    $$\\int_{-∞}^{M} f(x) dx = 1 / 2$$\n",
    "\n",
    "  * Interpretación: La mediana representa el valor central típico y es menos sensible a los valores extremos que la media. Es útil cuando se desea tener una medida de ubicación robusta a 5alores atípicos.\n",
    "\n",
    "5. Moda:\n",
    "\n",
    "  * La moda es el valor que aparece con mayor frecuencia en un conjunto de datos.\n",
    "  * Cálculo matemático: La moda se determina contando la frecuencia de cada valor y seleccionando aquellos que ocurren con mayor frecuencia. Puede haber una moda única (unimodal), múltiples modas (bimodal, trimodal) o ningún valor repetido (sin moda).\n",
    "  * Interpretación: La moda representa los valores más frecuentes en los datos y puede ser útil para identificar patrones dominantes o características prominentes.\n",
    "  \n",
    "Es importante destacar que la elección de la medida de tendencia central adecuada depende del tipo de datos y del objetivo del análisis. La media es ampliamente utilizada y es aplicable a datos numéricos en general, mientras que la mediana y la moda son más adecuadas en situaciones específicas, como datos sesgados o con valores extremos.\n",
    "\n",
    "Al interpretar estas medidas, es fundamental considerar el contexto y las características de los datos. La media puede verse afectada por valores atípicos, mientras que la mediana es una medida resistente a valores extremos. La moda destaca los valores más frecuentes y puede proporcionar información sobre patrones dominantes en los datos.\n",
    "\n",
    "En resumen, las medidas de tendencia central proporcionan información sobre la ubicación central de los datos. La elección de la medida adecuada depende del tipo de datos y del objetivo del análisis, y su interpretación requiere considerar el contexto y las características de los datos."
   ]
  },
  {
   "cell_type": "code",
   "execution_count": 1,
   "metadata": {},
   "outputs": [],
   "source": [
    "import numpy as np\n",
    "import pandas as pd\n",
    "import matplotlib.pyplot as plt\n",
    "import seaborn as sns\n",
    "sns.set()"
   ]
  },
  {
   "cell_type": "code",
   "execution_count": 2,
   "metadata": {
    "id": "x9V_Df8tTtYA",
    "outputId": "9b3d2f74-da72-44d3-fc21-9ac78b0abf37"
   },
   "outputs": [
    {
     "data": {
      "text/html": [
       "<div>\n",
       "<style scoped>\n",
       "    .dataframe tbody tr th:only-of-type {\n",
       "        vertical-align: middle;\n",
       "    }\n",
       "\n",
       "    .dataframe tbody tr th {\n",
       "        vertical-align: top;\n",
       "    }\n",
       "\n",
       "    .dataframe thead th {\n",
       "        text-align: right;\n",
       "    }\n",
       "</style>\n",
       "<table border=\"1\" class=\"dataframe\">\n",
       "  <thead>\n",
       "    <tr style=\"text-align: right;\">\n",
       "      <th></th>\n",
       "      <th>MODELYEAR</th>\n",
       "      <th>MAKE</th>\n",
       "      <th>MODEL</th>\n",
       "      <th>VEHICLECLASS</th>\n",
       "      <th>ENGINESIZE</th>\n",
       "      <th>CYLINDERS</th>\n",
       "      <th>TRANSMISSION</th>\n",
       "      <th>FUELTYPE</th>\n",
       "      <th>FUELCONSUMPTION_CITY</th>\n",
       "      <th>FUELCONSUMPTION_HWY</th>\n",
       "      <th>FUELCONSUMPTION_COMB</th>\n",
       "      <th>FUELCONSUMPTION_COMB_MPG</th>\n",
       "      <th>CO2EMISSIONS</th>\n",
       "    </tr>\n",
       "  </thead>\n",
       "  <tbody>\n",
       "    <tr>\n",
       "      <th>0</th>\n",
       "      <td>2014</td>\n",
       "      <td>ACURA</td>\n",
       "      <td>ILX</td>\n",
       "      <td>COMPACT</td>\n",
       "      <td>2.0</td>\n",
       "      <td>4</td>\n",
       "      <td>AS5</td>\n",
       "      <td>Z</td>\n",
       "      <td>9.9</td>\n",
       "      <td>6.7</td>\n",
       "      <td>8.5</td>\n",
       "      <td>33</td>\n",
       "      <td>196</td>\n",
       "    </tr>\n",
       "    <tr>\n",
       "      <th>1</th>\n",
       "      <td>2014</td>\n",
       "      <td>ACURA</td>\n",
       "      <td>ILX</td>\n",
       "      <td>COMPACT</td>\n",
       "      <td>2.4</td>\n",
       "      <td>4</td>\n",
       "      <td>M6</td>\n",
       "      <td>Z</td>\n",
       "      <td>11.2</td>\n",
       "      <td>7.7</td>\n",
       "      <td>9.6</td>\n",
       "      <td>29</td>\n",
       "      <td>221</td>\n",
       "    </tr>\n",
       "    <tr>\n",
       "      <th>2</th>\n",
       "      <td>2014</td>\n",
       "      <td>ACURA</td>\n",
       "      <td>ILX HYBRID</td>\n",
       "      <td>COMPACT</td>\n",
       "      <td>1.5</td>\n",
       "      <td>4</td>\n",
       "      <td>AV7</td>\n",
       "      <td>Z</td>\n",
       "      <td>6.0</td>\n",
       "      <td>5.8</td>\n",
       "      <td>5.9</td>\n",
       "      <td>48</td>\n",
       "      <td>136</td>\n",
       "    </tr>\n",
       "    <tr>\n",
       "      <th>3</th>\n",
       "      <td>2014</td>\n",
       "      <td>ACURA</td>\n",
       "      <td>MDX 4WD</td>\n",
       "      <td>SUV - SMALL</td>\n",
       "      <td>3.5</td>\n",
       "      <td>6</td>\n",
       "      <td>AS6</td>\n",
       "      <td>Z</td>\n",
       "      <td>12.7</td>\n",
       "      <td>9.1</td>\n",
       "      <td>11.1</td>\n",
       "      <td>25</td>\n",
       "      <td>255</td>\n",
       "    </tr>\n",
       "    <tr>\n",
       "      <th>4</th>\n",
       "      <td>2014</td>\n",
       "      <td>ACURA</td>\n",
       "      <td>RDX AWD</td>\n",
       "      <td>SUV - SMALL</td>\n",
       "      <td>3.5</td>\n",
       "      <td>6</td>\n",
       "      <td>AS6</td>\n",
       "      <td>Z</td>\n",
       "      <td>12.1</td>\n",
       "      <td>8.7</td>\n",
       "      <td>10.6</td>\n",
       "      <td>27</td>\n",
       "      <td>244</td>\n",
       "    </tr>\n",
       "  </tbody>\n",
       "</table>\n",
       "</div>"
      ],
      "text/plain": [
       "   MODELYEAR   MAKE       MODEL VEHICLECLASS  ENGINESIZE  CYLINDERS  \\\n",
       "0       2014  ACURA         ILX      COMPACT         2.0          4   \n",
       "1       2014  ACURA         ILX      COMPACT         2.4          4   \n",
       "2       2014  ACURA  ILX HYBRID      COMPACT         1.5          4   \n",
       "3       2014  ACURA     MDX 4WD  SUV - SMALL         3.5          6   \n",
       "4       2014  ACURA     RDX AWD  SUV - SMALL         3.5          6   \n",
       "\n",
       "  TRANSMISSION FUELTYPE  FUELCONSUMPTION_CITY  FUELCONSUMPTION_HWY  \\\n",
       "0          AS5        Z                   9.9                  6.7   \n",
       "1           M6        Z                  11.2                  7.7   \n",
       "2          AV7        Z                   6.0                  5.8   \n",
       "3          AS6        Z                  12.7                  9.1   \n",
       "4          AS6        Z                  12.1                  8.7   \n",
       "\n",
       "   FUELCONSUMPTION_COMB  FUELCONSUMPTION_COMB_MPG  CO2EMISSIONS  \n",
       "0                   8.5                        33           196  \n",
       "1                   9.6                        29           221  \n",
       "2                   5.9                        48           136  \n",
       "3                  11.1                        25           255  \n",
       "4                  10.6                        27           244  "
      ]
     },
     "execution_count": 2,
     "metadata": {},
     "output_type": "execute_result"
    }
   ],
   "source": [
    "df = pd.read_csv('https://raw.githubusercontent.com/tomasate/Datos_Clases/main/Datos_1/FuelConsumption.csv')\n",
    "df.head()"
   ]
  },
  {
   "cell_type": "code",
   "execution_count": 4,
   "metadata": {
    "id": "FRYc3TA5Ul3c",
    "outputId": "2643b4f6-221c-4ad7-c8b1-429d14753199"
   },
   "outputs": [
    {
     "data": {
      "image/png": "[encoded data removed]",
      "text/plain": [
       "<Figure size 432x288 with 1 Axes>"
      ]
     },
     "metadata": {
      "needs_background": "light"
     },
     "output_type": "display_data"
    }
   ],
   "source": [
    "sns.histplot(data = df, x = 'CO2EMISSIONS', bins = 15, kde = True);"
   ]
  },
  {
   "cell_type": "markdown",
   "metadata": {
    "id": "DfZj1hxf35-y"
   },
   "source": [
    "La anterior gráfica muestra la distribución de la variable `Fuel_Consumption`. Esta muestra una distribución que podría asemejarse a una función estadística de distribución. Se podría hacer la comparación con dichas funciones estadística y determinar cuales son los parámetros de la funcion que reproducen esta gráfica (ajustar). Por ahora no nos centraremos en ello, sino en conocer las distribuciones estadísticas más famosas usadas."
   ]
  },
  {
   "cell_type": "markdown",
   "metadata": {
    "id": "bycLxaZ86C1o"
   },
   "source": [
    "# **Distribuciones**\n",
    "\n",
    "\n",
    "Una distribución estadística, en el contexto de la estadística y la probabilidad, se refiere a la forma en que los valores o datos se distribuyen en un conjunto de observaciones. En otras palabras, describe la frecuencia o probabilidad de ocurrencia de los diferentes valores en una muestra o población.\n",
    "\n",
    "Una distribución estadística se puede representar gráficamente mediante un histograma, una función de densidad de probabilidad, una curva de distribución acumulativa u otros tipos de gráficos que visualizan la frecuencia relativa de los valores.\n",
    "\n",
    "Afortunadamente `numpy` ofrece algunas funciones de probabilidad que nos pueden ayudar a generar estas funciones a partir de números aleatorios como los son:\n",
    "\n",
    "\n"
   ]
  },
  {
   "cell_type": "markdown",
   "metadata": {
    "id": "P86jTT6jCN4T"
   },
   "source": [
    "## **Distribución uniforme**\n",
    "\n",
    "En el caso que tengamos un intervalo continuo entre $(a,b)$ decimos que una distribución es uniforme si la probabilidad de escoger un número $c$ cualquiera entre el intervalo dado, es igual a la de escoger cualquier número $d \\neq c$."
   ]
  },
  {
   "cell_type": "code",
   "execution_count": 8,
   "metadata": {
    "id": "CU1WAVlHUwLl",
    "outputId": "0d45e0a1-d3ac-47b9-a53e-243a712a5cc3"
   },
   "outputs": [
    {
     "data": {
      "image/png": "[encoded data removed]",
      "text/plain": [
       "<Figure size 432x288 with 1 Axes>"
      ]
     },
     "metadata": {
      "needs_background": "light"
     },
     "output_type": "display_data"
    }
   ],
   "source": [
    "d = np.random.uniform(0, 7, int(1e7))\n",
    "plt.hist(d, bins = np.arange(0.5, 6.7, 1));"
   ]
  },
  {
   "cell_type": "markdown",
   "metadata": {
    "id": "E3b4zanKkLFf"
   },
   "source": [
    "# **Binomial**\n",
    "\n",
    "La distribución binomial es un tipo de distribución de probabilidad discreta que describe el número de éxitos en una secuencia de ensayos independientes entre sí, donde cada ensayo tiene solo dos posibles resultados: éxito o fracaso. Cada ensayo se considera independiente y tiene la misma probabilidad de éxito.\n",
    "\n"
   ]
  },
  {
   "cell_type": "code",
   "execution_count": 20,
   "metadata": {
    "id": "4JTjYa0ikgDJ",
    "outputId": "7c2e4700-e7b9-4dda-fc89-263d09c78e94"
   },
   "outputs": [
    {
     "data": {
      "image/png": "[encoded data removed]",
      "text/plain": [
       "<Figure size 432x288 with 1 Axes>"
      ]
     },
     "metadata": {
      "needs_background": "light"
     },
     "output_type": "display_data"
    }
   ],
   "source": [
    "bino = np.random.binomial(10, 0.05, 10000)\n",
    "plt.hist(bino, 5);"
   ]
  },
  {
   "cell_type": "markdown",
   "metadata": {
    "id": "_PhyDuqvkG5R"
   },
   "source": [
    "## **Poisson**\n",
    "\n",
    "La distribución de Poisson puede ser pensada como una binomial que encuentra el límite cuando el número de ensayos de una distribución binomial se vuelve grande (n tiende a infinito) y la probabilidad de éxito (p) se vuelve pequeña. En esta situación, la distribución binomial se aproxima a la distribución de Poisson."
   ]
  },
  {
   "cell_type": "code",
   "execution_count": 19,
   "metadata": {
    "id": "lhAM6SsBJpfc",
    "outputId": "319ec455-e0b5-4617-900d-97d8899a674e"
   },
   "outputs": [
    {
     "data": {
      "image/png": "[encoded data removed]",
      "text/plain": [
       "<Figure size 432x288 with 1 Axes>"
      ]
     },
     "metadata": {
      "needs_background": "light"
     },
     "output_type": "display_data"
    }
   ],
   "source": [
    "pois = np.random.poisson(1, 10000)\n",
    "plt.hist(pois, 5);"
   ]
  },
  {
   "cell_type": "markdown",
   "metadata": {
    "id": "uSWmpG2ptTXf"
   },
   "source": [
    "## **Exponencial**\n",
    "\n",
    "La distribución exponencial es una distribución de probabilidad continua que se utiliza para modelar el tiempo entre eventos o el tiempo de espera hasta que ocurra un evento en particular. Es especialmente útil para eventos que ocurren de forma independiente y de manera continua a una tasa constante."
   ]
  },
  {
   "cell_type": "code",
   "execution_count": 22,
   "metadata": {
    "id": "-yzL0-bPsOmk",
    "outputId": "192e298d-109a-4dd3-9411-344efe24c7e8"
   },
   "outputs": [
    {
     "data": {
      "image/png": "[encoded data removed]",
      "text/plain": [
       "<Figure size 432x288 with 1 Axes>"
      ]
     },
     "metadata": {
      "needs_background": "light"
     },
     "output_type": "display_data"
    }
   ],
   "source": [
    "exp = np.random.exponential(1, 100000)\n",
    "plt.hist(exp, 10);"
   ]
  },
  {
   "cell_type": "markdown",
   "metadata": {
    "id": "OuXOSi5Gt5U3"
   },
   "source": [
    "## **Normal o Gaussiana**\n",
    "\n",
    "La distribución normal, también conocida como distribución de Gauss o campana de Gauss, es una de las distribuciones de probabilidad más importantes y ampliamente utilizadas en estadística y ciencias naturales. Es una distribución continua que se caracteriza por su forma de campana simétrica."
   ]
  },
  {
   "cell_type": "code",
   "execution_count": 23,
   "metadata": {
    "id": "FbYSEJnltdkP",
    "outputId": "f8438f8d-dc17-45f1-826b-47c55d228c22"
   },
   "outputs": [
    {
     "data": {
      "text/plain": [
       "<AxesSubplot:ylabel='Count'>"
      ]
     },
     "execution_count": 23,
     "metadata": {},
     "output_type": "execute_result"
    },
    {
     "data": {
      "image/png": "[encoded data removed]",
      "text/plain": [
       "<Figure size 432x288 with 1 Axes>"
      ]
     },
     "metadata": {
      "needs_background": "light"
     },
     "output_type": "display_data"
    }
   ],
   "source": [
    "gau = np.random.normal(0, 1, 100000)\n",
    "sns.histplot(gau, bins = 20)"
   ]
  },
  {
   "cell_type": "markdown",
   "metadata": {
    "id": "6486KhWHXOoz"
   },
   "source": [
    "Existen más tipos de distribuciones estadísticas además de las presentadas acá. Numpy contiene una amplia variedad de ellas en la [Documentación de números aleatorios de numpy](https://numpy.org/doc/stable/reference/random/index.html). Adicionalmente sería posible generar muestras que sigan una función de densidad de probabilidad dada. Esto es fácil de implementar con módulos como [SciPy](https://scipy.org/), y aunque esto va más allá del alcance de este curso, puede llegar a ser bastante útil si se trata de hacer ajuste de datos a funciones.\n",
    "\n"
   ]
  },
  {
   "cell_type": "markdown",
   "metadata": {
    "id": "Z98zots5YBJr"
   },
   "source": [
    "# **Monte Carlo**\n",
    "\n",
    "Es natural la pregunta de ¿Para qué implementar números aleatorios, más que para generar muestras rápidas? En general los números aleatorios pueden ser bastante útiles a la hora de testear algoritmos de aprendizaje automático. Puede pensarse el entregarle a un modelo números aleatorios entre los datos con el fin de evitar sobre ajuste en datos por ejemplo. Esto puede funcionar como un \"placebo\" a la hora de entrenar el modelo. El principal uso del método de montecarlo es para integraciones numéricas en varias dimensiones. Pero también es usado ampliamente para dar solucion a multiples problemas aplicados en campos investigativos en la industria y la academia fuera de una integral. El método en si, consiste en generar muestras de números aleatorios, y observar o medir qué tal funcionan dichos números en términos del problema en cuestión.\n",
    "\n"
   ]
  },
  {
   "cell_type": "markdown",
   "metadata": {
    "id": "Bvc6jIFBKuu9"
   },
   "source": [
    "## **Ejemplo 1**\n",
    "\n",
    "En el juego de solitario el objetivo es mover y organizar un conjunto de cartas en una disposición específica para ordenarlas en pilas según su palo y valor, con el fin de liberar todas las cartas y dejarlas en orden ascendente, desde el As hasta el Rey, para cada palo.\n",
    "\n",
    "Aunque hay muchas variantes de Solitario, la versión más conocida y jugada es el Solitario Klondike. Aquí te explico en qué consiste el Solitario Klondike:\n",
    "\n",
    "Reglas del Solitario Klondike:\n",
    "\n",
    "Baraja de cartas: Se utiliza una baraja estándar de 52 cartas.\n",
    "\n",
    "Distribución inicial: Se reparten 28 cartas en 7 pilas de la siguiente manera: la primera pila contiene 1 carta, la segunda pila contiene 2 cartas (1 boca abajo y 1 boca arriba), la tercera pila contiene 3 cartas (2 boca abajo y 1 boca arriba), y así sucesivamente hasta llegar a la séptima pila con 7 cartas (6 boca abajo y 1 boca arriba). Las cartas restantes forman el mazo en la esquina superior izquierda.\n",
    "\n",
    "Movimientos permitidos:\n",
    "1. Puedes mover cartas de una pila a otra siempre que la carta que muevas sea de un valor menor y tenga una pinta igual a la última carta de la pila de destino. Por ejemplo, solo puedes colocar un 7 de corazones sobre un 8 de corazones.\n",
    "\n",
    "2. Voltear cartas del mazo: Puedes voltear cartas del mazo una por una y colocarlas boca arriba en la pila de descarte, que se encuentra en la esquina superior izquierda, para usarlas posteriormente en el juego.\n",
    "\n",
    "3. Ordenar las cartas en los montones finales: Cuando obtengas una secuencia completa de cartas de un mismo palo y en orden ascendente, puedes mover esa secuencia a las pilas finales en la esquina superior derecha, comenzando con el As y siguiendo hasta el Rey.\n",
    "\n",
    "3. Finalización del juego: El juego se completa con éxito cuando todas las cartas están ordenadas en las pilas finales según su palo y en orden ascendente, desde el As hasta el Rey, y no hay más movimientos posibles.\n",
    "\n",
    "4. El Solitario es un juego que requiere paciencia, estrategia y planificación para resolverlo con éxito. Aunque puede parecer sencillo, algunas distribuciones iniciales pueden resultar más difíciles de resolver que otras. Es un juego clásico que ha sido incluido en muchas versiones de sistemas operativos y ha sido disfrutado por personas de todas las edades durante décadas.\n",
    "\n",
    "\n",
    "Cualquiera que haya jugado esta variante de solitario, sabrá que muchas veces puede resultar cerrado, o sin más movimientos por delante. El científico Von Neumann se preguntó por la probabilidad de que una vez echadas las cartas de manera aleatoria, el juego pudiera acabarse correctamente. Después de muchas horas de cálculos, se percató de que era más sencillo estimar esta probabilidad jugando muchas partidas de solitario y haciendo la tasa entre partidas jugadas y partidas ganadas en lugar de calcular dicha probabilidad a mano. Este mismo método ayudó a calcular la sección eficaz del proceso de fisión durante la construcción de la bomba *Trinity*.\n",
    "\n",
    "\n",
    "\n",
    "\n",
    "\n",
    "\n"
   ]
  },
  {
   "cell_type": "markdown",
   "metadata": {
    "id": "f_sWTe6mNwU1"
   },
   "source": [
    "## **Ejemplo 2**\n",
    "\n",
    "¿No existe un ejemplo un poco más visual? Pues en realidad sí. El ejemplo más sencillo (y de hecho uno de los que mejor precisión arrojan) es el cálculo del valor del número $\\pi$ por medio del método de montecarlo. Y aunque existen múltiples formas de hacer esto, abordaremos el problema de la forma más intuitiva posible.\n",
    "\n",
    "Pensemos en una circunferencia de radio $r$. Esta circunferencia tiene un radio de $\\pi r^2$, y a su vez inscrita en un círculo de lado $2r$ cuyo area es de $4r^2$. Si pensamos en el cociente de las areas veremos que ese cociente es equivalente a $\\pi/4$.\n",
    "\n",
    "Ahora imaginemos que este círculo inscrito en un cuadrado es una diana de dardos. Dado este caso, si tiramos un número lo suficientemente largo de dardos, acabaremos por llenar no solo la diana sino también el cuadrado que la inscribe, y el cociente de las áreas acabará asemejándose mucho al cociente entre los dardos que caen en la diana y los que caen bien en la diana o en el cuadro. Finalmente esto último significa, que el producto de ese último cociente por $4$ debe equivaler a $\\pi$.\n",
    "\n",
    "Haga un código en python que permita tirar los dardos un número n de veces y con"
   ]
  },
  {
   "cell_type": "code",
   "execution_count": 28,
   "metadata": {
    "id": "guaJkfQaQ6Bu"
   },
   "outputs": [],
   "source": [
    "class montecarlo_pi():\n",
    "\n",
    "    def __init__(self, n):\n",
    "        self.n_tiros = n\n",
    "\n",
    "    def estimar_pi(self):\n",
    "\n",
    "        coordenadas = np.random.uniform(-1, 1,(self.n_tiros, 2))\n",
    "\n",
    "        self.aciertos = coordenadas[(coordenadas[:,0]**2 + coordenadas[:,1]**2)**0.5 <= 1 ]\n",
    "        self.fallos = coordenadas[(coordenadas[:,0]**2 + coordenadas[:,1]**2)**0.5 > 1 ]\n",
    "\n",
    "        n_aciertos = self.aciertos.shape[0]\n",
    "        pi = 4 * n_aciertos/ self.n_tiros\n",
    "\n",
    "        print(f\"El valor calculado para pi fue de: {pi=}\")\n",
    "\n",
    "        if pi <= 3.13 and pi >= 3.15:\n",
    "            print(\"Intente estimar pi con un número mayor de intentos\")\n",
    "        else:\n",
    "            print(\"Es un estimado razonable para pi\")\n",
    "\n",
    "    def graficar_tiros(self):\n",
    "        plt.figure(figsize = (11,10))\n",
    "\n",
    "        plt.scatter(x = self.aciertos[:,0], y = self.aciertos[:,1], c = 'b', label = 'acierto')\n",
    "        plt.scatter(x = self.fallos[:,0], y = self.fallos[:,1], c = 'r', label = 'fallo')\n",
    "\n"
   ]
  },
  {
   "cell_type": "code",
   "execution_count": 31,
   "metadata": {
    "id": "Lp6zOL66R7L5",
    "outputId": "51f36387-c593-45f5-fa6e-3b3bbfe7481d"
   },
   "outputs": [
    {
     "name": "stdout",
     "output_type": "stream",
     "text": [
      "El valor calculado para pi fue de: pi=3.1374\n",
      "Es un estimado razonable para pi\n"
     ]
    },
    {
     "data": {
      "image/png": "[encoded data removed]",
      "text/plain": [
       "<Figure size 792x720 with 1 Axes>"
      ]
     },
     "metadata": {
      "needs_background": "light"
     },
     "output_type": "display_data"
    }
   ],
   "source": [
    "montecarlo1 = montecarlo_pi(100000)\n",
    "montecarlo1.estimar_pi()\n",
    "montecarlo1.graficar_tiros()"
   ]
  },
  {
   "cell_type": "markdown",
   "metadata": {
    "id": "D_sOfDfu8TNB"
   },
   "source": [
    "De fondo el ejemplo anterior no deja de ser una integración numérica si se piensa bien. Se está imponiendo una función en un cuadrante $y(x) = \\sqrt{1 - x^2}$ y resuelvo esa integral en el intervalo de $[0,1)$ y para obtener el area total multiplico por $4$. Sin embargo como se dijo anteriormente se puede usar el método de montecarlo para aplicaciones distintas a integraciones.\n",
    "\n",
    "En general es posible mostrar que\n",
    "\n",
    "$$\\int_a^b f(x)= \\lim_{n\\rightarrow \\infty}\\frac{b-a}{n}\\sum_i^{\\infty}f(x_i)$$"
   ]
  },
  {
   "cell_type": "markdown",
   "metadata": {
    "id": "LSbd4WOYrapS"
   },
   "source": [
    "Acontinuación se presentará un ejemplo de un proyecto simplificado en el que se muestra un problema relacionado con un problema de comprobar o descartar una hipótesis. Esto no está para nada incluido dentro de lo que llamamos estadística descriptiva, por el contrario estará dentro de la estadística inferencial."
   ]
  },
  {
   "cell_type": "markdown",
   "metadata": {
    "id": "gDaO2fON8Xoh"
   },
   "source": [
    "Podemos ver que nuestro valor de $Z$ es mayor que el $Z_C$ crítico. Por lo que descartamos nuestra hipótesis nula $H_0$ y aceptamos nuestra hipótesis auxiliar:  Los astronautas seleccionados suelen tener un promedio de suerte mayor a  80  puntos en un rango  [0,100]"
   ]
  },
  {
   "cell_type": "markdown",
   "metadata": {},
   "source": [
    "## **Ejemplo 3**\n",
    "\n"
   ]
  },
  {
   "cell_type": "markdown",
   "metadata": {},
   "source": [
    "Un distribuidor local de periódicos compra cada mañana una cantidad fija de periódicos `Q` a $\\$700/\\text{unidad}$, para venderlos posteriormente a $\\$1400/\\text{unidad}$ Los periódicos que no se venden el mismo día se venden para reciclaje a un valor de salvamento de $\\$50/\\text{unidad}$. Considere las siguientes anotaciones históricas del vendedor. ¿Qué cantidad de periódicos `Q` debe comprar el vendedor diáriamente para obtener una buena utilidad promedio en el año? "
   ]
  },
  {
   "cell_type": "code",
   "execution_count": 2,
   "metadata": {},
   "outputs": [
    {
     "data": {
      "text/plain": [
       "demanda\n",
       "10     0.08\n",
       "25     0.10\n",
       "40     0.15\n",
       "55     0.24\n",
       "70     0.21\n",
       "85     0.15\n",
       "100    0.07\n",
       "Name: probabilidad, dtype: float64"
      ]
     },
     "execution_count": 2,
     "metadata": {},
     "output_type": "execute_result"
    }
   ],
   "source": [
    "data = [0.08, 0.1, 0.15, 0.24, 0.21, 0.15, 0.07]\n",
    "index = [10, 25, 40, 55, 70, 85, 100]\n",
    "demanda = pd.Series(data = data, index = index)\n",
    "demanda.name = 'probabilidad'\n",
    "demanda.index.name = 'demanda'\n",
    "demanda"
   ]
  },
  {
   "cell_type": "code",
   "execution_count": 3,
   "metadata": {},
   "outputs": [
    {
     "data": {
      "text/html": [
       "<div>\n",
       "<style scoped>\n",
       "    .dataframe tbody tr th:only-of-type {\n",
       "        vertical-align: middle;\n",
       "    }\n",
       "\n",
       "    .dataframe tbody tr th {\n",
       "        vertical-align: top;\n",
       "    }\n",
       "\n",
       "    .dataframe thead th {\n",
       "        text-align: right;\n",
       "    }\n",
       "</style>\n",
       "<table border=\"1\" class=\"dataframe\">\n",
       "  <thead>\n",
       "    <tr style=\"text-align: right;\">\n",
       "      <th></th>\n",
       "      <th>demanda</th>\n",
       "      <th>probabilidad</th>\n",
       "    </tr>\n",
       "  </thead>\n",
       "  <tbody>\n",
       "    <tr>\n",
       "      <th>0</th>\n",
       "      <td>10</td>\n",
       "      <td>0.08</td>\n",
       "    </tr>\n",
       "    <tr>\n",
       "      <th>1</th>\n",
       "      <td>25</td>\n",
       "      <td>0.10</td>\n",
       "    </tr>\n",
       "    <tr>\n",
       "      <th>2</th>\n",
       "      <td>40</td>\n",
       "      <td>0.15</td>\n",
       "    </tr>\n",
       "    <tr>\n",
       "      <th>3</th>\n",
       "      <td>55</td>\n",
       "      <td>0.24</td>\n",
       "    </tr>\n",
       "    <tr>\n",
       "      <th>4</th>\n",
       "      <td>70</td>\n",
       "      <td>0.21</td>\n",
       "    </tr>\n",
       "    <tr>\n",
       "      <th>5</th>\n",
       "      <td>85</td>\n",
       "      <td>0.15</td>\n",
       "    </tr>\n",
       "    <tr>\n",
       "      <th>6</th>\n",
       "      <td>100</td>\n",
       "      <td>0.07</td>\n",
       "    </tr>\n",
       "  </tbody>\n",
       "</table>\n",
       "</div>"
      ],
      "text/plain": [
       "   demanda  probabilidad\n",
       "0       10          0.08\n",
       "1       25          0.10\n",
       "2       40          0.15\n",
       "3       55          0.24\n",
       "4       70          0.21\n",
       "5       85          0.15\n",
       "6      100          0.07"
      ]
     },
     "execution_count": 3,
     "metadata": {},
     "output_type": "execute_result"
    }
   ],
   "source": [
    "demanda = demanda.reset_index()\n",
    "demanda"
   ]
  },
  {
   "cell_type": "code",
   "execution_count": 4,
   "metadata": {},
   "outputs": [
    {
     "data": {
      "text/html": [
       "<div>\n",
       "<style scoped>\n",
       "    .dataframe tbody tr th:only-of-type {\n",
       "        vertical-align: middle;\n",
       "    }\n",
       "\n",
       "    .dataframe tbody tr th {\n",
       "        vertical-align: top;\n",
       "    }\n",
       "\n",
       "    .dataframe thead th {\n",
       "        text-align: right;\n",
       "    }\n",
       "</style>\n",
       "<table border=\"1\" class=\"dataframe\">\n",
       "  <thead>\n",
       "    <tr style=\"text-align: right;\">\n",
       "      <th></th>\n",
       "      <th>demanda</th>\n",
       "      <th>probabilidad</th>\n",
       "      <th>lim_inf</th>\n",
       "      <th>lim_sup</th>\n",
       "    </tr>\n",
       "  </thead>\n",
       "  <tbody>\n",
       "    <tr>\n",
       "      <th>0</th>\n",
       "      <td>10</td>\n",
       "      <td>0.08</td>\n",
       "      <td>0.00</td>\n",
       "      <td>0.08</td>\n",
       "    </tr>\n",
       "    <tr>\n",
       "      <th>1</th>\n",
       "      <td>25</td>\n",
       "      <td>0.10</td>\n",
       "      <td>0.08</td>\n",
       "      <td>0.18</td>\n",
       "    </tr>\n",
       "    <tr>\n",
       "      <th>2</th>\n",
       "      <td>40</td>\n",
       "      <td>0.15</td>\n",
       "      <td>0.18</td>\n",
       "      <td>0.33</td>\n",
       "    </tr>\n",
       "    <tr>\n",
       "      <th>3</th>\n",
       "      <td>55</td>\n",
       "      <td>0.24</td>\n",
       "      <td>0.33</td>\n",
       "      <td>0.57</td>\n",
       "    </tr>\n",
       "    <tr>\n",
       "      <th>4</th>\n",
       "      <td>70</td>\n",
       "      <td>0.21</td>\n",
       "      <td>0.57</td>\n",
       "      <td>0.78</td>\n",
       "    </tr>\n",
       "    <tr>\n",
       "      <th>5</th>\n",
       "      <td>85</td>\n",
       "      <td>0.15</td>\n",
       "      <td>0.78</td>\n",
       "      <td>0.93</td>\n",
       "    </tr>\n",
       "    <tr>\n",
       "      <th>6</th>\n",
       "      <td>100</td>\n",
       "      <td>0.07</td>\n",
       "      <td>0.93</td>\n",
       "      <td>1.00</td>\n",
       "    </tr>\n",
       "  </tbody>\n",
       "</table>\n",
       "</div>"
      ],
      "text/plain": [
       "   demanda  probabilidad  lim_inf  lim_sup\n",
       "0       10          0.08     0.00     0.08\n",
       "1       25          0.10     0.08     0.18\n",
       "2       40          0.15     0.18     0.33\n",
       "3       55          0.24     0.33     0.57\n",
       "4       70          0.21     0.57     0.78\n",
       "5       85          0.15     0.78     0.93\n",
       "6      100          0.07     0.93     1.00"
      ]
     },
     "execution_count": 4,
     "metadata": {},
     "output_type": "execute_result"
    }
   ],
   "source": [
    "demanda['lim_inf'] = demanda['probabilidad'].shift(1, fill_value = 0).cumsum()\n",
    "demanda['lim_sup'] = demanda['lim_inf'] + demanda['probabilidad']\n",
    "demanda"
   ]
  },
  {
   "cell_type": "code",
   "execution_count": 67,
   "metadata": {},
   "outputs": [
    {
     "data": {
      "text/html": [
       "<div>\n",
       "<style scoped>\n",
       "    .dataframe tbody tr th:only-of-type {\n",
       "        vertical-align: middle;\n",
       "    }\n",
       "\n",
       "    .dataframe tbody tr th {\n",
       "        vertical-align: top;\n",
       "    }\n",
       "\n",
       "    .dataframe thead th {\n",
       "        text-align: right;\n",
       "    }\n",
       "</style>\n",
       "<table border=\"1\" class=\"dataframe\">\n",
       "  <thead>\n",
       "    <tr style=\"text-align: right;\">\n",
       "      <th></th>\n",
       "      <th>semilla</th>\n",
       "    </tr>\n",
       "  </thead>\n",
       "  <tbody>\n",
       "    <tr>\n",
       "      <th>0</th>\n",
       "      <td>0.053652</td>\n",
       "    </tr>\n",
       "    <tr>\n",
       "      <th>1</th>\n",
       "      <td>0.309347</td>\n",
       "    </tr>\n",
       "    <tr>\n",
       "      <th>2</th>\n",
       "      <td>0.570727</td>\n",
       "    </tr>\n",
       "    <tr>\n",
       "      <th>3</th>\n",
       "      <td>0.043071</td>\n",
       "    </tr>\n",
       "    <tr>\n",
       "      <th>4</th>\n",
       "      <td>0.666857</td>\n",
       "    </tr>\n",
       "    <tr>\n",
       "      <th>...</th>\n",
       "      <td>...</td>\n",
       "    </tr>\n",
       "    <tr>\n",
       "      <th>360</th>\n",
       "      <td>0.211242</td>\n",
       "    </tr>\n",
       "    <tr>\n",
       "      <th>361</th>\n",
       "      <td>0.651580</td>\n",
       "    </tr>\n",
       "    <tr>\n",
       "      <th>362</th>\n",
       "      <td>0.920185</td>\n",
       "    </tr>\n",
       "    <tr>\n",
       "      <th>363</th>\n",
       "      <td>0.970453</td>\n",
       "    </tr>\n",
       "    <tr>\n",
       "      <th>364</th>\n",
       "      <td>0.711943</td>\n",
       "    </tr>\n",
       "  </tbody>\n",
       "</table>\n",
       "<p>365 rows × 1 columns</p>\n",
       "</div>"
      ],
      "text/plain": [
       "      semilla\n",
       "0    0.053652\n",
       "1    0.309347\n",
       "2    0.570727\n",
       "3    0.043071\n",
       "4    0.666857\n",
       "..        ...\n",
       "360  0.211242\n",
       "361  0.651580\n",
       "362  0.920185\n",
       "363  0.970453\n",
       "364  0.711943\n",
       "\n",
       "[365 rows x 1 columns]"
      ]
     },
     "execution_count": 67,
     "metadata": {},
     "output_type": "execute_result"
    }
   ],
   "source": [
    "sim = pd.DataFrame(index = [i for i in range(365)])\n",
    "sim['semilla'] = np.random.uniform(0, 1, 365)\n",
    "\n",
    "#En general no mucha gente compra periódicos, por lo que un escenario un poco más realista sería este. \n",
    "#¿Son los resultados semejantes a tomar la distribución uniforme? Si cree que sí, revise cuánto es la ganancia total\n",
    "\n",
    "#sim['semilla'] = np.random.normal(loc=0.25, scale=0.5, size=365)\n",
    "#sim['semilla'] = np.clip(sim['semilla'], a_min=0.001, a_max=0.99999)\n",
    "\n",
    "sim"
   ]
  },
  {
   "cell_type": "code",
   "execution_count": 68,
   "metadata": {},
   "outputs": [],
   "source": [
    "def obtener_demanda(row):\n",
    "    dem_val = demanda.loc[(demanda['lim_inf']<= row['semilla']) & (demanda['lim_sup'] > row['semilla']), 'demanda'].values[0]\n",
    "    return dem_val\n"
   ]
  },
  {
   "cell_type": "code",
   "execution_count": 69,
   "metadata": {},
   "outputs": [
    {
     "data": {
      "text/plain": [
       "0       10\n",
       "1       40\n",
       "2       70\n",
       "3       10\n",
       "4       70\n",
       "      ... \n",
       "360     40\n",
       "361     70\n",
       "362     85\n",
       "363    100\n",
       "364     70\n",
       "Length: 365, dtype: int64"
      ]
     },
     "execution_count": 69,
     "metadata": {},
     "output_type": "execute_result"
    }
   ],
   "source": [
    "sim.apply(obtener_demanda, axis = 1)"
   ]
  },
  {
   "cell_type": "code",
   "execution_count": 70,
   "metadata": {},
   "outputs": [
    {
     "data": {
      "text/plain": [
       "55     102\n",
       "70      84\n",
       "40      49\n",
       "85      47\n",
       "10      28\n",
       "25      28\n",
       "100     27\n",
       "Name: demanda, dtype: int64"
      ]
     },
     "execution_count": 70,
     "metadata": {},
     "output_type": "execute_result"
    }
   ],
   "source": [
    "sim['demanda'] = sim.apply(obtener_demanda, axis = 1)\n",
    "sim['demanda'].value_counts()"
   ]
  },
  {
   "cell_type": "code",
   "execution_count": 71,
   "metadata": {},
   "outputs": [
    {
     "data": {
      "text/plain": [
       "56.95"
      ]
     },
     "execution_count": 71,
     "metadata": {},
     "output_type": "execute_result"
    }
   ],
   "source": [
    "pp = demanda['demanda'] * demanda['probabilidad']\n",
    "pp.sum()"
   ]
  },
  {
   "cell_type": "code",
   "execution_count": 72,
   "metadata": {},
   "outputs": [],
   "source": [
    "dictio_sim = {f'{i}': {'data':sim.copy(),\n",
    "                       'costo_compra': i * 700} for i in range(15, 90, 5)}\n",
    "\n",
    "for year in dictio_sim.keys():\n",
    "    dictio_sim[year]['data']['vendidos'] = dictio_sim[year]['data']['demanda'].apply(lambda x: min(x, int(year)))\n",
    "    dictio_sim[year]['data']['salvamento'] = int(year) - dictio_sim[year]['data']['vendidos']\n",
    "    dictio_sim[year]['data']['gain_vent'] = dictio_sim[year]['data']['vendidos'] * 1400\n",
    "    dictio_sim[year]['data']['gain_salv'] = dictio_sim[year]['data']['salvamento'] * 50\n",
    "    dictio_sim[year]['data']['util'] = dictio_sim[year]['data']['gain_salv'] + dictio_sim[year]['data']['gain_vent'] - dictio_sim[year]['costo_compra']\n",
    "    dictio_sim[year]['utilidad_promedio'] = dictio_sim[year]['data']['util'].mean()\n",
    "\n"
   ]
  },
  {
   "cell_type": "code",
   "execution_count": 73,
   "metadata": {},
   "outputs": [
    {
     "name": "stdout",
     "output_type": "stream",
     "text": [
      "key='15': 9982.191780821919\n",
      "key='20': 12964.383561643835\n",
      "key='25': 15946.575342465754\n",
      "key='30': 18410.95890410959\n",
      "key='35': 20875.342465753423\n",
      "key='40': 23339.72602739726\n",
      "key='45': 24897.945205479453\n",
      "key='50': 26456.164383561645\n",
      "key='55': 28014.383561643837\n",
      "key='60': 27686.301369863013\n",
      "key='65': 27358.219178082192\n",
      "key='70': 27030.13698630137\n",
      "key='75': 25148.630136986303\n",
      "key='80': 23267.12328767123\n",
      "key='85': 21385.616438356163\n"
     ]
    }
   ],
   "source": [
    "keys = []\n",
    "values = []\n",
    "\n",
    "for key in dictio_sim.keys():\n",
    "    keys.append(key)\n",
    "    values.append(dictio_sim[key]['utilidad_promedio'])\n",
    "    print(f\"{key=}: {dictio_sim[key]['utilidad_promedio']}\")"
   ]
  },
  {
   "cell_type": "code",
   "execution_count": 74,
   "metadata": {},
   "outputs": [
    {
     "data": {
      "image/png": "[encoded data removed]",
      "text/plain": [
       "<Figure size 720x648 with 1 Axes>"
      ]
     },
     "metadata": {
      "needs_background": "light"
     },
     "output_type": "display_data"
    }
   ],
   "source": [
    "plt.figure(figsize= (10,9))\n",
    "\n",
    "plt.plot(keys, values);"
   ]
  },
  {
   "cell_type": "code",
   "execution_count": null,
   "metadata": {},
   "outputs": [],
   "source": []
  }
 ],
 "metadata": {
  "colab": {
   "provenance": []
  },
  "kernelspec": {
   "display_name": "Python 3",
   "language": "python",
   "name": "python3"
  },
  "language_info": {
   "codemirror_mode": {
    "name": "ipython",
    "version": 3
   },
   "file_extension": ".py",
   "mimetype": "text/x-python",
   "name": "python",
   "nbconvert_exporter": "python",
   "pygments_lexer": "ipython3",
   "version": "3.9.12"
  }
 },
 "nbformat": 4,
 "nbformat_minor": 4
}
