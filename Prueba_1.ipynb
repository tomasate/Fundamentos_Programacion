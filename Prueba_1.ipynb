{
 "cells": [
  {
   "cell_type": "markdown",
   "metadata": {
    "id": "7vGMRorix7fJ"
   },
   "source": [
    "# **Prueba \\#1**\n",
    "\n",
    "En la siguiente prueba se evalua de manera EXCLUSIVA lo que se solicita, cualquier otra respuesta adicional a ella será valorada, más no evaluada. Entregue la prueba via correo electrónico a tomas.atehortua@udea.edu.co con copia a toatga93@gmail.com,  antes de el lunes 10 de Febrero a las 06:00:00 hora colombiana.\n",
    "\n",
    "La solución del examen debe ser entregada en formato PruebaI_<InicialesParticipante1>_<InicialesParticipante2>_<InicialesParticipante1>.py Ej: `PruebaI_TAG_NNN_NNN.py` que en primer lugar incluya como comentarios los nombres y cédulas de los participantes. En segundo lugar Cada uno de los ejercicios debe ser una función\n",
    "lista para ser llamada como `ejercicio_i_j` sin ningún argumento requerido, ver ejemplo acontinuación:\n",
    "\n",
    "\n"
   ]
  },
  {
   "cell_type": "markdown",
   "metadata": {},
   "source": [
    "## **Ejercicio 0** (0 pts)\n",
    "1. Haga una función que devuelva un string de Hola mundo\n",
    "2. Haga una función que sume 1 y 2"
   ]
  },
  {
   "cell_type": "code",
   "execution_count": 5,
   "metadata": {},
   "outputs": [],
   "source": [
    "def ejercicio_0_0():\n",
    "    \"\"\"\n",
    "    Respuesta al ejercicio 0.0\n",
    "    \"\"\"\n",
    "    return(\"Hola mundo\")\n",
    "\n",
    "def ejercicio_0_1():\n",
    "    \"\"\"\n",
    "    Respuesta al ejercicio 0.1\n",
    "    \"\"\"\n",
    "    return 1+2\n"
   ]
  },
  {
   "cell_type": "code",
   "execution_count": null,
   "metadata": {
    "id": "AgwS8cBnx5Zc"
   },
   "outputs": [],
   "source": []
  },
  {
   "cell_type": "code",
   "execution_count": null,
   "metadata": {
    "id": "lyxUEKvwXBa-"
   },
   "outputs": [],
   "source": []
  },
  {
   "cell_type": "code",
   "execution_count": null,
   "metadata": {
    "id": "6Bv7UNn3XBSq"
   },
   "outputs": [],
   "source": []
  },
  {
   "cell_type": "markdown",
   "metadata": {
    "id": "pnfosm2l12c5"
   },
   "source": [
    "## **Ejercicio 1** (34 pts)\n",
    "\n",
    "Realice los siguientes ejercicios con numpy **IMPORTANTE: EVITE USAR CICLOS FOR NATIVOS DE PYTHON, USE EXLUSIVAMENTE OPERACIONES VECTORIZADAS**\n",
    "\n",
    "1. Resolver el siguiente sistema de ecuaciones. **11 pts**\n",
    "\n",
    "$$\n",
    "2x + 3y - z + 4w + 5v = 15\n",
    "$$\n",
    "\n",
    "$$\n",
    "x - 2y + 4z - 3w + v = 6\n",
    "$$\n",
    "\n",
    "$$\n",
    "3x + 2y - 3z + 5w - 2v = 11\n",
    "$$\n",
    "\n",
    "$$\n",
    "4x + y - 2z + 3w + 2v = 8\n",
    "$$\n",
    "\n",
    "$$\n",
    "x + y + z + w + v = 7\n",
    "$$\n",
    "\n",
    "2. Calcule el valor del número de Euler o constante de Napier $e = 2,71828$ como:\n",
    "\n",
    "$$e = \\sum_i ^{\\infty} \\frac{1}{n!}$$\n",
    "\n",
    "  ¿Qué precisión en términos de el número de términos necesita para dar cuenta de los primeros 5 números de la coma decimal? **12 pts**\n",
    "  \n",
    "  **Remark**: Requerirá de algo de creatividad para calcular el factorial sin el uso de ciclos for ni recursividad, siéntase libre de buscar en internet, diferentes tipos de soluciones o módulos.\n",
    "\n",
    "3. Ecuentre los auto valores de la siguiente matriz.  **11 pts**\n",
    "\n",
    "$$\n",
    "\\begin{pmatrix}\n",
    "2 & 1 & 1 \\\\\n",
    "4 & 3 & 2 \\\\\n",
    "1 & 1 & 2 \\\\\n",
    "\\end{pmatrix}\n",
    "$$\n",
    "\n"
   ]
  },
  {
   "cell_type": "code",
   "execution_count": 1,
   "metadata": {
    "executionInfo": {
     "elapsed": 2,
     "status": "ok",
     "timestamp": 1723862927586,
     "user": {
      "displayName": "Thomas Attehortua",
      "userId": "09850230719985717240"
     },
     "user_tz": -120
    },
    "id": "GiboR2zDPAUL"
   },
   "outputs": [],
   "source": []
  },
  {
   "cell_type": "code",
   "execution_count": null,
   "metadata": {
    "colab": {
     "base_uri": "https://localhost:8080/"
    },
    "executionInfo": {
     "elapsed": 325,
     "status": "ok",
     "timestamp": 1723864069114,
     "user": {
      "displayName": "Thomas Attehortua",
      "userId": "09850230719985717240"
     },
     "user_tz": -120
    },
    "id": "8gu89-aP5ibM",
    "outputId": "bca69d83-c202-4a56-9f72-ec1e5199234a"
   },
   "outputs": [],
   "source": []
  },
  {
   "cell_type": "code",
   "execution_count": null,
   "metadata": {
    "colab": {
     "base_uri": "https://localhost:8080/"
    },
    "executionInfo": {
     "elapsed": 265,
     "status": "ok",
     "timestamp": 1723863190142,
     "user": {
      "displayName": "Thomas Attehortua",
      "userId": "09850230719985717240"
     },
     "user_tz": -120
    },
    "id": "lFFESVtjQKc5",
    "outputId": "8f705c7f-b6f5-4136-cf01-cb2871b05f16"
   },
   "outputs": [],
   "source": []
  },
  {
   "cell_type": "code",
   "execution_count": null,
   "metadata": {
    "colab": {
     "base_uri": "https://localhost:8080/"
    },
    "executionInfo": {
     "elapsed": 272,
     "status": "ok",
     "timestamp": 1723863321285,
     "user": {
      "displayName": "Thomas Attehortua",
      "userId": "09850230719985717240"
     },
     "user_tz": -120
    },
    "id": "VkJX0hBcQLEF",
    "outputId": "010950be-905b-4883-ae54-cd013dd8697f"
   },
   "outputs": [],
   "source": []
  },
  {
   "cell_type": "code",
   "execution_count": null,
   "metadata": {
    "colab": {
     "base_uri": "https://localhost:8080/"
    },
    "executionInfo": {
     "elapsed": 294,
     "status": "ok",
     "timestamp": 1723863369057,
     "user": {
      "displayName": "Thomas Attehortua",
      "userId": "09850230719985717240"
     },
     "user_tz": -120
    },
    "id": "GIWjr_F_Q3xJ",
    "outputId": "f213b4a9-63a5-45fd-b20e-d70215b54a55"
   },
   "outputs": [],
   "source": []
  },
  {
   "cell_type": "code",
   "execution_count": null,
   "metadata": {
    "id": "ScD2IVNvQbQa"
   },
   "outputs": [],
   "source": []
  },
  {
   "cell_type": "markdown",
   "metadata": {
    "colab": {
     "base_uri": "https://localhost:8080/"
    },
    "executionInfo": {
     "elapsed": 290,
     "status": "ok",
     "timestamp": 1723863998737,
     "user": {
      "displayName": "Thomas Attehortua",
      "userId": "09850230719985717240"
     },
     "user_tz": -120
    },
    "id": "YlV5EFaKTFfO",
    "outputId": "94d42bd5-3699-46b9-e855-e77a14880717"
   },
   "source": [
    "## **Ejercicio 2** (25%)\n",
    "\n",
    "Construya un DataFrame a partir del siguiente diccionario\n",
    "\n",
    "`exam_data = {'name': ['Anastasia', 'Dima', 'Katherine', 'James', 'Emily', 'Michael', 'Matthew', 'Laura', 'Kevin', 'Jonas'], 'score': [12.5, 9, 16.5, 10, 9, 20, 14.5, 12, 8, 19], 'attempts': [1, 3, 2, 3, 2, 3, 1, 1, 2, 1], 'qualify': ['yes', 'no', 'yes', 'no', 'no', 'yes', 'yes', 'no', 'no', 'yes']}`\n",
    "\n",
    "con las siguientes etiquetas para los índices\n",
    "\n",
    "`labels = ['a', 'b', 'c', 'd', 'e', 'f', 'g', 'h', 'i', 'j']`\n",
    "\n",
    "1. Seleccione solo las columnas *name* y *score*.\n",
    "  \n",
    "2. Filtre las filas donde el número de intentos (attemps) sea mayor que 2.\n",
    "\n",
    "3. Filtre las filas donde el *score* se encuentre entre 15 y 20 (incluidos)\n",
    "\n",
    "4. Cambie el *score* en la fila 'd' a 11.5\n",
    "\n",
    "5. Agregue una nueva fila con etiqueta 'k' al dataframe con un valor que usted desee para cada columna\n",
    "\n",
    "6. Borre la fila 'k' y entregue nuevamente el DataFrame original.\n",
    "\n",
    "7. Ordene el DataFrame por nombre en orden ascendente.\n",
    "\n",
    "8. Reemplace los valores de la columna *qualify* que contiene los valores *yes* y *no* por los valores booleanos True y False respectivamente."
   ]
  },
  {
   "cell_type": "code",
   "execution_count": null,
   "metadata": {
    "id": "-T92bupCTQ2P"
   },
   "outputs": [],
   "source": []
  },
  {
   "cell_type": "code",
   "execution_count": null,
   "metadata": {},
   "outputs": [],
   "source": []
  },
  {
   "cell_type": "code",
   "execution_count": null,
   "metadata": {},
   "outputs": [],
   "source": []
  },
  {
   "cell_type": "code",
   "execution_count": null,
   "metadata": {},
   "outputs": [],
   "source": []
  },
  {
   "cell_type": "code",
   "execution_count": null,
   "metadata": {},
   "outputs": [],
   "source": []
  },
  {
   "cell_type": "code",
   "execution_count": null,
   "metadata": {},
   "outputs": [],
   "source": []
  },
  {
   "cell_type": "code",
   "execution_count": null,
   "metadata": {},
   "outputs": [],
   "source": []
  },
  {
   "cell_type": "code",
   "execution_count": null,
   "metadata": {},
   "outputs": [],
   "source": []
  },
  {
   "cell_type": "markdown",
   "metadata": {},
   "source": [
    "## **Ejercicio 3** (33%)\n",
    "\n",
    "Importe el dataset `athletes` del repositorio del curso y realice las siguientes tareas:\n",
    "\n",
    "1. Importarlo como nombre athletes\n",
    "2. Filtre el dataframe tal que solo se quede con los atletas que hayan ganado al menos una medalla.\n",
    "3. Calcule la masa muscular por fila con una función como\n",
    "\n",
    "$$I_{m.m.} = \\frac{Weight}{Height^2}$$\n",
    "\n",
    "4. Agrupe los datos por calculando la media por deporte para cada una del resto de características. ¿Cuál es el deporte en el que los jugadores tienen mayor peso promedio?\n",
    "\n",
    "5. ¿Cuál es el pais con más participación femenina?"
   ]
  },
  {
   "cell_type": "code",
   "execution_count": null,
   "metadata": {},
   "outputs": [],
   "source": []
  }
 ],
 "metadata": {
  "colab": {
   "provenance": []
  },
  "kernelspec": {
   "display_name": "Python 3",
   "language": "python",
   "name": "python3"
  },
  "language_info": {
   "codemirror_mode": {
    "name": "ipython",
    "version": 3
   },
   "file_extension": ".py",
   "mimetype": "text/x-python",
   "name": "python",
   "nbconvert_exporter": "python",
   "pygments_lexer": "ipython3",
   "version": "3.9.12"
  }
 },
 "nbformat": 4,
 "nbformat_minor": 4
}
