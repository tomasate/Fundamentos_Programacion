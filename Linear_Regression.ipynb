{
 "cells": [
  {
   "cell_type": "markdown",
   "metadata": {
    "id": "dUnTgCddJ5Aa"
   },
   "source": [
    "<p><img alt=\"Colaboratory logo\" height=\"140px\" src=\"https://upload.wikimedia.org/wikipedia/commons/archive/f/fb/20161010213812%21Escudo-UdeA.svg\" align=\"left\" hspace=\"10px\" vspace=\"0px\"></p>\n",
    "\n",
    "# **Fundamentos de programación**\n",
    "\n",
    "\n",
    "El presente curso hace parte de la especialización de analítica y ciencia de datos de la facultad de Ingeniería de la Universidad de Antioquia.\n",
    "\n",
    "## **Sesión 11**\n",
    "\n",
    "## **Contenido**\n",
    "\n",
    "- <a href=\"#reg\"> Aprendizaje supervisado: Regresión lineal</a><br>\n",
    "- <a href=\"#skl\"> Introducción a Sklearn</a><br>\n"
   ]
  },
  {
   "cell_type": "markdown",
   "metadata": {
    "id": "mKCPGr8-RFqc"
   },
   "source": [
    "# **Aprendizaje supervisado: Regresión**\n",
    "\n",
    "En el aprendizaje supervisado, los datos de entrada con los que alimentamos el algoritmo incluyen las soluciones deseadas, conocidas como *etiquetas*. Una tarea típica es la de la **regresión**, donde las etiquetas tienen una naturaleza continua.\n"
   ]
  },
  {
   "cell_type": "code",
   "execution_count": 1,
   "metadata": {
    "id": "xMlXj0-vS0aI"
   },
   "outputs": [
    {
     "name": "stderr",
     "output_type": "stream",
     "text": [
      "Matplotlib is building the font cache; this may take a moment.\n"
     ]
    }
   ],
   "source": [
    "import numpy as np\n",
    "import pandas as pd\n",
    "import matplotlib.pyplot as plt\n",
    "import seaborn as sns\n",
    "sns.set()"
   ]
  },
  {
   "cell_type": "markdown",
   "metadata": {
    "id": "XS2bI42deUjY"
   },
   "source": [
    "Recordemos entonces que hay 2 posibles tareas para el aprendizaje supervisado según la naturaleza de la variable objetivo."
   ]
  },
  {
   "cell_type": "code",
   "execution_count": 4,
   "metadata": {
    "id": "occYhuCoeoGp"
   },
   "outputs": [
    {
     "data": {
      "text/html": [
       "<div>\n",
       "<style scoped>\n",
       "    .dataframe tbody tr th:only-of-type {\n",
       "        vertical-align: middle;\n",
       "    }\n",
       "\n",
       "    .dataframe tbody tr th {\n",
       "        vertical-align: top;\n",
       "    }\n",
       "\n",
       "    .dataframe thead th {\n",
       "        text-align: right;\n",
       "    }\n",
       "</style>\n",
       "<table border=\"1\" class=\"dataframe\">\n",
       "  <thead>\n",
       "    <tr style=\"text-align: right;\">\n",
       "      <th></th>\n",
       "      <th>Correo</th>\n",
       "      <th>Spam</th>\n",
       "    </tr>\n",
       "  </thead>\n",
       "  <tbody>\n",
       "    <tr>\n",
       "      <th>0</th>\n",
       "      <td>Correo 1</td>\n",
       "      <td>1</td>\n",
       "    </tr>\n",
       "    <tr>\n",
       "      <th>1</th>\n",
       "      <td>Correo 2</td>\n",
       "      <td>0</td>\n",
       "    </tr>\n",
       "    <tr>\n",
       "      <th>2</th>\n",
       "      <td>Correo 3</td>\n",
       "      <td>0</td>\n",
       "    </tr>\n",
       "    <tr>\n",
       "      <th>3</th>\n",
       "      <td>Correo 4</td>\n",
       "      <td>0</td>\n",
       "    </tr>\n",
       "    <tr>\n",
       "      <th>4</th>\n",
       "      <td>Correo 5</td>\n",
       "      <td>1</td>\n",
       "    </tr>\n",
       "  </tbody>\n",
       "</table>\n",
       "</div>"
      ],
      "text/plain": [
       "     Correo  Spam\n",
       "0  Correo 1     1\n",
       "1  Correo 2     0\n",
       "2  Correo 3     0\n",
       "3  Correo 4     0\n",
       "4  Correo 5     1"
      ]
     },
     "execution_count": 4,
     "metadata": {},
     "output_type": "execute_result"
    }
   ],
   "source": [
    "corr = [f\"Correo {i}\" for i in range(1, 6)]\n",
    "sp = np.random.randint(2, size = 5)\n",
    "df1 = pd.DataFrame({\"Correo\": corr, \n",
    "                    \"Spam\": sp})\n",
    "df1"
   ]
  },
  {
   "cell_type": "markdown",
   "metadata": {
    "id": "-1DkNN0DeSFU"
   },
   "source": [
    "Consideremos el siguiente problema: Predecir las emisiones de CO2 dado el siguiente conjunto de datos."
   ]
  },
  {
   "cell_type": "code",
   "execution_count": 5,
   "metadata": {
    "id": "AGU8UyAlTLWU"
   },
   "outputs": [
    {
     "data": {
      "text/html": [
       "<div>\n",
       "<style scoped>\n",
       "    .dataframe tbody tr th:only-of-type {\n",
       "        vertical-align: middle;\n",
       "    }\n",
       "\n",
       "    .dataframe tbody tr th {\n",
       "        vertical-align: top;\n",
       "    }\n",
       "\n",
       "    .dataframe thead th {\n",
       "        text-align: right;\n",
       "    }\n",
       "</style>\n",
       "<table border=\"1\" class=\"dataframe\">\n",
       "  <thead>\n",
       "    <tr style=\"text-align: right;\">\n",
       "      <th></th>\n",
       "      <th>MODELYEAR</th>\n",
       "      <th>MAKE</th>\n",
       "      <th>MODEL</th>\n",
       "      <th>VEHICLECLASS</th>\n",
       "      <th>ENGINESIZE</th>\n",
       "      <th>CYLINDERS</th>\n",
       "      <th>TRANSMISSION</th>\n",
       "      <th>FUELTYPE</th>\n",
       "      <th>FUELCONSUMPTION_CITY</th>\n",
       "      <th>FUELCONSUMPTION_HWY</th>\n",
       "      <th>FUELCONSUMPTION_COMB</th>\n",
       "      <th>FUELCONSUMPTION_COMB_MPG</th>\n",
       "      <th>CO2EMISSIONS</th>\n",
       "    </tr>\n",
       "  </thead>\n",
       "  <tbody>\n",
       "    <tr>\n",
       "      <th>0</th>\n",
       "      <td>2014</td>\n",
       "      <td>ACURA</td>\n",
       "      <td>ILX</td>\n",
       "      <td>COMPACT</td>\n",
       "      <td>2.0</td>\n",
       "      <td>4</td>\n",
       "      <td>AS5</td>\n",
       "      <td>Z</td>\n",
       "      <td>9.9</td>\n",
       "      <td>6.7</td>\n",
       "      <td>8.5</td>\n",
       "      <td>33</td>\n",
       "      <td>196</td>\n",
       "    </tr>\n",
       "    <tr>\n",
       "      <th>1</th>\n",
       "      <td>2014</td>\n",
       "      <td>ACURA</td>\n",
       "      <td>ILX</td>\n",
       "      <td>COMPACT</td>\n",
       "      <td>2.4</td>\n",
       "      <td>4</td>\n",
       "      <td>M6</td>\n",
       "      <td>Z</td>\n",
       "      <td>11.2</td>\n",
       "      <td>7.7</td>\n",
       "      <td>9.6</td>\n",
       "      <td>29</td>\n",
       "      <td>221</td>\n",
       "    </tr>\n",
       "    <tr>\n",
       "      <th>2</th>\n",
       "      <td>2014</td>\n",
       "      <td>ACURA</td>\n",
       "      <td>ILX HYBRID</td>\n",
       "      <td>COMPACT</td>\n",
       "      <td>1.5</td>\n",
       "      <td>4</td>\n",
       "      <td>AV7</td>\n",
       "      <td>Z</td>\n",
       "      <td>6.0</td>\n",
       "      <td>5.8</td>\n",
       "      <td>5.9</td>\n",
       "      <td>48</td>\n",
       "      <td>136</td>\n",
       "    </tr>\n",
       "    <tr>\n",
       "      <th>3</th>\n",
       "      <td>2014</td>\n",
       "      <td>ACURA</td>\n",
       "      <td>MDX 4WD</td>\n",
       "      <td>SUV - SMALL</td>\n",
       "      <td>3.5</td>\n",
       "      <td>6</td>\n",
       "      <td>AS6</td>\n",
       "      <td>Z</td>\n",
       "      <td>12.7</td>\n",
       "      <td>9.1</td>\n",
       "      <td>11.1</td>\n",
       "      <td>25</td>\n",
       "      <td>255</td>\n",
       "    </tr>\n",
       "    <tr>\n",
       "      <th>4</th>\n",
       "      <td>2014</td>\n",
       "      <td>ACURA</td>\n",
       "      <td>RDX AWD</td>\n",
       "      <td>SUV - SMALL</td>\n",
       "      <td>3.5</td>\n",
       "      <td>6</td>\n",
       "      <td>AS6</td>\n",
       "      <td>Z</td>\n",
       "      <td>12.1</td>\n",
       "      <td>8.7</td>\n",
       "      <td>10.6</td>\n",
       "      <td>27</td>\n",
       "      <td>244</td>\n",
       "    </tr>\n",
       "  </tbody>\n",
       "</table>\n",
       "</div>"
      ],
      "text/plain": [
       "   MODELYEAR   MAKE       MODEL VEHICLECLASS  ENGINESIZE  CYLINDERS  \\\n",
       "0       2014  ACURA         ILX      COMPACT         2.0          4   \n",
       "1       2014  ACURA         ILX      COMPACT         2.4          4   \n",
       "2       2014  ACURA  ILX HYBRID      COMPACT         1.5          4   \n",
       "3       2014  ACURA     MDX 4WD  SUV - SMALL         3.5          6   \n",
       "4       2014  ACURA     RDX AWD  SUV - SMALL         3.5          6   \n",
       "\n",
       "  TRANSMISSION FUELTYPE  FUELCONSUMPTION_CITY  FUELCONSUMPTION_HWY  \\\n",
       "0          AS5        Z                   9.9                  6.7   \n",
       "1           M6        Z                  11.2                  7.7   \n",
       "2          AV7        Z                   6.0                  5.8   \n",
       "3          AS6        Z                  12.7                  9.1   \n",
       "4          AS6        Z                  12.1                  8.7   \n",
       "\n",
       "   FUELCONSUMPTION_COMB  FUELCONSUMPTION_COMB_MPG  CO2EMISSIONS  \n",
       "0                   8.5                        33           196  \n",
       "1                   9.6                        29           221  \n",
       "2                   5.9                        48           136  \n",
       "3                  11.1                        25           255  \n",
       "4                  10.6                        27           244  "
      ]
     },
     "execution_count": 5,
     "metadata": {},
     "output_type": "execute_result"
    }
   ],
   "source": [
    "df = pd.read_csv('https://raw.githubusercontent.com/tomasate/Datos_Clases/refs/heads/main/Datos_1/FuelConsumption.csv')\n",
    "df.head()"
   ]
  },
  {
   "cell_type": "markdown",
   "metadata": {
    "id": "X0I0k-qmeitx"
   },
   "source": [
    "Note que este es un problema de **aprendizaje supervisado**: Los datos de entrada incluyen las *etiquetas*. Como la variable a predecir es una etiqueta continua, entonces la tarea es de regresión.\n",
    "\n",
    "Para resolver el problema podemos construir un modelo lineal simple. ¿Cómo construir el modelo? Cuando hablamos de modelo, normalmente nos referimos a alguna expresión matemática o a un conjunto de ecuaciones. En el caso de la regresión lineal, el modelo es una función lineal de las características predictoras $X$\n",
    "\n",
    "\n",
    "\n",
    "\n",
    "\n",
    "\n"
   ]
  },
  {
   "cell_type": "markdown",
   "metadata": {
    "id": "LIRPGwQVuBGr"
   },
   "source": [
    "$$\\hat{y}(X) = w_0 + w_1 x_1 + \\cdots + w_n x_n = W^T \\cdot X $$\n"
   ]
  },
  {
   "cell_type": "markdown",
   "metadata": {
    "id": "NBTrtfXmuCpn"
   },
   "source": [
    "Donde $$W =\n",
    " \\begin{pmatrix}\n",
    "  w_0 \\\\\n",
    "  w_1 \\\\\n",
    "  \\vdots \\\\\n",
    "  w_n\n",
    " \\end{pmatrix}$$ son los parámetros del modelo. De manera más general, un modelo lineal hace una predicción calculando una suma pesada de las características de entrada, más una constante conocida como el término de sesgo $w_0$.\n",
    "\n",
    "Para simplificar el problema, utilicemos una única característica predictora:"
   ]
  },
  {
   "cell_type": "code",
   "execution_count": 8,
   "metadata": {
    "id": "f1Kxdvupi2-j"
   },
   "outputs": [
    {
     "data": {
      "image/png": "[encoded data removed]",
      "text/plain": [
       "<Figure size 432x288 with 1 Axes>"
      ]
     },
     "metadata": {
      "needs_background": "light"
     },
     "output_type": "display_data"
    }
   ],
   "source": [
    "sns.scatterplot(data = df, x = 'FUELCONSUMPTION_CITY', y = 'CO2EMISSIONS');"
   ]
  },
  {
   "cell_type": "markdown",
   "metadata": {
    "id": "jbE0YSVhjBsK"
   },
   "source": [
    "En este caso el modelo toma la forma\n",
    "\n",
    "$$\\hat{y}(x_1) = w_0 + w_1 x_1$$\n",
    "\n",
    "¿Cómo elegir los valores de $W$ de tal manera que obtengamos el mejor modelo posible?"
   ]
  },
  {
   "cell_type": "markdown",
   "metadata": {
    "id": "LYby8OUQgr-e"
   },
   "source": [
    "<p><img alt=\"Colaboratory logo\" height=\"300px\" src=\"https://i.imgur.com/U3GzGtz.png\" align=\"center\" hspace=\"10px\" vspace=\"0px\"></p>"
   ]
  },
  {
   "cell_type": "markdown",
   "metadata": {
    "id": "TuwfEUzmjaTB"
   },
   "source": [
    "**Estadística clásica:**\n",
    "\n",
    "En el caso de la estadística clásica, lo que se hace es minimizar el error cuadrático medio (MSE)\n",
    "\n",
    "\n",
    "$$MSE =\\frac{1}{n}\\sum_{i=0}^{n} \\left(y_i-\\hat{y}\\right)^2$$\n",
    "\n",
    "donde $y_i$ son los valores observados y $n$ el número de instancias. El proceso de optimización (minimización) tiene una solución cerrada conocida como la ecuación normal:\n",
    "\n",
    "$$W=(X^{T}X)^{-1} X^{T}y$$\n",
    "\n"
   ]
  },
  {
   "cell_type": "markdown",
   "metadata": {
    "id": "85KVKwL4d1rW"
   },
   "source": [
    "**ML**\n",
    "\n",
    "En el ML, se realiza un proceso similar, donde la función a minimizar (en este caso el MSE) se conoce generalmente como **función de costo/pérdida**\n",
    "\n",
    "$$L =\\frac{1}{n}\\sum_{i=0}^{n} \\left[y_i-\\hat{y}\\right]^2$$\n",
    "\n",
    "Y el proceso de optimización que permite encontrar los parámetros $W$ que minimicen la función de costo/pérdida se conoce como *entrenamiento* del modelo.\n",
    "\n",
    "¿Cuál es entonces la diferencia entre ambas aproximaciones al problema?\n",
    "\n",
    "La principal diferencia entre el ML y la estadística clásica es su propósito y la forma en que evaluamos los modelos.\n",
    "\n",
    "Respecto al propósito, podemos decir que los modelos de ML están diseñados para realizar las predicciones más precisas posibles: Una vez los modelos \"aprendan\" los parámetros $W$, pueden ser utilizados para estimar valores de $y$ dados nuevos valores de $X$.\n",
    "\n",
    "Los modelos estadísticos están diseñados para realizar inferencias sobre las relaciones entre las variables.\n",
    "\n"
   ]
  },
  {
   "cell_type": "markdown",
   "metadata": {
    "id": "CbiFDKNozxw0"
   },
   "source": [
    "**Machine Learning (ML): Terminología**\n",
    "\n",
    "Existen conceptos clave que sientan las bases para una mejor comprensión del ML. Veamos la nomenclatura (términos estándar) que se utiliza para describir los datos, así como los términos utilizados para describir el aprendizaje y el modelado.\n",
    "\n",
    "La estructura tradicional para los datos en el campo del ML tienen la siguiente forma:\n",
    "\n",
    "![picture](https://miro.medium.com/v2/resize:fit:1136/1*-8_kogvwmL1H6ooN1A1tsQ.png)"
   ]
  },
  {
   "cell_type": "markdown",
   "metadata": {
    "id": "lxItwnygz_x7"
   },
   "source": [
    "Vemos que en el caso del ML hacemos algo llamado *entrenar* el modelo, que implica usar un subconjunto de nuestros datos, y no sabemos qué tan bien funcionará el modelo hasta que 'probamos' estos datos en datos adicionales que no estaban presentes durante el entrenamiento, llamado *conjunto de prueba*. **El propósito del ML, en este caso, es obtener el mejor rendimiento posible en el conjunto de prueba.**\n",
    "\n",
    "Para el modelo estadístico, encontramos una línea que minimiza el error cuadrático. No es necesario ningún conjunto de entrenamiento ni de prueba. Para muchos casos, el objetivo de nuestro modelo es caracterizar la relación entre los datos y nuestra variable objetivo, no hacer predicciones sobre datos futuros. A este procedimiento lo llamamos *inferencia estadística*, en oposición a predicción. Sin embargo, todavía podemos usar este modelo para hacer predicciones, y este puede ser su propósito principal, pero la forma en que se evalúa el modelo no implicará un conjunto de prueba y, en cambio, implicará evaluar la significancia y la robustes de los parámetros del modelo.\n",
    "\n",
    "Debe quedar claro que estos dos enfoques son diferentes en su objetivo, a pesar de utilizar medios similares. La evaluación del algoritmo de ML utiliza un conjunto de prueba para validar su precisión. Mientras que, para un modelo estadístico, el análisis de los parámetros de la regresión se hace a través de intervalos de confianza, pruebas de significancia y demás pruebas estadísticas que permitan evaluar la calidad del modelo. Dado que estos métodos producen el mismo resultado, es fácil ver por qué se podría suponer que son iguales."
   ]
  },
  {
   "cell_type": "markdown",
   "metadata": {
    "id": "xoy6Z9lVETyu"
   },
   "source": [
    "**Ejercicio**\n",
    "\n",
    "Usar la ecuacion\n",
    "\\begin{equation}\n",
    "W = (X^T\\cdot X)^{-1} \\cdot X^T \\cdot y\n",
    "\\end{equation}\n",
    "para hallar los pesos $W$\n"
   ]
  },
  {
   "cell_type": "code",
   "execution_count": 13,
   "metadata": {
    "id": "5HabTV1-qW35"
   },
   "outputs": [
    {
     "data": {
      "text/plain": [
       "(1067, 2)"
      ]
     },
     "execution_count": 13,
     "metadata": {},
     "output_type": "execute_result"
    }
   ],
   "source": [
    "X = np.c_[np.ones(len(df)), df['FUELCONSUMPTION_CITY'].values]\n",
    "X.shape"
   ]
  },
  {
   "cell_type": "markdown",
   "metadata": {
    "id": "nGcOZaZ7rEAo"
   },
   "source": [
    "###**NOTACIÓN**\n",
    "Si el modelo tiene una sola característica entonces mi variable objetivo la llamaremos $y$ i.e.\n",
    "\n",
    "$$y(x) = \\alpha_0+\\alpha_1x_1$$\n",
    "\n",
    "Si el modelo tiene dos características, entonces mi variable objetivo la llamaremos $z$ i.e.\n",
    "\n",
    "$$z(x) = \\alpha_0+\\alpha_1x_1+\\alpha_2x_2$$"
   ]
  },
  {
   "cell_type": "code",
   "execution_count": 15,
   "metadata": {
    "id": "XyawnX4zEVlH"
   },
   "outputs": [],
   "source": [
    "y = df['CO2EMISSIONS'].values"
   ]
  },
  {
   "cell_type": "markdown",
   "metadata": {
    "id": "yfbgL6UprrsX"
   },
   "source": [
    "\\begin{equation}\n",
    "W = (X^T\\cdot X)^{-1} \\cdot X^T \\cdot y\n",
    "\\end{equation}"
   ]
  },
  {
   "cell_type": "code",
   "execution_count": 16,
   "metadata": {
    "id": "F_1xB65h1WQK"
   },
   "outputs": [],
   "source": [
    "W = np.linalg.inv(X.T @ X) @ X.T @ y\n",
    "w0 = W[0]\n",
    "w1 = W[1]"
   ]
  },
  {
   "cell_type": "code",
   "execution_count": 17,
   "metadata": {
    "id": "pzfEOtoSFxFM"
   },
   "outputs": [
    {
     "name": "stdout",
     "output_type": "stream",
     "text": [
      "71.72022839690294 13.876433758158996\n"
     ]
    }
   ],
   "source": [
    "print(w0, w1)"
   ]
  },
  {
   "cell_type": "code",
   "execution_count": 19,
   "metadata": {
    "id": "ksAwbLdQNzeh"
   },
   "outputs": [
    {
     "data": {
      "image/png": "[encoded data removed]",
      "text/plain": [
       "<Figure size 720x648 with 1 Axes>"
      ]
     },
     "metadata": {
      "needs_background": "light"
     },
     "output_type": "display_data"
    }
   ],
   "source": [
    "plt.figure(figsize = (10, 9))\n",
    "sns.scatterplot(data = df, x = 'FUELCONSUMPTION_CITY', y = 'CO2EMISSIONS')\n",
    "plt.plot(X, w0 + w1*X, 'r');"
   ]
  },
  {
   "cell_type": "markdown",
   "metadata": {
    "id": "FCdXYq0vv7o4"
   },
   "source": [
    "Obtengamos la predicción del modelo para un nuevo valor $X_n$"
   ]
  },
  {
   "cell_type": "code",
   "execution_count": 20,
   "metadata": {
    "id": "WYHAV5fqFxTp"
   },
   "outputs": [
    {
     "data": {
      "text/plain": [
       "array([ 1, 12])"
      ]
     },
     "execution_count": 20,
     "metadata": {},
     "output_type": "execute_result"
    }
   ],
   "source": [
    "x_n = np.array([1, 12])\n",
    "x_n"
   ]
  },
  {
   "cell_type": "code",
   "execution_count": 22,
   "metadata": {
    "id": "Fxopy2_uLtfd"
   },
   "outputs": [
    {
     "data": {
      "text/plain": [
       "238.2374334948109"
      ]
     },
     "execution_count": 22,
     "metadata": {},
     "output_type": "execute_result"
    }
   ],
   "source": [
    "y_pred = W @ x_n\n",
    "y_pred"
   ]
  },
  {
   "cell_type": "markdown",
   "metadata": {
    "id": "SzVbn1yYs3sX"
   },
   "source": [
    "**Clases**\n",
    "\n",
    "Las clases proporcionan un medio de agrupar datos y \"funcionalidad\". La creación de una nueva clase crea un nuevo tipo de objeto, lo que permite crear nuevas *instancias* de ese tipo. Cada instancia de la clase puede tener sus propios atributos. Las instancias de una clase también pueden tener *métodos* (definidos por su clase) para modificar su estado.\n"
   ]
  },
  {
   "cell_type": "markdown",
   "metadata": {
    "id": "mOtXgjqtoeUD"
   },
   "source": [
    "Podemos además crear funciones o métodos para la misma clase."
   ]
  },
  {
   "cell_type": "markdown",
   "metadata": {
    "id": "ES_PtE23uYHQ"
   },
   "source": [
    "\n",
    "Definamos una clase `LinearRegression`cuyos métodos nos permitan entrenar un modelo de regresión lineal (`fit`) y realizar predicciones a partir del modelo entrenado (`predict`)"
   ]
  },
  {
   "cell_type": "code",
   "execution_count": 53,
   "metadata": {
    "id": "SbxfHrpXubVV"
   },
   "outputs": [],
   "source": [
    "class RegresionLineal:\n",
    "\n",
    "    def fit(self, X1, y1):\n",
    "        self.X = np.c_[np.ones(len(X1)), X1]\n",
    "        self.y = y1\n",
    "        \n",
    "        self.W = np.linalg.inv(self.X.T @ self.X) @ self.X.T @ self.y\n",
    "        return None\n",
    "    def predict(self, x):\n",
    "        x_n = np.array([1,x])\n",
    "        return self.W @ x_n\n",
    "\n",
    "    def plot(self, x_label, y_label):\n",
    "        plt.figure(figsize = (10, 9))\n",
    "        \n",
    "        plt.scatter(self.X[:,1], self.y, label = 'data')\n",
    "        plt.plot(self.X[:,1], self.X @ W , 'r', label = 'prediction')\n",
    "        plt.xlabel(x_label)\n",
    "        plt.ylabel(y_label)\n",
    "        plt.legend();\n",
    "\n",
    "    "
   ]
  },
  {
   "cell_type": "code",
   "execution_count": 54,
   "metadata": {
    "id": "bpJQ2qKlunuR"
   },
   "outputs": [
    {
     "data": {
      "text/plain": [
       "<__main__.RegresionLineal at 0x7f04ae0fb700>"
      ]
     },
     "execution_count": 54,
     "metadata": {},
     "output_type": "execute_result"
    }
   ],
   "source": [
    "model = RegresionLineal()\n",
    "model"
   ]
  },
  {
   "cell_type": "code",
   "execution_count": 55,
   "metadata": {
    "id": "v2rm_MbVun_q"
   },
   "outputs": [],
   "source": [
    "model.fit(df['FUELCONSUMPTION_CITY'], df['CO2EMISSIONS'])"
   ]
  },
  {
   "cell_type": "code",
   "execution_count": 56,
   "metadata": {
    "id": "GTEsZ7YQvKD0"
   },
   "outputs": [
    {
     "name": "stdout",
     "output_type": "stream",
     "text": [
      "[71.7202284  13.87643376]\n"
     ]
    }
   ],
   "source": [
    "print(model.W)"
   ]
  },
  {
   "cell_type": "code",
   "execution_count": 57,
   "metadata": {},
   "outputs": [
    {
     "data": {
      "text/plain": [
       "238.2374334948109"
      ]
     },
     "execution_count": 57,
     "metadata": {},
     "output_type": "execute_result"
    }
   ],
   "source": [
    "model.predict(12)"
   ]
  },
  {
   "cell_type": "code",
   "execution_count": 58,
   "metadata": {},
   "outputs": [
    {
     "data": {
      "image/png": "[encoded data removed]",
      "text/plain": [
       "<Figure size 720x648 with 1 Axes>"
      ]
     },
     "metadata": {
      "needs_background": "light"
     },
     "output_type": "display_data"
    }
   ],
   "source": [
    "model.plot('FUELCONSUMPTION_CITY', 'CO2EMISSIONS')"
   ]
  },
  {
   "cell_type": "code",
   "execution_count": null,
   "metadata": {
    "id": "vHLyqWEN1GKH"
   },
   "outputs": [],
   "source": []
  },
  {
   "cell_type": "markdown",
   "metadata": {
    "id": "_xZlm8m5J_UU"
   },
   "source": [
    "<p><a name=\"skl\"></a></p>\n",
    "\n",
    "# **Introducción a Sklearn (Sci-kit Learn)**\n",
    "\n",
    "[Sklearn](https://scikit-learn.org/stable/index.html) nos proporciona una colección de clases y funciones relacionadas con ML que podemos importar en nuestros programas. Entre otras cosas, incluye algoritmos de ML clásicos, herramientas para la evaluación de modelos, así como elementos para el preprocesamiento de los datos.\n",
    "\n",
    "Todos los objetos dentro de scikit-learn comparten una API básica que consta de tres interfaces complementarias: una interfaz de estimador para construir y ajustar modelos, una interfaz de predicción y una interfaz de transformación para los datos.\n",
    "\n",
    "\n",
    "\n",
    "\n",
    "\n",
    "\n",
    "\n",
    "\n",
    "\n",
    "\n",
    "\n",
    "\n",
    "\n",
    "\n",
    "\n",
    "\n"
   ]
  },
  {
   "cell_type": "markdown",
   "metadata": {
    "id": "BTXqp0JOvd6I"
   },
   "source": [
    "**Estimador**\n",
    "\n",
    "La interfaz del estimador es el núcleo de la libreria. Define los mecanismos para la creación de los objetos. Todos los algoritmos de aprendizaje supervisado ​​y no supervisado se presentan como objetos que implementan esta interfaz.\n",
    "\n",
    "Cualquier objeto que pueda estimar algunos parámetros basados en un conjunto de datos se llama estimador. Por ejemplo, el objeto `LinearRegression`, nos permite obtener un modelo de regresion lineal (estimar los parámetros $W$), es un ejemplo de estimador."
   ]
  },
  {
   "cell_type": "code",
   "execution_count": 60,
   "metadata": {
    "id": "8KcifEYvJ4UU",
    "scrolled": true
   },
   "outputs": [
    {
     "data": {
      "text/plain": [
       "\u001b[0;31mInit signature:\u001b[0m\n",
       "\u001b[0mLinearRegression\u001b[0m\u001b[0;34m(\u001b[0m\u001b[0;34m\u001b[0m\n",
       "\u001b[0;34m\u001b[0m    \u001b[0;34m*\u001b[0m\u001b[0;34m,\u001b[0m\u001b[0;34m\u001b[0m\n",
       "\u001b[0;34m\u001b[0m    \u001b[0mfit_intercept\u001b[0m\u001b[0;34m=\u001b[0m\u001b[0;32mTrue\u001b[0m\u001b[0;34m,\u001b[0m\u001b[0;34m\u001b[0m\n",
       "\u001b[0;34m\u001b[0m    \u001b[0mnormalize\u001b[0m\u001b[0;34m=\u001b[0m\u001b[0;34m'deprecated'\u001b[0m\u001b[0;34m,\u001b[0m\u001b[0;34m\u001b[0m\n",
       "\u001b[0;34m\u001b[0m    \u001b[0mcopy_X\u001b[0m\u001b[0;34m=\u001b[0m\u001b[0;32mTrue\u001b[0m\u001b[0;34m,\u001b[0m\u001b[0;34m\u001b[0m\n",
       "\u001b[0;34m\u001b[0m    \u001b[0mn_jobs\u001b[0m\u001b[0;34m=\u001b[0m\u001b[0;32mNone\u001b[0m\u001b[0;34m,\u001b[0m\u001b[0;34m\u001b[0m\n",
       "\u001b[0;34m\u001b[0m    \u001b[0mpositive\u001b[0m\u001b[0;34m=\u001b[0m\u001b[0;32mFalse\u001b[0m\u001b[0;34m,\u001b[0m\u001b[0;34m\u001b[0m\n",
       "\u001b[0;34m\u001b[0m\u001b[0;34m)\u001b[0m\u001b[0;34m\u001b[0m\u001b[0;34m\u001b[0m\u001b[0m\n",
       "\u001b[0;31mDocstring:\u001b[0m     \n",
       "Ordinary least squares Linear Regression.\n",
       "\n",
       "LinearRegression fits a linear model with coefficients w = (w1, ..., wp)\n",
       "to minimize the residual sum of squares between the observed targets in\n",
       "the dataset, and the targets predicted by the linear approximation.\n",
       "\n",
       "Parameters\n",
       "----------\n",
       "fit_intercept : bool, default=True\n",
       "    Whether to calculate the intercept for this model. If set\n",
       "    to False, no intercept will be used in calculations\n",
       "    (i.e. data is expected to be centered).\n",
       "\n",
       "normalize : bool, default=False\n",
       "    This parameter is ignored when ``fit_intercept`` is set to False.\n",
       "    If True, the regressors X will be normalized before regression by\n",
       "    subtracting the mean and dividing by the l2-norm.\n",
       "    If you wish to standardize, please use\n",
       "    :class:`~sklearn.preprocessing.StandardScaler` before calling ``fit``\n",
       "    on an estimator with ``normalize=False``.\n",
       "\n",
       "    .. deprecated:: 1.0\n",
       "       `normalize` was deprecated in version 1.0 and will be\n",
       "       removed in 1.2.\n",
       "\n",
       "copy_X : bool, default=True\n",
       "    If True, X will be copied; else, it may be overwritten.\n",
       "\n",
       "n_jobs : int, default=None\n",
       "    The number of jobs to use for the computation. This will only provide\n",
       "    speedup in case of sufficiently large problems, that is if firstly\n",
       "    `n_targets > 1` and secondly `X` is sparse or if `positive` is set\n",
       "    to `True`. ``None`` means 1 unless in a\n",
       "    :obj:`joblib.parallel_backend` context. ``-1`` means using all\n",
       "    processors. See :term:`Glossary <n_jobs>` for more details.\n",
       "\n",
       "positive : bool, default=False\n",
       "    When set to ``True``, forces the coefficients to be positive. This\n",
       "    option is only supported for dense arrays.\n",
       "\n",
       "    .. versionadded:: 0.24\n",
       "\n",
       "Attributes\n",
       "----------\n",
       "coef_ : array of shape (n_features, ) or (n_targets, n_features)\n",
       "    Estimated coefficients for the linear regression problem.\n",
       "    If multiple targets are passed during the fit (y 2D), this\n",
       "    is a 2D array of shape (n_targets, n_features), while if only\n",
       "    one target is passed, this is a 1D array of length n_features.\n",
       "\n",
       "rank_ : int\n",
       "    Rank of matrix `X`. Only available when `X` is dense.\n",
       "\n",
       "singular_ : array of shape (min(X, y),)\n",
       "    Singular values of `X`. Only available when `X` is dense.\n",
       "\n",
       "intercept_ : float or array of shape (n_targets,)\n",
       "    Independent term in the linear model. Set to 0.0 if\n",
       "    `fit_intercept = False`.\n",
       "\n",
       "n_features_in_ : int\n",
       "    Number of features seen during :term:`fit`.\n",
       "\n",
       "    .. versionadded:: 0.24\n",
       "\n",
       "feature_names_in_ : ndarray of shape (`n_features_in_`,)\n",
       "    Names of features seen during :term:`fit`. Defined only when `X`\n",
       "    has feature names that are all strings.\n",
       "\n",
       "    .. versionadded:: 1.0\n",
       "\n",
       "See Also\n",
       "--------\n",
       "Ridge : Ridge regression addresses some of the\n",
       "    problems of Ordinary Least Squares by imposing a penalty on the\n",
       "    size of the coefficients with l2 regularization.\n",
       "Lasso : The Lasso is a linear model that estimates\n",
       "    sparse coefficients with l1 regularization.\n",
       "ElasticNet : Elastic-Net is a linear regression\n",
       "    model trained with both l1 and l2 -norm regularization of the\n",
       "    coefficients.\n",
       "\n",
       "Notes\n",
       "-----\n",
       "From the implementation point of view, this is just plain Ordinary\n",
       "Least Squares (scipy.linalg.lstsq) or Non Negative Least Squares\n",
       "(scipy.optimize.nnls) wrapped as a predictor object.\n",
       "\n",
       "Examples\n",
       "--------\n",
       ">>> import numpy as np\n",
       ">>> from sklearn.linear_model import LinearRegression\n",
       ">>> X = np.array([[1, 1], [1, 2], [2, 2], [2, 3]])\n",
       ">>> # y = 1 * x_0 + 2 * x_1 + 3\n",
       ">>> y = np.dot(X, np.array([1, 2])) + 3\n",
       ">>> reg = LinearRegression().fit(X, y)\n",
       ">>> reg.score(X, y)\n",
       "1.0\n",
       ">>> reg.coef_\n",
       "array([1., 2.])\n",
       ">>> reg.intercept_\n",
       "3.0...\n",
       ">>> reg.predict(np.array([[3, 5]]))\n",
       "array([16.])\n",
       "\u001b[0;31mFile:\u001b[0m           ~/.local/lib/python3.9/site-packages/sklearn/linear_model/_base.py\n",
       "\u001b[0;31mType:\u001b[0m           ABCMeta\n",
       "\u001b[0;31mSubclasses:\u001b[0m     \n"
      ]
     },
     "metadata": {},
     "output_type": "display_data"
    }
   ],
   "source": [
    "from sklearn.linear_model import LinearRegression\n",
    "LinearRegression?"
   ]
  },
  {
   "cell_type": "markdown",
   "metadata": {
    "id": "mR0zsfZAv6Qc"
   },
   "source": [
    "Ahora, La inicialización del estimador y el entrenamiento realmente están estrictamente separados. Inicialicemos el estimador:"
   ]
  },
  {
   "cell_type": "code",
   "execution_count": 63,
   "metadata": {
    "id": "kntMd4fPv39I"
   },
   "outputs": [
    {
     "data": {
      "text/plain": [
       "(1067, 1)"
      ]
     },
     "execution_count": 63,
     "metadata": {},
     "output_type": "execute_result"
    }
   ],
   "source": [
    "X = df[['FUELCONSUMPTION_CITY']]\n",
    "y = df['CO2EMISSIONS']\n",
    "X.shape"
   ]
  },
  {
   "cell_type": "markdown",
   "metadata": {
    "id": "32osNsutwCMi"
   },
   "source": [
    "Ahora en este punto debemos diferenciar dos elementos del proceso: Los parametros y los hiperparametros.\n",
    "\n",
    "* **Parámetros:** Son aquellos parámetros que pertenecen al modelo y que se utilizan en el entrenamiendo, que como vimos es simplemente el proceso de optimización de estos parámetros respecto a alguna función de pérdida que se defina.\n",
    "\n",
    "* **Hiperparámetros:** Son parametros del algoritmo y no del modelo como tal. Estos son parametros que se deben definir previo al proceso de entrenamiento y que permanecerán constantes durante este proceso.\n",
    "\n",
    "\n",
    "Un estimador se inicializa a partir de un conjunto de hiperparámetros constantes. Podemos considerar el estimador como una función que asigna estos hiperparámetros a los algoritmos de aprendizaje.\n",
    "\n",
    "Noten que el constructor de un estimador no utiliza ningún dato como tal, ni realiza ningún aprendizaje real. Todo lo que hace es proporcionar los hiperparámetros especificados al objeto.\n",
    "\n",
    "El aprendizaje real se realiza mediante el método `fit`. Este método toma como argumentos los datos de entrenamiento"
   ]
  },
  {
   "cell_type": "markdown",
   "metadata": {
    "id": "1rXUr6YhxjfC"
   },
   "source": [
    "El método `fit` se encarga de ejecutar un algoritmo de aprendizaje y determinar los parámetros específicos del modelo a partir de los datos de entrenamiento y establecer estos parámetros como atributos del objeto\n",
    "\n",
    "\n"
   ]
  },
  {
   "cell_type": "code",
   "execution_count": 64,
   "metadata": {
    "id": "c-z7Nx9A4VjK"
   },
   "outputs": [
    {
     "data": {
      "text/html": [
       "<style>#sk-container-id-1 {color: black;background-color: white;}#sk-container-id-1 pre{padding: 0;}#sk-container-id-1 div.sk-toggleable {background-color: white;}#sk-container-id-1 label.sk-toggleable__label {cursor: pointer;display: block;width: 100%;margin-bottom: 0;padding: 0.3em;box-sizing: border-box;text-align: center;}#sk-container-id-1 label.sk-toggleable__label-arrow:before {content: \"▸\";float: left;margin-right: 0.25em;color: #696969;}#sk-container-id-1 label.sk-toggleable__label-arrow:hover:before {color: black;}#sk-container-id-1 div.sk-estimator:hover label.sk-toggleable__label-arrow:before {color: black;}#sk-container-id-1 div.sk-toggleable__content {max-height: 0;max-width: 0;overflow: hidden;text-align: left;background-color: #f0f8ff;}#sk-container-id-1 div.sk-toggleable__content pre {margin: 0.2em;color: black;border-radius: 0.25em;background-color: #f0f8ff;}#sk-container-id-1 input.sk-toggleable__control:checked~div.sk-toggleable__content {max-height: 200px;max-width: 100%;overflow: auto;}#sk-container-id-1 input.sk-toggleable__control:checked~label.sk-toggleable__label-arrow:before {content: \"▾\";}#sk-container-id-1 div.sk-estimator input.sk-toggleable__control:checked~label.sk-toggleable__label {background-color: #d4ebff;}#sk-container-id-1 div.sk-label input.sk-toggleable__control:checked~label.sk-toggleable__label {background-color: #d4ebff;}#sk-container-id-1 input.sk-hidden--visually {border: 0;clip: rect(1px 1px 1px 1px);clip: rect(1px, 1px, 1px, 1px);height: 1px;margin: -1px;overflow: hidden;padding: 0;position: absolute;width: 1px;}#sk-container-id-1 div.sk-estimator {font-family: monospace;background-color: #f0f8ff;border: 1px dotted black;border-radius: 0.25em;box-sizing: border-box;margin-bottom: 0.5em;}#sk-container-id-1 div.sk-estimator:hover {background-color: #d4ebff;}#sk-container-id-1 div.sk-parallel-item::after {content: \"\";width: 100%;border-bottom: 1px solid gray;flex-grow: 1;}#sk-container-id-1 div.sk-label:hover label.sk-toggleable__label {background-color: #d4ebff;}#sk-container-id-1 div.sk-serial::before {content: \"\";position: absolute;border-left: 1px solid gray;box-sizing: border-box;top: 0;bottom: 0;left: 50%;z-index: 0;}#sk-container-id-1 div.sk-serial {display: flex;flex-direction: column;align-items: center;background-color: white;padding-right: 0.2em;padding-left: 0.2em;position: relative;}#sk-container-id-1 div.sk-item {position: relative;z-index: 1;}#sk-container-id-1 div.sk-parallel {display: flex;align-items: stretch;justify-content: center;background-color: white;position: relative;}#sk-container-id-1 div.sk-item::before, #sk-container-id-1 div.sk-parallel-item::before {content: \"\";position: absolute;border-left: 1px solid gray;box-sizing: border-box;top: 0;bottom: 0;left: 50%;z-index: -1;}#sk-container-id-1 div.sk-parallel-item {display: flex;flex-direction: column;z-index: 1;position: relative;background-color: white;}#sk-container-id-1 div.sk-parallel-item:first-child::after {align-self: flex-end;width: 50%;}#sk-container-id-1 div.sk-parallel-item:last-child::after {align-self: flex-start;width: 50%;}#sk-container-id-1 div.sk-parallel-item:only-child::after {width: 0;}#sk-container-id-1 div.sk-dashed-wrapped {border: 1px dashed gray;margin: 0 0.4em 0.5em 0.4em;box-sizing: border-box;padding-bottom: 0.4em;background-color: white;}#sk-container-id-1 div.sk-label label {font-family: monospace;font-weight: bold;display: inline-block;line-height: 1.2em;}#sk-container-id-1 div.sk-label-container {text-align: center;}#sk-container-id-1 div.sk-container {/* jupyter's `normalize.less` sets `[hidden] { display: none; }` but bootstrap.min.css set `[hidden] { display: none !important; }` so we also need the `!important` here to be able to override the default hidden behavior on the sphinx rendered scikit-learn.org. See: https://github.com/scikit-learn/scikit-learn/issues/21755 */display: inline-block !important;position: relative;}#sk-container-id-1 div.sk-text-repr-fallback {display: none;}</style><div id=\"sk-container-id-1\" class=\"sk-top-container\"><div class=\"sk-text-repr-fallback\"><pre>LinearRegression()</pre><b>In a Jupyter environment, please rerun this cell to show the HTML representation or trust the notebook. <br />On GitHub, the HTML representation is unable to render, please try loading this page with nbviewer.org.</b></div><div class=\"sk-container\" hidden><div class=\"sk-item\"><div class=\"sk-estimator sk-toggleable\"><input class=\"sk-toggleable__control sk-hidden--visually\" id=\"sk-estimator-id-1\" type=\"checkbox\" checked><label for=\"sk-estimator-id-1\" class=\"sk-toggleable__label sk-toggleable__label-arrow\">LinearRegression</label><div class=\"sk-toggleable__content\"><pre>LinearRegression()</pre></div></div></div></div></div>"
      ],
      "text/plain": [
       "LinearRegression()"
      ]
     },
     "execution_count": 64,
     "metadata": {},
     "output_type": "execute_result"
    }
   ],
   "source": [
    "model = LinearRegression()\n",
    "model.fit(X, y)"
   ]
  },
  {
   "cell_type": "markdown",
   "metadata": {
    "id": "SbIILk9Ix8rE"
   },
   "source": [
    "En scikit-learn, los algoritmos de aprendizaje clásicos no son los únicos objetos que se implementan como estimadores. Por ejemplo, las rutinas de preprocesamiento, que veremos más adelante, también implementan la interfaz del estimador."
   ]
  },
  {
   "cell_type": "code",
   "execution_count": 65,
   "metadata": {
    "id": "vu5uCjS3v-nh"
   },
   "outputs": [
    {
     "name": "stdout",
     "output_type": "stream",
     "text": [
      "Cesgo del modelo: 71.72022839690194\n",
      "Pendiente del modelo: [13.87643376]\n"
     ]
    }
   ],
   "source": [
    "print(f\"Cesgo del modelo: {model.intercept_}\")\n",
    "print(f\"Pendiente del modelo: {model.coef_}\")"
   ]
  },
  {
   "cell_type": "markdown",
   "metadata": {
    "id": "F5z25pUpyW6l"
   },
   "source": [
    "**Predictor**\n",
    "\n",
    "La interfaz del predictor amplía la noción de un estimador al agregar un método de predicción  `predict` que toma un conjunto de datos de nuevas instancias y devuelve un conjunto de datos de predicciones correspondientes"
   ]
  },
  {
   "cell_type": "code",
   "execution_count": 75,
   "metadata": {
    "id": "CwyE83Ye4Ee7"
   },
   "outputs": [
    {
     "data": {
      "text/plain": [
       "array([238.23743349, 252.11386725])"
      ]
     },
     "execution_count": 75,
     "metadata": {},
     "output_type": "execute_result"
    }
   ],
   "source": [
    "model.predict(pd.DataFrame(data = [12, 13], columns = ['FUELCONSUMPTION_CITY']))"
   ]
  },
  {
   "cell_type": "markdown",
   "metadata": {
    "id": "job2LpBwyfwd"
   },
   "source": [
    "Ahora, Además de `predict`, los predictores también pueden implementar algunos métodos que cuantifican la confianza de las predicciones más que la prediccion como tal. Por ejemplo, si tenemos como salida un clase binaria o múltiple, en muchos casos más que saber la predicción del modelo, vamos a querer saber cuál es la probabilidad de que la salida pertenezca a una clase u otra.\n",
    "\n",
    "Los predictores También tiene un método `score` que mide la calidad de las predicciones dado un conjunto de prueba. Esto lo veremos de mejor manera cuando estudiemos las métricas para la evaluación de los modelos.\n"
   ]
  }
 ],
 "metadata": {
  "colab": {
   "provenance": []
  },
  "kernelspec": {
   "display_name": "Python 3",
   "language": "python",
   "name": "python3"
  },
  "language_info": {
   "codemirror_mode": {
    "name": "ipython",
    "version": 3
   },
   "file_extension": ".py",
   "mimetype": "text/x-python",
   "name": "python",
   "nbconvert_exporter": "python",
   "pygments_lexer": "ipython3",
   "version": "3.9.12"
  }
 },
 "nbformat": 4,
 "nbformat_minor": 4
}
